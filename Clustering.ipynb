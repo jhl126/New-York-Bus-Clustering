{
 "cells": [
  {
   "cell_type": "code",
   "execution_count": 1,
   "metadata": {},
   "outputs": [
    {
     "data": {
      "application/javascript": [
       "\n",
       "            setTimeout(function() {\n",
       "                var nbb_cell_id = 1;\n",
       "                var nbb_unformatted_code = \"%reload_ext nb_black\\n\\nimport pandas as pd\\nimport numpy as np\\nimport matplotlib as plt\\nimport seaborn as sns\\n\\nimport plotly.express as px\\nfrom ipywidgets import interact\\n\\nfrom sklearn.cluster import (\\n    KMeans,\\n    DBSCAN,\\n    AgglomerativeClustering,\\n    AffinityPropagation,\\n    MeanShift,\\n)\\n\\ntry:\\n    import prince\\nexcept ModuleNotFoundError:\\n    !pip install prince\\n    import prince\\n\\n# pd.set_option(\\\"display.max_columns\\\", None)\\n# pd.set_option(\\\"display.max_rows\\\", None)\";\n",
       "                var nbb_formatted_code = \"%reload_ext nb_black\\n\\nimport pandas as pd\\nimport numpy as np\\nimport matplotlib as plt\\nimport seaborn as sns\\n\\nimport plotly.express as px\\nfrom ipywidgets import interact\\n\\nfrom sklearn.cluster import (\\n    KMeans,\\n    DBSCAN,\\n    AgglomerativeClustering,\\n    AffinityPropagation,\\n    MeanShift,\\n)\\n\\ntry:\\n    import prince\\nexcept ModuleNotFoundError:\\n    !pip install prince\\n    import prince\\n\\n# pd.set_option(\\\"display.max_columns\\\", None)\\n# pd.set_option(\\\"display.max_rows\\\", None)\";\n",
       "                var nbb_cells = Jupyter.notebook.get_cells();\n",
       "                for (var i = 0; i < nbb_cells.length; ++i) {\n",
       "                    if (nbb_cells[i].input_prompt_number == nbb_cell_id) {\n",
       "                        if (nbb_cells[i].get_text() == nbb_unformatted_code) {\n",
       "                             nbb_cells[i].set_text(nbb_formatted_code);\n",
       "                        }\n",
       "                        break;\n",
       "                    }\n",
       "                }\n",
       "            }, 500);\n",
       "            "
      ],
      "text/plain": [
       "<IPython.core.display.Javascript object>"
      ]
     },
     "metadata": {},
     "output_type": "display_data"
    }
   ],
   "source": [
    "%reload_ext nb_black\n",
    "\n",
    "import pandas as pd\n",
    "import numpy as np\n",
    "import matplotlib as plt\n",
    "import seaborn as sns\n",
    "\n",
    "import plotly.express as px\n",
    "from ipywidgets import interact\n",
    "\n",
    "from sklearn.cluster import (\n",
    "    KMeans,\n",
    "    DBSCAN,\n",
    "    AgglomerativeClustering,\n",
    "    AffinityPropagation,\n",
    "    MeanShift,\n",
    ")\n",
    "\n",
    "try:\n",
    "    import prince\n",
    "except ModuleNotFoundError:\n",
    "    !pip install prince\n",
    "    import prince\n",
    "\n",
    "# pd.set_option(\"display.max_columns\", None)\n",
    "# pd.set_option(\"display.max_rows\", None)"
   ]
  },
  {
   "cell_type": "code",
   "execution_count": 2,
   "metadata": {
    "scrolled": true
   },
   "outputs": [
    {
     "data": {
      "application/javascript": [
       "\n",
       "            setTimeout(function() {\n",
       "                var nbb_cell_id = 2;\n",
       "                var nbb_unformatted_code = \"# filepath = \\\"C:/Users/jlim7/OneDrive/Documents/GitHub/New-York-Bust-Clustering/datafiles/mta_1710.csv\\\"\\nfilepath = \\\"mta_1710.csv\\\"\\n# nyc = pd.read_csv(filepath, error_bad_lines=False)\\n# nyc.to_csv(\\\"mta_1710.csv\\\", index=False)\\nnyc = pd.read_csv(filepath)\\n\\n# help with speed up executing code\\nnyc = nyc.sample(1000000)\";\n",
       "                var nbb_formatted_code = \"# filepath = \\\"C:/Users/jlim7/OneDrive/Documents/GitHub/New-York-Bust-Clustering/datafiles/mta_1710.csv\\\"\\nfilepath = \\\"mta_1710.csv\\\"\\n# nyc = pd.read_csv(filepath, error_bad_lines=False)\\n# nyc.to_csv(\\\"mta_1710.csv\\\", index=False)\\nnyc = pd.read_csv(filepath)\\n\\n# help with speed up executing code\\nnyc = nyc.sample(1000000)\";\n",
       "                var nbb_cells = Jupyter.notebook.get_cells();\n",
       "                for (var i = 0; i < nbb_cells.length; ++i) {\n",
       "                    if (nbb_cells[i].input_prompt_number == nbb_cell_id) {\n",
       "                        if (nbb_cells[i].get_text() == nbb_unformatted_code) {\n",
       "                             nbb_cells[i].set_text(nbb_formatted_code);\n",
       "                        }\n",
       "                        break;\n",
       "                    }\n",
       "                }\n",
       "            }, 500);\n",
       "            "
      ],
      "text/plain": [
       "<IPython.core.display.Javascript object>"
      ]
     },
     "metadata": {},
     "output_type": "display_data"
    }
   ],
   "source": [
    "# filepath = \"C:/Users/jlim7/OneDrive/Documents/GitHub/New-York-Bust-Clustering/datafiles/mta_1710.csv\"\n",
    "filepath = \"mta_1710.csv\"\n",
    "# nyc = pd.read_csv(filepath, error_bad_lines=False)\n",
    "# nyc.to_csv(\"mta_1710.csv\", index=False)\n",
    "nyc = pd.read_csv(filepath)\n",
    "\n",
    "# help with speed up executing code\n",
    "nyc = nyc.sample(1000000)"
   ]
  },
  {
   "cell_type": "code",
   "execution_count": 3,
   "metadata": {},
   "outputs": [
    {
     "data": {
      "text/html": [
       "<div>\n",
       "<style scoped>\n",
       "    .dataframe tbody tr th:only-of-type {\n",
       "        vertical-align: middle;\n",
       "    }\n",
       "\n",
       "    .dataframe tbody tr th {\n",
       "        vertical-align: top;\n",
       "    }\n",
       "\n",
       "    .dataframe thead th {\n",
       "        text-align: right;\n",
       "    }\n",
       "</style>\n",
       "<table border=\"1\" class=\"dataframe\">\n",
       "  <thead>\n",
       "    <tr style=\"text-align: right;\">\n",
       "      <th></th>\n",
       "      <th>RecordedAtTime</th>\n",
       "      <th>DirectionRef</th>\n",
       "      <th>PublishedLineName</th>\n",
       "      <th>OriginName</th>\n",
       "      <th>OriginLat</th>\n",
       "      <th>OriginLong</th>\n",
       "      <th>DestinationName</th>\n",
       "      <th>DestinationLat</th>\n",
       "      <th>DestinationLong</th>\n",
       "      <th>VehicleRef</th>\n",
       "      <th>VehicleLocation.Latitude</th>\n",
       "      <th>VehicleLocation.Longitude</th>\n",
       "      <th>NextStopPointName</th>\n",
       "      <th>ArrivalProximityText</th>\n",
       "      <th>DistanceFromStop</th>\n",
       "      <th>ExpectedArrivalTime</th>\n",
       "      <th>ScheduledArrivalTime</th>\n",
       "    </tr>\n",
       "  </thead>\n",
       "  <tbody>\n",
       "    <tr>\n",
       "      <th>1686641</th>\n",
       "      <td>2017-10-08 20:00:51</td>\n",
       "      <td>1</td>\n",
       "      <td>Q44-SBS</td>\n",
       "      <td>BOSTON RD/E 180 ST</td>\n",
       "      <td>40.842561</td>\n",
       "      <td>-73.878332</td>\n",
       "      <td>SELECT BUS JAMAICA via MAIN ST</td>\n",
       "      <td>40.704933</td>\n",
       "      <td>-73.793318</td>\n",
       "      <td>NYCT_5994</td>\n",
       "      <td>40.819096</td>\n",
       "      <td>-73.836337</td>\n",
       "      <td>PARSONS BL/14 AV</td>\n",
       "      <td>2.5 miles away</td>\n",
       "      <td>4090.0</td>\n",
       "      <td>2017-10-08 20:08:54</td>\n",
       "      <td>19:53:00</td>\n",
       "    </tr>\n",
       "    <tr>\n",
       "      <th>2314743</th>\n",
       "      <td>2017-10-11 14:56:16</td>\n",
       "      <td>1</td>\n",
       "      <td>S44</td>\n",
       "      <td>HENDERSON AV/CLINTON AV</td>\n",
       "      <td>40.640340</td>\n",
       "      <td>-74.098310</td>\n",
       "      <td>S I MALL YUKON AV</td>\n",
       "      <td>40.575935</td>\n",
       "      <td>-74.167683</td>\n",
       "      <td>NYCT_4009</td>\n",
       "      <td>40.632001</td>\n",
       "      <td>-74.137942</td>\n",
       "      <td>PORT RICHMOND AV/HOOKER PL</td>\n",
       "      <td>&lt; 1 stop away</td>\n",
       "      <td>246.0</td>\n",
       "      <td>NaN</td>\n",
       "      <td>14:53:13</td>\n",
       "    </tr>\n",
       "    <tr>\n",
       "      <th>868681</th>\n",
       "      <td>2017-10-04 20:23:57</td>\n",
       "      <td>1</td>\n",
       "      <td>B46-SBS</td>\n",
       "      <td>MALCOLM X BL/DE KALB AV</td>\n",
       "      <td>40.693112</td>\n",
       "      <td>-73.931178</td>\n",
       "      <td>SELECT BUS  KINGS PLAZA via UTICA</td>\n",
       "      <td>40.609140</td>\n",
       "      <td>-73.921443</td>\n",
       "      <td>NYCT_7317</td>\n",
       "      <td>40.608955</td>\n",
       "      <td>-73.921335</td>\n",
       "      <td>KINGS PLAZA</td>\n",
       "      <td>at stop</td>\n",
       "      <td>21.0</td>\n",
       "      <td>2017-10-04 20:24:34</td>\n",
       "      <td>20:05:00</td>\n",
       "    </tr>\n",
       "    <tr>\n",
       "      <th>2958444</th>\n",
       "      <td>2017-10-14 08:50:45</td>\n",
       "      <td>0</td>\n",
       "      <td>M60-SBS</td>\n",
       "      <td>BROADWAY/W 106 ST</td>\n",
       "      <td>40.801818</td>\n",
       "      <td>-73.967642</td>\n",
       "      <td>SELECT BUS SERVICE LA GUARDIA AIRPORT</td>\n",
       "      <td>40.768074</td>\n",
       "      <td>-73.862089</td>\n",
       "      <td>NYCT_5854</td>\n",
       "      <td>40.766351</td>\n",
       "      <td>-73.887509</td>\n",
       "      <td>23 AV/82 ST</td>\n",
       "      <td>approaching</td>\n",
       "      <td>31.0</td>\n",
       "      <td>2017-10-14 08:50:52</td>\n",
       "      <td>08:55:56</td>\n",
       "    </tr>\n",
       "    <tr>\n",
       "      <th>3152884</th>\n",
       "      <td>2017-10-15 12:33:08</td>\n",
       "      <td>1</td>\n",
       "      <td>B3</td>\n",
       "      <td>AV U/E 71 ST</td>\n",
       "      <td>40.619674</td>\n",
       "      <td>-73.907840</td>\n",
       "      <td>BENSONHURST HARWAY AV via AV U</td>\n",
       "      <td>40.592814</td>\n",
       "      <td>-73.992566</td>\n",
       "      <td>NYCT_5092</td>\n",
       "      <td>40.594419</td>\n",
       "      <td>-73.990842</td>\n",
       "      <td>25 AV/BATH AV</td>\n",
       "      <td>approaching</td>\n",
       "      <td>48.0</td>\n",
       "      <td>2017-10-15 12:33:19</td>\n",
       "      <td>12:28:04</td>\n",
       "    </tr>\n",
       "    <tr>\n",
       "      <th>254046</th>\n",
       "      <td>2017-10-02 12:56:43</td>\n",
       "      <td>0</td>\n",
       "      <td>M1</td>\n",
       "      <td>4 AV/E 10 ST</td>\n",
       "      <td>40.731342</td>\n",
       "      <td>-73.990292</td>\n",
       "      <td>HARLEM 147 ST via MADISON</td>\n",
       "      <td>40.821108</td>\n",
       "      <td>-73.935894</td>\n",
       "      <td>NYCT_3881</td>\n",
       "      <td>40.822867</td>\n",
       "      <td>-73.938292</td>\n",
       "      <td>146 ST/LENOX AV</td>\n",
       "      <td>&lt; 1 stop away</td>\n",
       "      <td>337.0</td>\n",
       "      <td>2017-10-02 12:58:11</td>\n",
       "      <td>12:52:00</td>\n",
       "    </tr>\n",
       "    <tr>\n",
       "      <th>4852498</th>\n",
       "      <td>2017-10-23 08:17:50</td>\n",
       "      <td>1</td>\n",
       "      <td>B57</td>\n",
       "      <td>FLUSHING AV/61 ST</td>\n",
       "      <td>40.721061</td>\n",
       "      <td>-73.904087</td>\n",
       "      <td>RED HOOK IKEA TERMINAL</td>\n",
       "      <td>40.672325</td>\n",
       "      <td>-74.011323</td>\n",
       "      <td>NYCT_7212</td>\n",
       "      <td>40.713622</td>\n",
       "      <td>-73.915515</td>\n",
       "      <td>FLUSHING AV/METROPOLITAN AV</td>\n",
       "      <td>at stop</td>\n",
       "      <td>12.0</td>\n",
       "      <td>2017-10-23 08:17:55</td>\n",
       "      <td>08:17:00</td>\n",
       "    </tr>\n",
       "    <tr>\n",
       "      <th>2776954</th>\n",
       "      <td>2017-10-13 11:49:28</td>\n",
       "      <td>1</td>\n",
       "      <td>X1</td>\n",
       "      <td>CENTRAL PARK S/6 AV</td>\n",
       "      <td>40.766314</td>\n",
       "      <td>-73.977491</td>\n",
       "      <td>ELTNGVLE TRANST CTR via HYLAN BL RICH AV</td>\n",
       "      <td>40.560836</td>\n",
       "      <td>-74.171120</td>\n",
       "      <td>NYCT_2619</td>\n",
       "      <td>40.723190</td>\n",
       "      <td>-73.998670</td>\n",
       "      <td>BROADWAY/BROOME ST</td>\n",
       "      <td>&lt; 1 stop away</td>\n",
       "      <td>200.0</td>\n",
       "      <td>2017-10-13 11:50:36</td>\n",
       "      <td>11:34:54</td>\n",
       "    </tr>\n",
       "    <tr>\n",
       "      <th>1519172</th>\n",
       "      <td>2017-10-07 17:59:31</td>\n",
       "      <td>0</td>\n",
       "      <td>X1</td>\n",
       "      <td>ELTINGVILLE/TRANSIT CENTER</td>\n",
       "      <td>40.560760</td>\n",
       "      <td>-74.171091</td>\n",
       "      <td>W MDTWN CNTRL PK S. via CHURCH via 6 AV</td>\n",
       "      <td>40.766007</td>\n",
       "      <td>-73.976806</td>\n",
       "      <td>NYCT_2763</td>\n",
       "      <td>40.765937</td>\n",
       "      <td>-73.976857</td>\n",
       "      <td>CENTRAL PARK S/6 AV</td>\n",
       "      <td>at stop</td>\n",
       "      <td>0.0</td>\n",
       "      <td>2017-10-07 17:59:56</td>\n",
       "      <td>16:52:00</td>\n",
       "    </tr>\n",
       "    <tr>\n",
       "      <th>6267887</th>\n",
       "      <td>2017-10-29 10:39:15</td>\n",
       "      <td>0</td>\n",
       "      <td>B64</td>\n",
       "      <td>STILLWELL AV/MERMAID AV</td>\n",
       "      <td>40.577090</td>\n",
       "      <td>-73.981639</td>\n",
       "      <td>BAY RIDGE SHORE RD via 13 AV via BAY RDG</td>\n",
       "      <td>40.637071</td>\n",
       "      <td>-74.036088</td>\n",
       "      <td>NYCT_4890</td>\n",
       "      <td>40.602754</td>\n",
       "      <td>-74.004018</td>\n",
       "      <td>BATH AV/19 AV</td>\n",
       "      <td>at stop</td>\n",
       "      <td>11.0</td>\n",
       "      <td>2017-10-29 10:39:39</td>\n",
       "      <td>10:36:55</td>\n",
       "    </tr>\n",
       "    <tr>\n",
       "      <th>2988303</th>\n",
       "      <td>2017-10-14 12:11:14</td>\n",
       "      <td>1</td>\n",
       "      <td>Q85</td>\n",
       "      <td>WEST CIRCLE DR /PARKING STRUCTURE</td>\n",
       "      <td>40.661908</td>\n",
       "      <td>-73.723262</td>\n",
       "      <td>JAMAICA PRSNS - ARCHR</td>\n",
       "      <td>40.701681</td>\n",
       "      <td>-73.802477</td>\n",
       "      <td>NYCT_8114</td>\n",
       "      <td>40.671584</td>\n",
       "      <td>-73.764159</td>\n",
       "      <td>FARMERS BL/182 ST</td>\n",
       "      <td>&lt; 1 stop away</td>\n",
       "      <td>225.0</td>\n",
       "      <td>2017-10-14 12:12:27</td>\n",
       "      <td>12:15:00</td>\n",
       "    </tr>\n",
       "    <tr>\n",
       "      <th>700645</th>\n",
       "      <td>2017-10-04 08:29:08</td>\n",
       "      <td>0</td>\n",
       "      <td>Bx39</td>\n",
       "      <td>SOUNDVIEW AV/STEPHENS AV</td>\n",
       "      <td>40.807868</td>\n",
       "      <td>-73.852716</td>\n",
       "      <td>WAKEFIELD 241 ST via WHITE PLS RD</td>\n",
       "      <td>40.903309</td>\n",
       "      <td>-73.849922</td>\n",
       "      <td>NYCT_1200</td>\n",
       "      <td>40.832528</td>\n",
       "      <td>-73.862537</td>\n",
       "      <td>WHITE PLAINS RD/WESTCHESTER AV</td>\n",
       "      <td>approaching</td>\n",
       "      <td>96.0</td>\n",
       "      <td>NaN</td>\n",
       "      <td>08:34:00</td>\n",
       "    </tr>\n",
       "    <tr>\n",
       "      <th>5063884</th>\n",
       "      <td>2017-10-24 05:29:57</td>\n",
       "      <td>1</td>\n",
       "      <td>B20</td>\n",
       "      <td>67 AV/FRESH POND RD</td>\n",
       "      <td>40.705683</td>\n",
       "      <td>-73.896695</td>\n",
       "      <td>SPRING CREEK STANLEY AV POSTAL FAC</td>\n",
       "      <td>40.664644</td>\n",
       "      <td>-73.863067</td>\n",
       "      <td>NYCT_7270</td>\n",
       "      <td>40.695058</td>\n",
       "      <td>-73.903118</td>\n",
       "      <td>COVERT ST/WYCKOFF AV</td>\n",
       "      <td>approaching</td>\n",
       "      <td>76.0</td>\n",
       "      <td>2017-10-24 05:30:22</td>\n",
       "      <td>05:25:33</td>\n",
       "    </tr>\n",
       "    <tr>\n",
       "      <th>4063998</th>\n",
       "      <td>2017-10-19 09:29:57</td>\n",
       "      <td>1</td>\n",
       "      <td>M15-SBS</td>\n",
       "      <td>E 126 ST/2 AV</td>\n",
       "      <td>40.803230</td>\n",
       "      <td>-73.932451</td>\n",
       "      <td>SELECT BUS SERVICE SOUTH FERRY via 2 AV</td>\n",
       "      <td>40.702123</td>\n",
       "      <td>-74.013662</td>\n",
       "      <td>NYCT_1239</td>\n",
       "      <td>40.712142</td>\n",
       "      <td>-73.996309</td>\n",
       "      <td>MADISON ST/CATHERINE ST</td>\n",
       "      <td>approaching</td>\n",
       "      <td>97.0</td>\n",
       "      <td>2017-10-19 09:30:26</td>\n",
       "      <td>09:10:16</td>\n",
       "    </tr>\n",
       "    <tr>\n",
       "      <th>5002616</th>\n",
       "      <td>2017-10-23 18:28:32</td>\n",
       "      <td>1</td>\n",
       "      <td>Bx7</td>\n",
       "      <td>RIVERDALE AV/W 263 ST</td>\n",
       "      <td>40.912363</td>\n",
       "      <td>-73.902699</td>\n",
       "      <td>WASHINGTON HEIGHTS 166 ST via BROADWAY</td>\n",
       "      <td>40.839813</td>\n",
       "      <td>-73.939745</td>\n",
       "      <td>NYCT_4100</td>\n",
       "      <td>40.870381</td>\n",
       "      <td>-73.915174</td>\n",
       "      <td>BROADWAY/W 215 ST</td>\n",
       "      <td>approaching</td>\n",
       "      <td>122.0</td>\n",
       "      <td>NaN</td>\n",
       "      <td>18:28:07</td>\n",
       "    </tr>\n",
       "    <tr>\n",
       "      <th>6792423</th>\n",
       "      <td>2017-10-31 17:08:28</td>\n",
       "      <td>1</td>\n",
       "      <td>B82</td>\n",
       "      <td>SEAVIEW AV/PENNSYLVANIA AV</td>\n",
       "      <td>40.642980</td>\n",
       "      <td>-73.878336</td>\n",
       "      <td>25 AV CROPSEY AV</td>\n",
       "      <td>40.593720</td>\n",
       "      <td>-73.994667</td>\n",
       "      <td>NYCT_6598</td>\n",
       "      <td>40.606147</td>\n",
       "      <td>-73.965573</td>\n",
       "      <td>KINGS HY/OCEAN PY</td>\n",
       "      <td>approaching</td>\n",
       "      <td>94.0</td>\n",
       "      <td>2017-10-31 17:09:07</td>\n",
       "      <td>16:56:38</td>\n",
       "    </tr>\n",
       "    <tr>\n",
       "      <th>2545885</th>\n",
       "      <td>2017-10-12 13:26:55</td>\n",
       "      <td>1</td>\n",
       "      <td>Bx8</td>\n",
       "      <td>WHITE PLAINS RD/E 225 ST</td>\n",
       "      <td>40.888402</td>\n",
       "      <td>-73.860227</td>\n",
       "      <td>LOCUST PT TIERNEY PL</td>\n",
       "      <td>40.813801</td>\n",
       "      <td>-73.802361</td>\n",
       "      <td>NYCT_7780</td>\n",
       "      <td>40.888153</td>\n",
       "      <td>-73.860268</td>\n",
       "      <td>WHITE PLAINS RD/E 222 ST</td>\n",
       "      <td>&lt; 1 stop away</td>\n",
       "      <td>281.0</td>\n",
       "      <td>2017-10-12 13:28:00</td>\n",
       "      <td>13:29:20</td>\n",
       "    </tr>\n",
       "    <tr>\n",
       "      <th>6400399</th>\n",
       "      <td>2017-10-30 07:25:46</td>\n",
       "      <td>0</td>\n",
       "      <td>M101</td>\n",
       "      <td>ASTOR PL/3 AV</td>\n",
       "      <td>40.729567</td>\n",
       "      <td>-73.990052</td>\n",
       "      <td>FT GEORGE 193 ST via 3 AV</td>\n",
       "      <td>40.855666</td>\n",
       "      <td>-73.925259</td>\n",
       "      <td>NYCT_6071</td>\n",
       "      <td>40.798342</td>\n",
       "      <td>-73.939730</td>\n",
       "      <td>3 AV/E 118 ST</td>\n",
       "      <td>&lt; 1 stop away</td>\n",
       "      <td>162.0</td>\n",
       "      <td>2017-10-30 07:26:21</td>\n",
       "      <td>06:57:15</td>\n",
       "    </tr>\n",
       "    <tr>\n",
       "      <th>6188191</th>\n",
       "      <td>2017-10-28 18:28:53</td>\n",
       "      <td>1</td>\n",
       "      <td>M101</td>\n",
       "      <td>ST NICHOLAS AV/W 192 ST</td>\n",
       "      <td>40.856288</td>\n",
       "      <td>-73.928768</td>\n",
       "      <td>LTD EAST VILLAGE 6 ST via LEX AV</td>\n",
       "      <td>40.729113</td>\n",
       "      <td>-73.990259</td>\n",
       "      <td>NYCT_5820</td>\n",
       "      <td>40.778830</td>\n",
       "      <td>-73.956071</td>\n",
       "      <td>LEXINGTON AV/E 79 ST</td>\n",
       "      <td>&lt; 1 stop away</td>\n",
       "      <td>507.0</td>\n",
       "      <td>2017-10-28 18:32:11</td>\n",
       "      <td>18:01:35</td>\n",
       "    </tr>\n",
       "    <tr>\n",
       "      <th>944908</th>\n",
       "      <td>2017-10-05 08:14:38</td>\n",
       "      <td>0</td>\n",
       "      <td>B47</td>\n",
       "      <td>AV U/E 54 ST</td>\n",
       "      <td>40.611007</td>\n",
       "      <td>-73.920407</td>\n",
       "      <td>BED-STUY WOODHULL HOSP via RALPH AV</td>\n",
       "      <td>40.699777</td>\n",
       "      <td>-73.941503</td>\n",
       "      <td>NYCT_7211</td>\n",
       "      <td>40.667955</td>\n",
       "      <td>-73.922673</td>\n",
       "      <td>RALPH AV/EASTERN PY</td>\n",
       "      <td>approaching</td>\n",
       "      <td>97.0</td>\n",
       "      <td>2017-10-05 08:15:33</td>\n",
       "      <td>08:11:27</td>\n",
       "    </tr>\n",
       "  </tbody>\n",
       "</table>\n",
       "</div>"
      ],
      "text/plain": [
       "              RecordedAtTime  DirectionRef PublishedLineName  \\\n",
       "1686641  2017-10-08 20:00:51             1           Q44-SBS   \n",
       "2314743  2017-10-11 14:56:16             1               S44   \n",
       "868681   2017-10-04 20:23:57             1           B46-SBS   \n",
       "2958444  2017-10-14 08:50:45             0           M60-SBS   \n",
       "3152884  2017-10-15 12:33:08             1                B3   \n",
       "254046   2017-10-02 12:56:43             0                M1   \n",
       "4852498  2017-10-23 08:17:50             1               B57   \n",
       "2776954  2017-10-13 11:49:28             1                X1   \n",
       "1519172  2017-10-07 17:59:31             0                X1   \n",
       "6267887  2017-10-29 10:39:15             0               B64   \n",
       "2988303  2017-10-14 12:11:14             1               Q85   \n",
       "700645   2017-10-04 08:29:08             0              Bx39   \n",
       "5063884  2017-10-24 05:29:57             1               B20   \n",
       "4063998  2017-10-19 09:29:57             1           M15-SBS   \n",
       "5002616  2017-10-23 18:28:32             1               Bx7   \n",
       "6792423  2017-10-31 17:08:28             1               B82   \n",
       "2545885  2017-10-12 13:26:55             1               Bx8   \n",
       "6400399  2017-10-30 07:25:46             0              M101   \n",
       "6188191  2017-10-28 18:28:53             1              M101   \n",
       "944908   2017-10-05 08:14:38             0               B47   \n",
       "\n",
       "                                OriginName  OriginLat  OriginLong  \\\n",
       "1686641                 BOSTON RD/E 180 ST  40.842561  -73.878332   \n",
       "2314743            HENDERSON AV/CLINTON AV  40.640340  -74.098310   \n",
       "868681             MALCOLM X BL/DE KALB AV  40.693112  -73.931178   \n",
       "2958444                  BROADWAY/W 106 ST  40.801818  -73.967642   \n",
       "3152884                       AV U/E 71 ST  40.619674  -73.907840   \n",
       "254046                        4 AV/E 10 ST  40.731342  -73.990292   \n",
       "4852498                  FLUSHING AV/61 ST  40.721061  -73.904087   \n",
       "2776954                CENTRAL PARK S/6 AV  40.766314  -73.977491   \n",
       "1519172         ELTINGVILLE/TRANSIT CENTER  40.560760  -74.171091   \n",
       "6267887            STILLWELL AV/MERMAID AV  40.577090  -73.981639   \n",
       "2988303  WEST CIRCLE DR /PARKING STRUCTURE  40.661908  -73.723262   \n",
       "700645            SOUNDVIEW AV/STEPHENS AV  40.807868  -73.852716   \n",
       "5063884                67 AV/FRESH POND RD  40.705683  -73.896695   \n",
       "4063998                      E 126 ST/2 AV  40.803230  -73.932451   \n",
       "5002616              RIVERDALE AV/W 263 ST  40.912363  -73.902699   \n",
       "6792423         SEAVIEW AV/PENNSYLVANIA AV  40.642980  -73.878336   \n",
       "2545885           WHITE PLAINS RD/E 225 ST  40.888402  -73.860227   \n",
       "6400399                      ASTOR PL/3 AV  40.729567  -73.990052   \n",
       "6188191            ST NICHOLAS AV/W 192 ST  40.856288  -73.928768   \n",
       "944908                        AV U/E 54 ST  40.611007  -73.920407   \n",
       "\n",
       "                                  DestinationName  DestinationLat  \\\n",
       "1686641            SELECT BUS JAMAICA via MAIN ST       40.704933   \n",
       "2314743                         S I MALL YUKON AV       40.575935   \n",
       "868681          SELECT BUS  KINGS PLAZA via UTICA       40.609140   \n",
       "2958444     SELECT BUS SERVICE LA GUARDIA AIRPORT       40.768074   \n",
       "3152884            BENSONHURST HARWAY AV via AV U       40.592814   \n",
       "254046                  HARLEM 147 ST via MADISON       40.821108   \n",
       "4852498                    RED HOOK IKEA TERMINAL       40.672325   \n",
       "2776954  ELTNGVLE TRANST CTR via HYLAN BL RICH AV       40.560836   \n",
       "1519172   W MDTWN CNTRL PK S. via CHURCH via 6 AV       40.766007   \n",
       "6267887  BAY RIDGE SHORE RD via 13 AV via BAY RDG       40.637071   \n",
       "2988303                     JAMAICA PRSNS - ARCHR       40.701681   \n",
       "700645          WAKEFIELD 241 ST via WHITE PLS RD       40.903309   \n",
       "5063884        SPRING CREEK STANLEY AV POSTAL FAC       40.664644   \n",
       "4063998   SELECT BUS SERVICE SOUTH FERRY via 2 AV       40.702123   \n",
       "5002616    WASHINGTON HEIGHTS 166 ST via BROADWAY       40.839813   \n",
       "6792423                          25 AV CROPSEY AV       40.593720   \n",
       "2545885                      LOCUST PT TIERNEY PL       40.813801   \n",
       "6400399                 FT GEORGE 193 ST via 3 AV       40.855666   \n",
       "6188191          LTD EAST VILLAGE 6 ST via LEX AV       40.729113   \n",
       "944908        BED-STUY WOODHULL HOSP via RALPH AV       40.699777   \n",
       "\n",
       "         DestinationLong VehicleRef  VehicleLocation.Latitude  \\\n",
       "1686641       -73.793318  NYCT_5994                 40.819096   \n",
       "2314743       -74.167683  NYCT_4009                 40.632001   \n",
       "868681        -73.921443  NYCT_7317                 40.608955   \n",
       "2958444       -73.862089  NYCT_5854                 40.766351   \n",
       "3152884       -73.992566  NYCT_5092                 40.594419   \n",
       "254046        -73.935894  NYCT_3881                 40.822867   \n",
       "4852498       -74.011323  NYCT_7212                 40.713622   \n",
       "2776954       -74.171120  NYCT_2619                 40.723190   \n",
       "1519172       -73.976806  NYCT_2763                 40.765937   \n",
       "6267887       -74.036088  NYCT_4890                 40.602754   \n",
       "2988303       -73.802477  NYCT_8114                 40.671584   \n",
       "700645        -73.849922  NYCT_1200                 40.832528   \n",
       "5063884       -73.863067  NYCT_7270                 40.695058   \n",
       "4063998       -74.013662  NYCT_1239                 40.712142   \n",
       "5002616       -73.939745  NYCT_4100                 40.870381   \n",
       "6792423       -73.994667  NYCT_6598                 40.606147   \n",
       "2545885       -73.802361  NYCT_7780                 40.888153   \n",
       "6400399       -73.925259  NYCT_6071                 40.798342   \n",
       "6188191       -73.990259  NYCT_5820                 40.778830   \n",
       "944908        -73.941503  NYCT_7211                 40.667955   \n",
       "\n",
       "         VehicleLocation.Longitude               NextStopPointName  \\\n",
       "1686641                 -73.836337                PARSONS BL/14 AV   \n",
       "2314743                 -74.137942      PORT RICHMOND AV/HOOKER PL   \n",
       "868681                  -73.921335                     KINGS PLAZA   \n",
       "2958444                 -73.887509                     23 AV/82 ST   \n",
       "3152884                 -73.990842                   25 AV/BATH AV   \n",
       "254046                  -73.938292                 146 ST/LENOX AV   \n",
       "4852498                 -73.915515     FLUSHING AV/METROPOLITAN AV   \n",
       "2776954                 -73.998670              BROADWAY/BROOME ST   \n",
       "1519172                 -73.976857             CENTRAL PARK S/6 AV   \n",
       "6267887                 -74.004018                   BATH AV/19 AV   \n",
       "2988303                 -73.764159               FARMERS BL/182 ST   \n",
       "700645                  -73.862537  WHITE PLAINS RD/WESTCHESTER AV   \n",
       "5063884                 -73.903118            COVERT ST/WYCKOFF AV   \n",
       "4063998                 -73.996309         MADISON ST/CATHERINE ST   \n",
       "5002616                 -73.915174               BROADWAY/W 215 ST   \n",
       "6792423                 -73.965573               KINGS HY/OCEAN PY   \n",
       "2545885                 -73.860268        WHITE PLAINS RD/E 222 ST   \n",
       "6400399                 -73.939730                   3 AV/E 118 ST   \n",
       "6188191                 -73.956071            LEXINGTON AV/E 79 ST   \n",
       "944908                  -73.922673             RALPH AV/EASTERN PY   \n",
       "\n",
       "        ArrivalProximityText  DistanceFromStop  ExpectedArrivalTime  \\\n",
       "1686641       2.5 miles away            4090.0  2017-10-08 20:08:54   \n",
       "2314743        < 1 stop away             246.0                  NaN   \n",
       "868681               at stop              21.0  2017-10-04 20:24:34   \n",
       "2958444          approaching              31.0  2017-10-14 08:50:52   \n",
       "3152884          approaching              48.0  2017-10-15 12:33:19   \n",
       "254046         < 1 stop away             337.0  2017-10-02 12:58:11   \n",
       "4852498              at stop              12.0  2017-10-23 08:17:55   \n",
       "2776954        < 1 stop away             200.0  2017-10-13 11:50:36   \n",
       "1519172              at stop               0.0  2017-10-07 17:59:56   \n",
       "6267887              at stop              11.0  2017-10-29 10:39:39   \n",
       "2988303        < 1 stop away             225.0  2017-10-14 12:12:27   \n",
       "700645           approaching              96.0                  NaN   \n",
       "5063884          approaching              76.0  2017-10-24 05:30:22   \n",
       "4063998          approaching              97.0  2017-10-19 09:30:26   \n",
       "5002616          approaching             122.0                  NaN   \n",
       "6792423          approaching              94.0  2017-10-31 17:09:07   \n",
       "2545885        < 1 stop away             281.0  2017-10-12 13:28:00   \n",
       "6400399        < 1 stop away             162.0  2017-10-30 07:26:21   \n",
       "6188191        < 1 stop away             507.0  2017-10-28 18:32:11   \n",
       "944908           approaching              97.0  2017-10-05 08:15:33   \n",
       "\n",
       "        ScheduledArrivalTime  \n",
       "1686641             19:53:00  \n",
       "2314743             14:53:13  \n",
       "868681              20:05:00  \n",
       "2958444             08:55:56  \n",
       "3152884             12:28:04  \n",
       "254046              12:52:00  \n",
       "4852498             08:17:00  \n",
       "2776954             11:34:54  \n",
       "1519172             16:52:00  \n",
       "6267887             10:36:55  \n",
       "2988303             12:15:00  \n",
       "700645              08:34:00  \n",
       "5063884             05:25:33  \n",
       "4063998             09:10:16  \n",
       "5002616             18:28:07  \n",
       "6792423             16:56:38  \n",
       "2545885             13:29:20  \n",
       "6400399             06:57:15  \n",
       "6188191             18:01:35  \n",
       "944908              08:11:27  "
      ]
     },
     "execution_count": 3,
     "metadata": {},
     "output_type": "execute_result"
    },
    {
     "data": {
      "application/javascript": [
       "\n",
       "            setTimeout(function() {\n",
       "                var nbb_cell_id = 3;\n",
       "                var nbb_unformatted_code = \"nyc.head(20)\";\n",
       "                var nbb_formatted_code = \"nyc.head(20)\";\n",
       "                var nbb_cells = Jupyter.notebook.get_cells();\n",
       "                for (var i = 0; i < nbb_cells.length; ++i) {\n",
       "                    if (nbb_cells[i].input_prompt_number == nbb_cell_id) {\n",
       "                        if (nbb_cells[i].get_text() == nbb_unformatted_code) {\n",
       "                             nbb_cells[i].set_text(nbb_formatted_code);\n",
       "                        }\n",
       "                        break;\n",
       "                    }\n",
       "                }\n",
       "            }, 500);\n",
       "            "
      ],
      "text/plain": [
       "<IPython.core.display.Javascript object>"
      ]
     },
     "metadata": {},
     "output_type": "display_data"
    }
   ],
   "source": [
    "nyc.head(20)"
   ]
  },
  {
   "cell_type": "code",
   "execution_count": 4,
   "metadata": {},
   "outputs": [
    {
     "data": {
      "text/plain": [
       "(1000000, 17)"
      ]
     },
     "execution_count": 4,
     "metadata": {},
     "output_type": "execute_result"
    },
    {
     "data": {
      "application/javascript": [
       "\n",
       "            setTimeout(function() {\n",
       "                var nbb_cell_id = 4;\n",
       "                var nbb_unformatted_code = \"nyc.shape\";\n",
       "                var nbb_formatted_code = \"nyc.shape\";\n",
       "                var nbb_cells = Jupyter.notebook.get_cells();\n",
       "                for (var i = 0; i < nbb_cells.length; ++i) {\n",
       "                    if (nbb_cells[i].input_prompt_number == nbb_cell_id) {\n",
       "                        if (nbb_cells[i].get_text() == nbb_unformatted_code) {\n",
       "                             nbb_cells[i].set_text(nbb_formatted_code);\n",
       "                        }\n",
       "                        break;\n",
       "                    }\n",
       "                }\n",
       "            }, 500);\n",
       "            "
      ],
      "text/plain": [
       "<IPython.core.display.Javascript object>"
      ]
     },
     "metadata": {},
     "output_type": "display_data"
    }
   ],
   "source": [
    "nyc.shape"
   ]
  },
  {
   "cell_type": "code",
   "execution_count": 5,
   "metadata": {},
   "outputs": [
    {
     "data": {
      "application/vnd.jupyter.widget-view+json": {
       "model_id": "18ff1f69abd94716ada27f62c78f2c79",
       "version_major": 2,
       "version_minor": 0
      },
      "text/plain": [
       "interactive(children=(Text(value='text input', description='text'), Dropdown(description='select', options=('o…"
      ]
     },
     "metadata": {},
     "output_type": "display_data"
    },
    {
     "data": {
      "application/javascript": [
       "\n",
       "            setTimeout(function() {\n",
       "                var nbb_cell_id = 5;\n",
       "                var nbb_unformatted_code = \"@interact\\ndef do_stuff_interactively(\\n    text=\\\"text input\\\",\\n    select=[\\\"option 1\\\", \\\"option2\\\"],\\n    num=5,\\n    num_range=(3, 8),\\n    bool_tf=True,\\n):\\n    \\\"\\\"\\\"\\n    * Name the function whatever you want\\n    * Name the arguments whatever you want\\n    * @interact chooses an appropriate widget based on default args\\n    * Do whatever you want in the function code\\n    * Function will be rerun every time the input changes\\n    \\\"\\\"\\\"\\n    print(\\\"^Above widgets auto-generated by `@interact`\\\")\\n    print(\\\"\\\\n----------------------------\\\\n\\\")\\n    print(\\\"Below are the outputs of the function:\\\\n\\\")\\n\\n    print(f\\\"text: {text}\\\")\\n    print(f\\\"select: {select}\\\")\\n    print(f\\\"num: {num}\\\")\\n    print(f\\\"num_range: {num_range}\\\")\\n    print(f\\\"bool_tf: {bool_tf}\\\")\";\n",
       "                var nbb_formatted_code = \"@interact\\ndef do_stuff_interactively(\\n    text=\\\"text input\\\",\\n    select=[\\\"option 1\\\", \\\"option2\\\"],\\n    num=5,\\n    num_range=(3, 8),\\n    bool_tf=True,\\n):\\n    \\\"\\\"\\\"\\n    * Name the function whatever you want\\n    * Name the arguments whatever you want\\n    * @interact chooses an appropriate widget based on default args\\n    * Do whatever you want in the function code\\n    * Function will be rerun every time the input changes\\n    \\\"\\\"\\\"\\n    print(\\\"^Above widgets auto-generated by `@interact`\\\")\\n    print(\\\"\\\\n----------------------------\\\\n\\\")\\n    print(\\\"Below are the outputs of the function:\\\\n\\\")\\n\\n    print(f\\\"text: {text}\\\")\\n    print(f\\\"select: {select}\\\")\\n    print(f\\\"num: {num}\\\")\\n    print(f\\\"num_range: {num_range}\\\")\\n    print(f\\\"bool_tf: {bool_tf}\\\")\";\n",
       "                var nbb_cells = Jupyter.notebook.get_cells();\n",
       "                for (var i = 0; i < nbb_cells.length; ++i) {\n",
       "                    if (nbb_cells[i].input_prompt_number == nbb_cell_id) {\n",
       "                        if (nbb_cells[i].get_text() == nbb_unformatted_code) {\n",
       "                             nbb_cells[i].set_text(nbb_formatted_code);\n",
       "                        }\n",
       "                        break;\n",
       "                    }\n",
       "                }\n",
       "            }, 500);\n",
       "            "
      ],
      "text/plain": [
       "<IPython.core.display.Javascript object>"
      ]
     },
     "metadata": {},
     "output_type": "display_data"
    }
   ],
   "source": [
    "@interact\n",
    "def do_stuff_interactively(\n",
    "    text=\"text input\",\n",
    "    select=[\"option 1\", \"option2\"],\n",
    "    num=5,\n",
    "    num_range=(3, 8),\n",
    "    bool_tf=True,\n",
    "):\n",
    "    \"\"\"\n",
    "    * Name the function whatever you want\n",
    "    * Name the arguments whatever you want\n",
    "    * @interact chooses an appropriate widget based on default args\n",
    "    * Do whatever you want in the function code\n",
    "    * Function will be rerun every time the input changes\n",
    "    \"\"\"\n",
    "    print(\"^Above widgets auto-generated by `@interact`\")\n",
    "    print(\"\\n----------------------------\\n\")\n",
    "    print(\"Below are the outputs of the function:\\n\")\n",
    "\n",
    "    print(f\"text: {text}\")\n",
    "    print(f\"select: {select}\")\n",
    "    print(f\"num: {num}\")\n",
    "    print(f\"num_range: {num_range}\")\n",
    "    print(f\"bool_tf: {bool_tf}\")"
   ]
  },
  {
   "cell_type": "markdown",
   "metadata": {},
   "source": [
    "## Data Cleaning"
   ]
  },
  {
   "cell_type": "markdown",
   "metadata": {},
   "source": [
    "#### Checking for missing values and filling in NANs"
   ]
  },
  {
   "cell_type": "code",
   "execution_count": 6,
   "metadata": {
    "scrolled": false
   },
   "outputs": [
    {
     "data": {
      "text/plain": [
       "RecordedAtTime               0.000000\n",
       "DirectionRef                 0.000000\n",
       "PublishedLineName            0.000000\n",
       "OriginName                   0.009256\n",
       "OriginLat                    0.009256\n",
       "OriginLong                   0.009256\n",
       "DestinationName              0.000000\n",
       "DestinationLat               0.001506\n",
       "DestinationLong              0.001506\n",
       "VehicleRef                   0.000000\n",
       "VehicleLocation.Latitude     0.000000\n",
       "VehicleLocation.Longitude    0.000000\n",
       "NextStopPointName            0.001044\n",
       "ArrivalProximityText         0.001044\n",
       "DistanceFromStop             0.001044\n",
       "ExpectedArrivalTime          0.160213\n",
       "ScheduledArrivalTime         0.021970\n",
       "dtype: float64"
      ]
     },
     "execution_count": 6,
     "metadata": {},
     "output_type": "execute_result"
    },
    {
     "data": {
      "application/javascript": [
       "\n",
       "            setTimeout(function() {\n",
       "                var nbb_cell_id = 6;\n",
       "                var nbb_unformatted_code = \"# Expected Arrival Time has around 16% missing rows,\\n# I plan to fill with forward fill.\\nnyc.isna().mean()\";\n",
       "                var nbb_formatted_code = \"# Expected Arrival Time has around 16% missing rows,\\n# I plan to fill with forward fill.\\nnyc.isna().mean()\";\n",
       "                var nbb_cells = Jupyter.notebook.get_cells();\n",
       "                for (var i = 0; i < nbb_cells.length; ++i) {\n",
       "                    if (nbb_cells[i].input_prompt_number == nbb_cell_id) {\n",
       "                        if (nbb_cells[i].get_text() == nbb_unformatted_code) {\n",
       "                             nbb_cells[i].set_text(nbb_formatted_code);\n",
       "                        }\n",
       "                        break;\n",
       "                    }\n",
       "                }\n",
       "            }, 500);\n",
       "            "
      ],
      "text/plain": [
       "<IPython.core.display.Javascript object>"
      ]
     },
     "metadata": {},
     "output_type": "display_data"
    }
   ],
   "source": [
    "# Expected Arrival Time has around 16% missing rows,\n",
    "# I plan to fill with forward fill.\n",
    "nyc.isna().mean()"
   ]
  },
  {
   "cell_type": "code",
   "execution_count": 7,
   "metadata": {
    "scrolled": false
   },
   "outputs": [
    {
     "data": {
      "text/html": [
       "<div>\n",
       "<style scoped>\n",
       "    .dataframe tbody tr th:only-of-type {\n",
       "        vertical-align: middle;\n",
       "    }\n",
       "\n",
       "    .dataframe tbody tr th {\n",
       "        vertical-align: top;\n",
       "    }\n",
       "\n",
       "    .dataframe thead th {\n",
       "        text-align: right;\n",
       "    }\n",
       "</style>\n",
       "<table border=\"1\" class=\"dataframe\">\n",
       "  <thead>\n",
       "    <tr style=\"text-align: right;\">\n",
       "      <th></th>\n",
       "      <th>RecordedAtTime</th>\n",
       "      <th>DirectionRef</th>\n",
       "      <th>PublishedLineName</th>\n",
       "      <th>OriginName</th>\n",
       "      <th>OriginLat</th>\n",
       "      <th>OriginLong</th>\n",
       "      <th>DestinationName</th>\n",
       "      <th>DestinationLat</th>\n",
       "      <th>DestinationLong</th>\n",
       "      <th>VehicleRef</th>\n",
       "      <th>VehicleLocation.Latitude</th>\n",
       "      <th>VehicleLocation.Longitude</th>\n",
       "      <th>NextStopPointName</th>\n",
       "      <th>ArrivalProximityText</th>\n",
       "      <th>DistanceFromStop</th>\n",
       "      <th>ExpectedArrivalTime</th>\n",
       "      <th>ScheduledArrivalTime</th>\n",
       "    </tr>\n",
       "  </thead>\n",
       "  <tbody>\n",
       "    <tr>\n",
       "      <th>2314743</th>\n",
       "      <td>2017-10-11 14:56:16</td>\n",
       "      <td>1</td>\n",
       "      <td>S44</td>\n",
       "      <td>HENDERSON AV/CLINTON AV</td>\n",
       "      <td>40.640340</td>\n",
       "      <td>-74.098310</td>\n",
       "      <td>S I MALL YUKON AV</td>\n",
       "      <td>40.575935</td>\n",
       "      <td>-74.167683</td>\n",
       "      <td>NYCT_4009</td>\n",
       "      <td>40.632001</td>\n",
       "      <td>-74.137942</td>\n",
       "      <td>PORT RICHMOND AV/HOOKER PL</td>\n",
       "      <td>&lt; 1 stop away</td>\n",
       "      <td>246.0</td>\n",
       "      <td>NaN</td>\n",
       "      <td>14:53:13</td>\n",
       "    </tr>\n",
       "    <tr>\n",
       "      <th>700645</th>\n",
       "      <td>2017-10-04 08:29:08</td>\n",
       "      <td>0</td>\n",
       "      <td>Bx39</td>\n",
       "      <td>SOUNDVIEW AV/STEPHENS AV</td>\n",
       "      <td>40.807868</td>\n",
       "      <td>-73.852716</td>\n",
       "      <td>WAKEFIELD 241 ST via WHITE PLS RD</td>\n",
       "      <td>40.903309</td>\n",
       "      <td>-73.849922</td>\n",
       "      <td>NYCT_1200</td>\n",
       "      <td>40.832528</td>\n",
       "      <td>-73.862537</td>\n",
       "      <td>WHITE PLAINS RD/WESTCHESTER AV</td>\n",
       "      <td>approaching</td>\n",
       "      <td>96.0</td>\n",
       "      <td>NaN</td>\n",
       "      <td>08:34:00</td>\n",
       "    </tr>\n",
       "    <tr>\n",
       "      <th>5002616</th>\n",
       "      <td>2017-10-23 18:28:32</td>\n",
       "      <td>1</td>\n",
       "      <td>Bx7</td>\n",
       "      <td>RIVERDALE AV/W 263 ST</td>\n",
       "      <td>40.912363</td>\n",
       "      <td>-73.902699</td>\n",
       "      <td>WASHINGTON HEIGHTS 166 ST via BROADWAY</td>\n",
       "      <td>40.839813</td>\n",
       "      <td>-73.939745</td>\n",
       "      <td>NYCT_4100</td>\n",
       "      <td>40.870381</td>\n",
       "      <td>-73.915174</td>\n",
       "      <td>BROADWAY/W 215 ST</td>\n",
       "      <td>approaching</td>\n",
       "      <td>122.0</td>\n",
       "      <td>NaN</td>\n",
       "      <td>18:28:07</td>\n",
       "    </tr>\n",
       "    <tr>\n",
       "      <th>5654034</th>\n",
       "      <td>2017-10-26 11:33:18</td>\n",
       "      <td>1</td>\n",
       "      <td>M15-SBS</td>\n",
       "      <td>E 126 ST/2 AV</td>\n",
       "      <td>40.803230</td>\n",
       "      <td>-73.932451</td>\n",
       "      <td>SELECT BUS SERVICE SOUTH FERRY via 2 AV</td>\n",
       "      <td>40.702123</td>\n",
       "      <td>-74.013662</td>\n",
       "      <td>NYCT_1244</td>\n",
       "      <td>40.744967</td>\n",
       "      <td>-73.975743</td>\n",
       "      <td>2 AV/E 34 ST</td>\n",
       "      <td>approaching</td>\n",
       "      <td>64.0</td>\n",
       "      <td>NaN</td>\n",
       "      <td>11:30:28</td>\n",
       "    </tr>\n",
       "    <tr>\n",
       "      <th>2866495</th>\n",
       "      <td>2017-10-13 17:49:43</td>\n",
       "      <td>0</td>\n",
       "      <td>Q5</td>\n",
       "      <td>TEARDROP/LAYOVER</td>\n",
       "      <td>40.701747</td>\n",
       "      <td>-73.802398</td>\n",
       "      <td>233 ST VIA MERRICK</td>\n",
       "      <td>40.674860</td>\n",
       "      <td>-73.737081</td>\n",
       "      <td>NYCT_8449</td>\n",
       "      <td>40.684059</td>\n",
       "      <td>-73.770413</td>\n",
       "      <td>MERRICK BL/BAISLEY BL</td>\n",
       "      <td>approaching</td>\n",
       "      <td>46.0</td>\n",
       "      <td>NaN</td>\n",
       "      <td>17:46:00</td>\n",
       "    </tr>\n",
       "  </tbody>\n",
       "</table>\n",
       "</div>"
      ],
      "text/plain": [
       "              RecordedAtTime  DirectionRef PublishedLineName  \\\n",
       "2314743  2017-10-11 14:56:16             1               S44   \n",
       "700645   2017-10-04 08:29:08             0              Bx39   \n",
       "5002616  2017-10-23 18:28:32             1               Bx7   \n",
       "5654034  2017-10-26 11:33:18             1           M15-SBS   \n",
       "2866495  2017-10-13 17:49:43             0                Q5   \n",
       "\n",
       "                       OriginName  OriginLat  OriginLong  \\\n",
       "2314743   HENDERSON AV/CLINTON AV  40.640340  -74.098310   \n",
       "700645   SOUNDVIEW AV/STEPHENS AV  40.807868  -73.852716   \n",
       "5002616     RIVERDALE AV/W 263 ST  40.912363  -73.902699   \n",
       "5654034             E 126 ST/2 AV  40.803230  -73.932451   \n",
       "2866495          TEARDROP/LAYOVER  40.701747  -73.802398   \n",
       "\n",
       "                                 DestinationName  DestinationLat  \\\n",
       "2314743                        S I MALL YUKON AV       40.575935   \n",
       "700645         WAKEFIELD 241 ST via WHITE PLS RD       40.903309   \n",
       "5002616   WASHINGTON HEIGHTS 166 ST via BROADWAY       40.839813   \n",
       "5654034  SELECT BUS SERVICE SOUTH FERRY via 2 AV       40.702123   \n",
       "2866495                       233 ST VIA MERRICK       40.674860   \n",
       "\n",
       "         DestinationLong VehicleRef  VehicleLocation.Latitude  \\\n",
       "2314743       -74.167683  NYCT_4009                 40.632001   \n",
       "700645        -73.849922  NYCT_1200                 40.832528   \n",
       "5002616       -73.939745  NYCT_4100                 40.870381   \n",
       "5654034       -74.013662  NYCT_1244                 40.744967   \n",
       "2866495       -73.737081  NYCT_8449                 40.684059   \n",
       "\n",
       "         VehicleLocation.Longitude               NextStopPointName  \\\n",
       "2314743                 -74.137942      PORT RICHMOND AV/HOOKER PL   \n",
       "700645                  -73.862537  WHITE PLAINS RD/WESTCHESTER AV   \n",
       "5002616                 -73.915174               BROADWAY/W 215 ST   \n",
       "5654034                 -73.975743                    2 AV/E 34 ST   \n",
       "2866495                 -73.770413           MERRICK BL/BAISLEY BL   \n",
       "\n",
       "        ArrivalProximityText  DistanceFromStop ExpectedArrivalTime  \\\n",
       "2314743        < 1 stop away             246.0                 NaN   \n",
       "700645           approaching              96.0                 NaN   \n",
       "5002616          approaching             122.0                 NaN   \n",
       "5654034          approaching              64.0                 NaN   \n",
       "2866495          approaching              46.0                 NaN   \n",
       "\n",
       "        ScheduledArrivalTime  \n",
       "2314743             14:53:13  \n",
       "700645              08:34:00  \n",
       "5002616             18:28:07  \n",
       "5654034             11:30:28  \n",
       "2866495             17:46:00  "
      ]
     },
     "execution_count": 7,
     "metadata": {},
     "output_type": "execute_result"
    },
    {
     "data": {
      "application/javascript": [
       "\n",
       "            setTimeout(function() {\n",
       "                var nbb_cell_id = 7;\n",
       "                var nbb_unformatted_code = \"# first I examine the missing data and see if there are any noticeable patterns\\nnyc.loc[nyc.isnull().any(axis=1)].head()\";\n",
       "                var nbb_formatted_code = \"# first I examine the missing data and see if there are any noticeable patterns\\nnyc.loc[nyc.isnull().any(axis=1)].head()\";\n",
       "                var nbb_cells = Jupyter.notebook.get_cells();\n",
       "                for (var i = 0; i < nbb_cells.length; ++i) {\n",
       "                    if (nbb_cells[i].input_prompt_number == nbb_cell_id) {\n",
       "                        if (nbb_cells[i].get_text() == nbb_unformatted_code) {\n",
       "                             nbb_cells[i].set_text(nbb_formatted_code);\n",
       "                        }\n",
       "                        break;\n",
       "                    }\n",
       "                }\n",
       "            }, 500);\n",
       "            "
      ],
      "text/plain": [
       "<IPython.core.display.Javascript object>"
      ]
     },
     "metadata": {},
     "output_type": "display_data"
    }
   ],
   "source": [
    "# first I examine the missing data and see if there are any noticeable patterns\n",
    "nyc.loc[nyc.isnull().any(axis=1)].head()"
   ]
  },
  {
   "cell_type": "code",
   "execution_count": 8,
   "metadata": {},
   "outputs": [
    {
     "data": {
      "text/html": [
       "<div>\n",
       "<style scoped>\n",
       "    .dataframe tbody tr th:only-of-type {\n",
       "        vertical-align: middle;\n",
       "    }\n",
       "\n",
       "    .dataframe tbody tr th {\n",
       "        vertical-align: top;\n",
       "    }\n",
       "\n",
       "    .dataframe thead th {\n",
       "        text-align: right;\n",
       "    }\n",
       "</style>\n",
       "<table border=\"1\" class=\"dataframe\">\n",
       "  <thead>\n",
       "    <tr style=\"text-align: right;\">\n",
       "      <th></th>\n",
       "      <th>RecordedAtTime</th>\n",
       "      <th>DirectionRef</th>\n",
       "      <th>PublishedLineName</th>\n",
       "      <th>OriginName</th>\n",
       "      <th>OriginLat</th>\n",
       "      <th>OriginLong</th>\n",
       "      <th>DestinationName</th>\n",
       "      <th>DestinationLat</th>\n",
       "      <th>DestinationLong</th>\n",
       "      <th>VehicleRef</th>\n",
       "      <th>VehicleLocation.Latitude</th>\n",
       "      <th>VehicleLocation.Longitude</th>\n",
       "      <th>NextStopPointName</th>\n",
       "      <th>ArrivalProximityText</th>\n",
       "      <th>DistanceFromStop</th>\n",
       "      <th>ExpectedArrivalTime</th>\n",
       "      <th>ScheduledArrivalTime</th>\n",
       "    </tr>\n",
       "  </thead>\n",
       "  <tbody>\n",
       "    <tr>\n",
       "      <th>1686641</th>\n",
       "      <td>2017-10-08 20:00:51</td>\n",
       "      <td>1</td>\n",
       "      <td>Q44-SBS</td>\n",
       "      <td>BOSTON RD/E 180 ST</td>\n",
       "      <td>40.842561</td>\n",
       "      <td>-73.878332</td>\n",
       "      <td>SELECT BUS JAMAICA via MAIN ST</td>\n",
       "      <td>40.704933</td>\n",
       "      <td>-73.793318</td>\n",
       "      <td>NYCT_5994</td>\n",
       "      <td>40.819096</td>\n",
       "      <td>-73.836337</td>\n",
       "      <td>PARSONS BL/14 AV</td>\n",
       "      <td>2.5 miles away</td>\n",
       "      <td>4090.0</td>\n",
       "      <td>2017-10-08 20:08:54</td>\n",
       "      <td>19:53:00</td>\n",
       "    </tr>\n",
       "    <tr>\n",
       "      <th>2314743</th>\n",
       "      <td>2017-10-11 14:56:16</td>\n",
       "      <td>1</td>\n",
       "      <td>S44</td>\n",
       "      <td>HENDERSON AV/CLINTON AV</td>\n",
       "      <td>40.640340</td>\n",
       "      <td>-74.098310</td>\n",
       "      <td>S I MALL YUKON AV</td>\n",
       "      <td>40.575935</td>\n",
       "      <td>-74.167683</td>\n",
       "      <td>NYCT_4009</td>\n",
       "      <td>40.632001</td>\n",
       "      <td>-74.137942</td>\n",
       "      <td>PORT RICHMOND AV/HOOKER PL</td>\n",
       "      <td>&lt; 1 stop away</td>\n",
       "      <td>246.0</td>\n",
       "      <td>2017-10-08 20:08:54</td>\n",
       "      <td>14:53:13</td>\n",
       "    </tr>\n",
       "    <tr>\n",
       "      <th>868681</th>\n",
       "      <td>2017-10-04 20:23:57</td>\n",
       "      <td>1</td>\n",
       "      <td>B46-SBS</td>\n",
       "      <td>MALCOLM X BL/DE KALB AV</td>\n",
       "      <td>40.693112</td>\n",
       "      <td>-73.931178</td>\n",
       "      <td>SELECT BUS  KINGS PLAZA via UTICA</td>\n",
       "      <td>40.609140</td>\n",
       "      <td>-73.921443</td>\n",
       "      <td>NYCT_7317</td>\n",
       "      <td>40.608955</td>\n",
       "      <td>-73.921335</td>\n",
       "      <td>KINGS PLAZA</td>\n",
       "      <td>at stop</td>\n",
       "      <td>21.0</td>\n",
       "      <td>2017-10-04 20:24:34</td>\n",
       "      <td>20:05:00</td>\n",
       "    </tr>\n",
       "    <tr>\n",
       "      <th>2958444</th>\n",
       "      <td>2017-10-14 08:50:45</td>\n",
       "      <td>0</td>\n",
       "      <td>M60-SBS</td>\n",
       "      <td>BROADWAY/W 106 ST</td>\n",
       "      <td>40.801818</td>\n",
       "      <td>-73.967642</td>\n",
       "      <td>SELECT BUS SERVICE LA GUARDIA AIRPORT</td>\n",
       "      <td>40.768074</td>\n",
       "      <td>-73.862089</td>\n",
       "      <td>NYCT_5854</td>\n",
       "      <td>40.766351</td>\n",
       "      <td>-73.887509</td>\n",
       "      <td>23 AV/82 ST</td>\n",
       "      <td>approaching</td>\n",
       "      <td>31.0</td>\n",
       "      <td>2017-10-14 08:50:52</td>\n",
       "      <td>08:55:56</td>\n",
       "    </tr>\n",
       "    <tr>\n",
       "      <th>3152884</th>\n",
       "      <td>2017-10-15 12:33:08</td>\n",
       "      <td>1</td>\n",
       "      <td>B3</td>\n",
       "      <td>AV U/E 71 ST</td>\n",
       "      <td>40.619674</td>\n",
       "      <td>-73.907840</td>\n",
       "      <td>BENSONHURST HARWAY AV via AV U</td>\n",
       "      <td>40.592814</td>\n",
       "      <td>-73.992566</td>\n",
       "      <td>NYCT_5092</td>\n",
       "      <td>40.594419</td>\n",
       "      <td>-73.990842</td>\n",
       "      <td>25 AV/BATH AV</td>\n",
       "      <td>approaching</td>\n",
       "      <td>48.0</td>\n",
       "      <td>2017-10-15 12:33:19</td>\n",
       "      <td>12:28:04</td>\n",
       "    </tr>\n",
       "  </tbody>\n",
       "</table>\n",
       "</div>"
      ],
      "text/plain": [
       "              RecordedAtTime  DirectionRef PublishedLineName  \\\n",
       "1686641  2017-10-08 20:00:51             1           Q44-SBS   \n",
       "2314743  2017-10-11 14:56:16             1               S44   \n",
       "868681   2017-10-04 20:23:57             1           B46-SBS   \n",
       "2958444  2017-10-14 08:50:45             0           M60-SBS   \n",
       "3152884  2017-10-15 12:33:08             1                B3   \n",
       "\n",
       "                      OriginName  OriginLat  OriginLong  \\\n",
       "1686641       BOSTON RD/E 180 ST  40.842561  -73.878332   \n",
       "2314743  HENDERSON AV/CLINTON AV  40.640340  -74.098310   \n",
       "868681   MALCOLM X BL/DE KALB AV  40.693112  -73.931178   \n",
       "2958444        BROADWAY/W 106 ST  40.801818  -73.967642   \n",
       "3152884             AV U/E 71 ST  40.619674  -73.907840   \n",
       "\n",
       "                               DestinationName  DestinationLat  \\\n",
       "1686641         SELECT BUS JAMAICA via MAIN ST       40.704933   \n",
       "2314743                      S I MALL YUKON AV       40.575935   \n",
       "868681       SELECT BUS  KINGS PLAZA via UTICA       40.609140   \n",
       "2958444  SELECT BUS SERVICE LA GUARDIA AIRPORT       40.768074   \n",
       "3152884         BENSONHURST HARWAY AV via AV U       40.592814   \n",
       "\n",
       "         DestinationLong VehicleRef  VehicleLocation.Latitude  \\\n",
       "1686641       -73.793318  NYCT_5994                 40.819096   \n",
       "2314743       -74.167683  NYCT_4009                 40.632001   \n",
       "868681        -73.921443  NYCT_7317                 40.608955   \n",
       "2958444       -73.862089  NYCT_5854                 40.766351   \n",
       "3152884       -73.992566  NYCT_5092                 40.594419   \n",
       "\n",
       "         VehicleLocation.Longitude           NextStopPointName  \\\n",
       "1686641                 -73.836337            PARSONS BL/14 AV   \n",
       "2314743                 -74.137942  PORT RICHMOND AV/HOOKER PL   \n",
       "868681                  -73.921335                 KINGS PLAZA   \n",
       "2958444                 -73.887509                 23 AV/82 ST   \n",
       "3152884                 -73.990842               25 AV/BATH AV   \n",
       "\n",
       "        ArrivalProximityText  DistanceFromStop  ExpectedArrivalTime  \\\n",
       "1686641       2.5 miles away            4090.0  2017-10-08 20:08:54   \n",
       "2314743        < 1 stop away             246.0  2017-10-08 20:08:54   \n",
       "868681               at stop              21.0  2017-10-04 20:24:34   \n",
       "2958444          approaching              31.0  2017-10-14 08:50:52   \n",
       "3152884          approaching              48.0  2017-10-15 12:33:19   \n",
       "\n",
       "        ScheduledArrivalTime  \n",
       "1686641             19:53:00  \n",
       "2314743             14:53:13  \n",
       "868681              20:05:00  \n",
       "2958444             08:55:56  \n",
       "3152884             12:28:04  "
      ]
     },
     "execution_count": 8,
     "metadata": {},
     "output_type": "execute_result"
    },
    {
     "data": {
      "application/javascript": [
       "\n",
       "            setTimeout(function() {\n",
       "                var nbb_cell_id = 8;\n",
       "                var nbb_unformatted_code = \"# forward fill missing rows\\nnyc = nyc.fillna(method=\\\"ffill\\\")\\nnyc.head()\";\n",
       "                var nbb_formatted_code = \"# forward fill missing rows\\nnyc = nyc.fillna(method=\\\"ffill\\\")\\nnyc.head()\";\n",
       "                var nbb_cells = Jupyter.notebook.get_cells();\n",
       "                for (var i = 0; i < nbb_cells.length; ++i) {\n",
       "                    if (nbb_cells[i].input_prompt_number == nbb_cell_id) {\n",
       "                        if (nbb_cells[i].get_text() == nbb_unformatted_code) {\n",
       "                             nbb_cells[i].set_text(nbb_formatted_code);\n",
       "                        }\n",
       "                        break;\n",
       "                    }\n",
       "                }\n",
       "            }, 500);\n",
       "            "
      ],
      "text/plain": [
       "<IPython.core.display.Javascript object>"
      ]
     },
     "metadata": {},
     "output_type": "display_data"
    }
   ],
   "source": [
    "# forward fill missing rows\n",
    "nyc = nyc.fillna(method=\"ffill\")\n",
    "nyc.head()"
   ]
  },
  {
   "cell_type": "code",
   "execution_count": 9,
   "metadata": {},
   "outputs": [
    {
     "data": {
      "text/plain": [
       "RecordedAtTime               0.0\n",
       "DirectionRef                 0.0\n",
       "PublishedLineName            0.0\n",
       "OriginName                   0.0\n",
       "OriginLat                    0.0\n",
       "OriginLong                   0.0\n",
       "DestinationName              0.0\n",
       "DestinationLat               0.0\n",
       "DestinationLong              0.0\n",
       "VehicleRef                   0.0\n",
       "VehicleLocation.Latitude     0.0\n",
       "VehicleLocation.Longitude    0.0\n",
       "NextStopPointName            0.0\n",
       "ArrivalProximityText         0.0\n",
       "DistanceFromStop             0.0\n",
       "ExpectedArrivalTime          0.0\n",
       "ScheduledArrivalTime         0.0\n",
       "dtype: float64"
      ]
     },
     "execution_count": 9,
     "metadata": {},
     "output_type": "execute_result"
    },
    {
     "data": {
      "application/javascript": [
       "\n",
       "            setTimeout(function() {\n",
       "                var nbb_cell_id = 9;\n",
       "                var nbb_unformatted_code = \"nyc.isna().mean()\";\n",
       "                var nbb_formatted_code = \"nyc.isna().mean()\";\n",
       "                var nbb_cells = Jupyter.notebook.get_cells();\n",
       "                for (var i = 0; i < nbb_cells.length; ++i) {\n",
       "                    if (nbb_cells[i].input_prompt_number == nbb_cell_id) {\n",
       "                        if (nbb_cells[i].get_text() == nbb_unformatted_code) {\n",
       "                             nbb_cells[i].set_text(nbb_formatted_code);\n",
       "                        }\n",
       "                        break;\n",
       "                    }\n",
       "                }\n",
       "            }, 500);\n",
       "            "
      ],
      "text/plain": [
       "<IPython.core.display.Javascript object>"
      ]
     },
     "metadata": {},
     "output_type": "display_data"
    }
   ],
   "source": [
    "nyc.isna().mean()"
   ]
  },
  {
   "cell_type": "markdown",
   "metadata": {},
   "source": [
    "#### Checking for values with insufficient amount of information"
   ]
  },
  {
   "cell_type": "code",
   "execution_count": 10,
   "metadata": {},
   "outputs": [
    {
     "data": {
      "text/plain": [
       "1    501040\n",
       "0    498960\n",
       "Name: DirectionRef, dtype: int64"
      ]
     },
     "execution_count": 10,
     "metadata": {},
     "output_type": "execute_result"
    },
    {
     "data": {
      "application/javascript": [
       "\n",
       "            setTimeout(function() {\n",
       "                var nbb_cell_id = 10;\n",
       "                var nbb_unformatted_code = \"nyc[\\\"DirectionRef\\\"].value_counts()\";\n",
       "                var nbb_formatted_code = \"nyc[\\\"DirectionRef\\\"].value_counts()\";\n",
       "                var nbb_cells = Jupyter.notebook.get_cells();\n",
       "                for (var i = 0; i < nbb_cells.length; ++i) {\n",
       "                    if (nbb_cells[i].input_prompt_number == nbb_cell_id) {\n",
       "                        if (nbb_cells[i].get_text() == nbb_unformatted_code) {\n",
       "                             nbb_cells[i].set_text(nbb_formatted_code);\n",
       "                        }\n",
       "                        break;\n",
       "                    }\n",
       "                }\n",
       "            }, 500);\n",
       "            "
      ],
      "text/plain": [
       "<IPython.core.display.Javascript object>"
      ]
     },
     "metadata": {},
     "output_type": "display_data"
    }
   ],
   "source": [
    "nyc[\"DirectionRef\"].value_counts()"
   ]
  },
  {
   "cell_type": "code",
   "execution_count": 11,
   "metadata": {},
   "outputs": [
    {
     "data": {
      "text/plain": [
       "B6         18405\n",
       "B41        14602\n",
       "Q58        14208\n",
       "Q44-SBS    12941\n",
       "B35        12650\n",
       "           ...  \n",
       "QM10           3\n",
       "QM18           3\n",
       "QM21           2\n",
       "QM42           1\n",
       "QM7            1\n",
       "Name: PublishedLineName, Length: 328, dtype: int64"
      ]
     },
     "execution_count": 11,
     "metadata": {},
     "output_type": "execute_result"
    },
    {
     "data": {
      "application/javascript": [
       "\n",
       "            setTimeout(function() {\n",
       "                var nbb_cell_id = 11;\n",
       "                var nbb_unformatted_code = \"nyc[\\\"PublishedLineName\\\"].value_counts()\";\n",
       "                var nbb_formatted_code = \"nyc[\\\"PublishedLineName\\\"].value_counts()\";\n",
       "                var nbb_cells = Jupyter.notebook.get_cells();\n",
       "                for (var i = 0; i < nbb_cells.length; ++i) {\n",
       "                    if (nbb_cells[i].input_prompt_number == nbb_cell_id) {\n",
       "                        if (nbb_cells[i].get_text() == nbb_unformatted_code) {\n",
       "                             nbb_cells[i].set_text(nbb_formatted_code);\n",
       "                        }\n",
       "                        break;\n",
       "                    }\n",
       "                }\n",
       "            }, 500);\n",
       "            "
      ],
      "text/plain": [
       "<IPython.core.display.Javascript object>"
      ]
     },
     "metadata": {},
     "output_type": "display_data"
    }
   ],
   "source": [
    "nyc[\"PublishedLineName\"].value_counts()"
   ]
  },
  {
   "cell_type": "code",
   "execution_count": 12,
   "metadata": {},
   "outputs": [
    {
     "data": {
      "application/javascript": [
       "\n",
       "            setTimeout(function() {\n",
       "                var nbb_cell_id = 12;\n",
       "                var nbb_unformatted_code = \"# get rid of values in published line name with less than 100 values.\\ncount = nyc[\\\"PublishedLineName\\\"].value_counts()\\nkeep = count[count > 100].index\\nnyc = nyc[nyc[\\\"PublishedLineName\\\"].isin(keep)]\";\n",
       "                var nbb_formatted_code = \"# get rid of values in published line name with less than 100 values.\\ncount = nyc[\\\"PublishedLineName\\\"].value_counts()\\nkeep = count[count > 100].index\\nnyc = nyc[nyc[\\\"PublishedLineName\\\"].isin(keep)]\";\n",
       "                var nbb_cells = Jupyter.notebook.get_cells();\n",
       "                for (var i = 0; i < nbb_cells.length; ++i) {\n",
       "                    if (nbb_cells[i].input_prompt_number == nbb_cell_id) {\n",
       "                        if (nbb_cells[i].get_text() == nbb_unformatted_code) {\n",
       "                             nbb_cells[i].set_text(nbb_formatted_code);\n",
       "                        }\n",
       "                        break;\n",
       "                    }\n",
       "                }\n",
       "            }, 500);\n",
       "            "
      ],
      "text/plain": [
       "<IPython.core.display.Javascript object>"
      ]
     },
     "metadata": {},
     "output_type": "display_data"
    }
   ],
   "source": [
    "# get rid of values in published line name with less than 100 values.\n",
    "count = nyc[\"PublishedLineName\"].value_counts()\n",
    "keep = count[count > 100].index\n",
    "nyc = nyc[nyc[\"PublishedLineName\"].isin(keep)]"
   ]
  },
  {
   "cell_type": "code",
   "execution_count": 13,
   "metadata": {},
   "outputs": [
    {
     "data": {
      "text/plain": [
       "E 126 ST/2 AV              14223\n",
       "MERRICK BL/ARCHER AV       14002\n",
       "W 179 ST/BROADWAY          12527\n",
       "HARWAY AV/BAY 37 ST        10105\n",
       "138 ST/37 AV                9923\n",
       "                           ...  \n",
       "E 68 ST/LEXINGTON AV           2\n",
       "BEACH ST/WATER ST              2\n",
       "E TREMONT AV/ERICSON PL        2\n",
       "MAIN ST/CRAIG AV               1\n",
       "UNDERCLIFF AV/W 176 ST         1\n",
       "Name: OriginName, Length: 616, dtype: int64"
      ]
     },
     "execution_count": 13,
     "metadata": {},
     "output_type": "execute_result"
    },
    {
     "data": {
      "application/javascript": [
       "\n",
       "            setTimeout(function() {\n",
       "                var nbb_cell_id = 13;\n",
       "                var nbb_unformatted_code = \"nyc[\\\"OriginName\\\"].value_counts()\";\n",
       "                var nbb_formatted_code = \"nyc[\\\"OriginName\\\"].value_counts()\";\n",
       "                var nbb_cells = Jupyter.notebook.get_cells();\n",
       "                for (var i = 0; i < nbb_cells.length; ++i) {\n",
       "                    if (nbb_cells[i].input_prompt_number == nbb_cell_id) {\n",
       "                        if (nbb_cells[i].get_text() == nbb_unformatted_code) {\n",
       "                             nbb_cells[i].set_text(nbb_formatted_code);\n",
       "                        }\n",
       "                        break;\n",
       "                    }\n",
       "                }\n",
       "            }, 500);\n",
       "            "
      ],
      "text/plain": [
       "<IPython.core.display.Javascript object>"
      ]
     },
     "metadata": {},
     "output_type": "display_data"
    }
   ],
   "source": [
    "nyc[\"OriginName\"].value_counts()"
   ]
  },
  {
   "cell_type": "code",
   "execution_count": 14,
   "metadata": {},
   "outputs": [
    {
     "data": {
      "application/javascript": [
       "\n",
       "            setTimeout(function() {\n",
       "                var nbb_cell_id = 14;\n",
       "                var nbb_unformatted_code = \"# get rid of values in origin name with less than 100 values.\\ncount = nyc[\\\"OriginName\\\"].value_counts()\\nkeep = count[count > 99].index\\nnyc = nyc[nyc[\\\"OriginName\\\"].isin(keep)]\";\n",
       "                var nbb_formatted_code = \"# get rid of values in origin name with less than 100 values.\\ncount = nyc[\\\"OriginName\\\"].value_counts()\\nkeep = count[count > 99].index\\nnyc = nyc[nyc[\\\"OriginName\\\"].isin(keep)]\";\n",
       "                var nbb_cells = Jupyter.notebook.get_cells();\n",
       "                for (var i = 0; i < nbb_cells.length; ++i) {\n",
       "                    if (nbb_cells[i].input_prompt_number == nbb_cell_id) {\n",
       "                        if (nbb_cells[i].get_text() == nbb_unformatted_code) {\n",
       "                             nbb_cells[i].set_text(nbb_formatted_code);\n",
       "                        }\n",
       "                        break;\n",
       "                    }\n",
       "                }\n",
       "            }, 500);\n",
       "            "
      ],
      "text/plain": [
       "<IPython.core.display.Javascript object>"
      ]
     },
     "metadata": {},
     "output_type": "display_data"
    }
   ],
   "source": [
    "# get rid of values in origin name with less than 100 values.\n",
    "count = nyc[\"OriginName\"].value_counts()\n",
    "keep = count[count > 99].index\n",
    "nyc = nyc[nyc[\"OriginName\"].isin(keep)]"
   ]
  },
  {
   "cell_type": "code",
   "execution_count": 15,
   "metadata": {
    "scrolled": true
   },
   "outputs": [
    {
     "data": {
      "text/plain": [
       "WASHINGTON HTS GW BRIDGE          13757\n",
       "ST GEORGE FERRY                    8765\n",
       "FLUSHING  MAIN ST STA              7810\n",
       "W FARMS RD SOUTHERN BL             7585\n",
       "SELECT BUS JAMAICA via MAIN ST     6421\n",
       "                                  ...  \n",
       "WOODROW RD                            2\n",
       "RUTLAND RD                            2\n",
       "HYLAN BL & CLOVE RD                   1\n",
       "36 ST - 5 AV                          1\n",
       "FORDHAM RD                            1\n",
       "Name: DestinationName, Length: 607, dtype: int64"
      ]
     },
     "execution_count": 15,
     "metadata": {},
     "output_type": "execute_result"
    },
    {
     "data": {
      "application/javascript": [
       "\n",
       "            setTimeout(function() {\n",
       "                var nbb_cell_id = 15;\n",
       "                var nbb_unformatted_code = \"nyc[\\\"DestinationName\\\"].value_counts()\";\n",
       "                var nbb_formatted_code = \"nyc[\\\"DestinationName\\\"].value_counts()\";\n",
       "                var nbb_cells = Jupyter.notebook.get_cells();\n",
       "                for (var i = 0; i < nbb_cells.length; ++i) {\n",
       "                    if (nbb_cells[i].input_prompt_number == nbb_cell_id) {\n",
       "                        if (nbb_cells[i].get_text() == nbb_unformatted_code) {\n",
       "                             nbb_cells[i].set_text(nbb_formatted_code);\n",
       "                        }\n",
       "                        break;\n",
       "                    }\n",
       "                }\n",
       "            }, 500);\n",
       "            "
      ],
      "text/plain": [
       "<IPython.core.display.Javascript object>"
      ]
     },
     "metadata": {},
     "output_type": "display_data"
    }
   ],
   "source": [
    "nyc[\"DestinationName\"].value_counts()"
   ]
  },
  {
   "cell_type": "code",
   "execution_count": 16,
   "metadata": {},
   "outputs": [
    {
     "data": {
      "application/javascript": [
       "\n",
       "            setTimeout(function() {\n",
       "                var nbb_cell_id = 16;\n",
       "                var nbb_unformatted_code = \"# get rid of values in destination name with less than 100 values.\\ncount = nyc[\\\"DestinationName\\\"].value_counts()\\nkeep = count[count > 99].index\\nnyc = nyc[nyc[\\\"DestinationName\\\"].isin(keep)]\";\n",
       "                var nbb_formatted_code = \"# get rid of values in destination name with less than 100 values.\\ncount = nyc[\\\"DestinationName\\\"].value_counts()\\nkeep = count[count > 99].index\\nnyc = nyc[nyc[\\\"DestinationName\\\"].isin(keep)]\";\n",
       "                var nbb_cells = Jupyter.notebook.get_cells();\n",
       "                for (var i = 0; i < nbb_cells.length; ++i) {\n",
       "                    if (nbb_cells[i].input_prompt_number == nbb_cell_id) {\n",
       "                        if (nbb_cells[i].get_text() == nbb_unformatted_code) {\n",
       "                             nbb_cells[i].set_text(nbb_formatted_code);\n",
       "                        }\n",
       "                        break;\n",
       "                    }\n",
       "                }\n",
       "            }, 500);\n",
       "            "
      ],
      "text/plain": [
       "<IPython.core.display.Javascript object>"
      ]
     },
     "metadata": {},
     "output_type": "display_data"
    }
   ],
   "source": [
    "# get rid of values in destination name with less than 100 values.\n",
    "count = nyc[\"DestinationName\"].value_counts()\n",
    "keep = count[count > 99].index\n",
    "nyc = nyc[nyc[\"DestinationName\"].isin(keep)]"
   ]
  },
  {
   "cell_type": "code",
   "execution_count": 17,
   "metadata": {},
   "outputs": [
    {
     "data": {
      "text/plain": [
       "NYCT_5845    510\n",
       "NYCT_6039    466\n",
       "NYCT_5843    466\n",
       "NYCT_5856    466\n",
       "NYCT_5858    462\n",
       "            ... \n",
       "NYCT_5565      4\n",
       "NYCT_2457      4\n",
       "NYCT_3891      3\n",
       "NYCT_2217      1\n",
       "NYCT_2220      1\n",
       "Name: VehicleRef, Length: 4448, dtype: int64"
      ]
     },
     "execution_count": 17,
     "metadata": {},
     "output_type": "execute_result"
    },
    {
     "data": {
      "application/javascript": [
       "\n",
       "            setTimeout(function() {\n",
       "                var nbb_cell_id = 17;\n",
       "                var nbb_unformatted_code = \"nyc[\\\"VehicleRef\\\"].value_counts()\";\n",
       "                var nbb_formatted_code = \"nyc[\\\"VehicleRef\\\"].value_counts()\";\n",
       "                var nbb_cells = Jupyter.notebook.get_cells();\n",
       "                for (var i = 0; i < nbb_cells.length; ++i) {\n",
       "                    if (nbb_cells[i].input_prompt_number == nbb_cell_id) {\n",
       "                        if (nbb_cells[i].get_text() == nbb_unformatted_code) {\n",
       "                             nbb_cells[i].set_text(nbb_formatted_code);\n",
       "                        }\n",
       "                        break;\n",
       "                    }\n",
       "                }\n",
       "            }, 500);\n",
       "            "
      ],
      "text/plain": [
       "<IPython.core.display.Javascript object>"
      ]
     },
     "metadata": {},
     "output_type": "display_data"
    }
   ],
   "source": [
    "nyc[\"VehicleRef\"].value_counts()"
   ]
  },
  {
   "cell_type": "code",
   "execution_count": 18,
   "metadata": {},
   "outputs": [
    {
     "data": {
      "application/javascript": [
       "\n",
       "            setTimeout(function() {\n",
       "                var nbb_cell_id = 18;\n",
       "                var nbb_unformatted_code = \"# get rid of values in vehicle ref with less than 100 values.\\ncount = nyc[\\\"VehicleRef\\\"].value_counts()\\nkeep = count[count > 99].index\\nnyc = nyc[nyc[\\\"VehicleRef\\\"].isin(keep)]\";\n",
       "                var nbb_formatted_code = \"# get rid of values in vehicle ref with less than 100 values.\\ncount = nyc[\\\"VehicleRef\\\"].value_counts()\\nkeep = count[count > 99].index\\nnyc = nyc[nyc[\\\"VehicleRef\\\"].isin(keep)]\";\n",
       "                var nbb_cells = Jupyter.notebook.get_cells();\n",
       "                for (var i = 0; i < nbb_cells.length; ++i) {\n",
       "                    if (nbb_cells[i].input_prompt_number == nbb_cell_id) {\n",
       "                        if (nbb_cells[i].get_text() == nbb_unformatted_code) {\n",
       "                             nbb_cells[i].set_text(nbb_formatted_code);\n",
       "                        }\n",
       "                        break;\n",
       "                    }\n",
       "                }\n",
       "            }, 500);\n",
       "            "
      ],
      "text/plain": [
       "<IPython.core.display.Javascript object>"
      ]
     },
     "metadata": {},
     "output_type": "display_data"
    }
   ],
   "source": [
    "# get rid of values in vehicle ref with less than 100 values.\n",
    "count = nyc[\"VehicleRef\"].value_counts()\n",
    "keep = count[count > 99].index\n",
    "nyc = nyc[nyc[\"VehicleRef\"].isin(keep)]"
   ]
  },
  {
   "cell_type": "code",
   "execution_count": 19,
   "metadata": {},
   "outputs": [
    {
     "data": {
      "text/plain": [
       "W 181 ST/AMSTERDAM AV         1857\n",
       "BAY ST/NICK LAPORTE PL        1640\n",
       "MERRICK BL/ARCHER AV          1633\n",
       "KINGS PLAZA                   1538\n",
       "HOYT AV/31 ST                 1389\n",
       "                              ... \n",
       "CRAIG AV/HYLAN BL                1\n",
       "BAY PLAZA BL/CO-OP CITY BL       1\n",
       "CROTONA AV/E TREMONT AV          1\n",
       "MARTLINGS AV / SLOSSON AV        1\n",
       "ANNADALE RD/NORTH PINE TER       1\n",
       "Name: NextStopPointName, Length: 9195, dtype: int64"
      ]
     },
     "execution_count": 19,
     "metadata": {},
     "output_type": "execute_result"
    },
    {
     "data": {
      "application/javascript": [
       "\n",
       "            setTimeout(function() {\n",
       "                var nbb_cell_id = 19;\n",
       "                var nbb_unformatted_code = \"nyc[\\\"NextStopPointName\\\"].value_counts()\";\n",
       "                var nbb_formatted_code = \"nyc[\\\"NextStopPointName\\\"].value_counts()\";\n",
       "                var nbb_cells = Jupyter.notebook.get_cells();\n",
       "                for (var i = 0; i < nbb_cells.length; ++i) {\n",
       "                    if (nbb_cells[i].input_prompt_number == nbb_cell_id) {\n",
       "                        if (nbb_cells[i].get_text() == nbb_unformatted_code) {\n",
       "                             nbb_cells[i].set_text(nbb_formatted_code);\n",
       "                        }\n",
       "                        break;\n",
       "                    }\n",
       "                }\n",
       "            }, 500);\n",
       "            "
      ],
      "text/plain": [
       "<IPython.core.display.Javascript object>"
      ]
     },
     "metadata": {},
     "output_type": "display_data"
    }
   ],
   "source": [
    "nyc[\"NextStopPointName\"].value_counts()"
   ]
  },
  {
   "cell_type": "code",
   "execution_count": 20,
   "metadata": {},
   "outputs": [
    {
     "data": {
      "application/javascript": [
       "\n",
       "            setTimeout(function() {\n",
       "                var nbb_cell_id = 20;\n",
       "                var nbb_unformatted_code = \"# get rid of values in next stop point name with less than 20 values.\\ncount = nyc[\\\"NextStopPointName\\\"].value_counts()\\nkeep = count[count > 19].index\\nnyc = nyc[nyc[\\\"NextStopPointName\\\"].isin(keep)]\";\n",
       "                var nbb_formatted_code = \"# get rid of values in next stop point name with less than 20 values.\\ncount = nyc[\\\"NextStopPointName\\\"].value_counts()\\nkeep = count[count > 19].index\\nnyc = nyc[nyc[\\\"NextStopPointName\\\"].isin(keep)]\";\n",
       "                var nbb_cells = Jupyter.notebook.get_cells();\n",
       "                for (var i = 0; i < nbb_cells.length; ++i) {\n",
       "                    if (nbb_cells[i].input_prompt_number == nbb_cell_id) {\n",
       "                        if (nbb_cells[i].get_text() == nbb_unformatted_code) {\n",
       "                             nbb_cells[i].set_text(nbb_formatted_code);\n",
       "                        }\n",
       "                        break;\n",
       "                    }\n",
       "                }\n",
       "            }, 500);\n",
       "            "
      ],
      "text/plain": [
       "<IPython.core.display.Javascript object>"
      ]
     },
     "metadata": {},
     "output_type": "display_data"
    }
   ],
   "source": [
    "# get rid of values in next stop point name with less than 20 values.\n",
    "count = nyc[\"NextStopPointName\"].value_counts()\n",
    "keep = count[count > 19].index\n",
    "nyc = nyc[nyc[\"NextStopPointName\"].isin(keep)]"
   ]
  },
  {
   "cell_type": "code",
   "execution_count": 21,
   "metadata": {},
   "outputs": [
    {
     "data": {
      "text/plain": [
       "approaching        353013\n",
       "< 1 stop away      291711\n",
       "at stop            270224\n",
       "0.6 miles away       5190\n",
       "0.5 miles away       3606\n",
       "                    ...  \n",
       "8.3 miles away          1\n",
       "14.4 miles away         1\n",
       "9.1 miles away          1\n",
       "10.3 miles away         1\n",
       "9.8 miles away          1\n",
       "Name: ArrivalProximityText, Length: 189, dtype: int64"
      ]
     },
     "execution_count": 21,
     "metadata": {},
     "output_type": "execute_result"
    },
    {
     "data": {
      "application/javascript": [
       "\n",
       "            setTimeout(function() {\n",
       "                var nbb_cell_id = 21;\n",
       "                var nbb_unformatted_code = \"nyc[\\\"ArrivalProximityText\\\"].value_counts()\";\n",
       "                var nbb_formatted_code = \"nyc[\\\"ArrivalProximityText\\\"].value_counts()\";\n",
       "                var nbb_cells = Jupyter.notebook.get_cells();\n",
       "                for (var i = 0; i < nbb_cells.length; ++i) {\n",
       "                    if (nbb_cells[i].input_prompt_number == nbb_cell_id) {\n",
       "                        if (nbb_cells[i].get_text() == nbb_unformatted_code) {\n",
       "                             nbb_cells[i].set_text(nbb_formatted_code);\n",
       "                        }\n",
       "                        break;\n",
       "                    }\n",
       "                }\n",
       "            }, 500);\n",
       "            "
      ],
      "text/plain": [
       "<IPython.core.display.Javascript object>"
      ]
     },
     "metadata": {},
     "output_type": "display_data"
    }
   ],
   "source": [
    "nyc[\"ArrivalProximityText\"].value_counts()"
   ]
  },
  {
   "cell_type": "code",
   "execution_count": 22,
   "metadata": {},
   "outputs": [
    {
     "data": {
      "application/javascript": [
       "\n",
       "            setTimeout(function() {\n",
       "                var nbb_cell_id = 22;\n",
       "                var nbb_unformatted_code = \"# get rid of values in arrival proximity text with less than 20 values.\\ncount = nyc[\\\"ArrivalProximityText\\\"].value_counts()\\nkeep = count[count > 19].index\\nnyc = nyc[nyc[\\\"ArrivalProximityText\\\"].isin(keep)]\";\n",
       "                var nbb_formatted_code = \"# get rid of values in arrival proximity text with less than 20 values.\\ncount = nyc[\\\"ArrivalProximityText\\\"].value_counts()\\nkeep = count[count > 19].index\\nnyc = nyc[nyc[\\\"ArrivalProximityText\\\"].isin(keep)]\";\n",
       "                var nbb_cells = Jupyter.notebook.get_cells();\n",
       "                for (var i = 0; i < nbb_cells.length; ++i) {\n",
       "                    if (nbb_cells[i].input_prompt_number == nbb_cell_id) {\n",
       "                        if (nbb_cells[i].get_text() == nbb_unformatted_code) {\n",
       "                             nbb_cells[i].set_text(nbb_formatted_code);\n",
       "                        }\n",
       "                        break;\n",
       "                    }\n",
       "                }\n",
       "            }, 500);\n",
       "            "
      ],
      "text/plain": [
       "<IPython.core.display.Javascript object>"
      ]
     },
     "metadata": {},
     "output_type": "display_data"
    }
   ],
   "source": [
    "# get rid of values in arrival proximity text with less than 20 values.\n",
    "count = nyc[\"ArrivalProximityText\"].value_counts()\n",
    "keep = count[count > 19].index\n",
    "nyc = nyc[nyc[\"ArrivalProximityText\"].isin(keep)]"
   ]
  },
  {
   "cell_type": "markdown",
   "metadata": {},
   "source": [
    "#### Change data types "
   ]
  },
  {
   "cell_type": "code",
   "execution_count": 23,
   "metadata": {},
   "outputs": [
    {
     "data": {
      "text/plain": [
       "RecordedAtTime                object\n",
       "DirectionRef                   int64\n",
       "PublishedLineName             object\n",
       "OriginName                    object\n",
       "OriginLat                    float64\n",
       "OriginLong                   float64\n",
       "DestinationName               object\n",
       "DestinationLat               float64\n",
       "DestinationLong              float64\n",
       "VehicleRef                    object\n",
       "VehicleLocation.Latitude     float64\n",
       "VehicleLocation.Longitude    float64\n",
       "NextStopPointName             object\n",
       "ArrivalProximityText          object\n",
       "DistanceFromStop             float64\n",
       "ExpectedArrivalTime           object\n",
       "ScheduledArrivalTime          object\n",
       "dtype: object"
      ]
     },
     "execution_count": 23,
     "metadata": {},
     "output_type": "execute_result"
    },
    {
     "data": {
      "application/javascript": [
       "\n",
       "            setTimeout(function() {\n",
       "                var nbb_cell_id = 23;\n",
       "                var nbb_unformatted_code = \"nyc.dtypes\";\n",
       "                var nbb_formatted_code = \"nyc.dtypes\";\n",
       "                var nbb_cells = Jupyter.notebook.get_cells();\n",
       "                for (var i = 0; i < nbb_cells.length; ++i) {\n",
       "                    if (nbb_cells[i].input_prompt_number == nbb_cell_id) {\n",
       "                        if (nbb_cells[i].get_text() == nbb_unformatted_code) {\n",
       "                             nbb_cells[i].set_text(nbb_formatted_code);\n",
       "                        }\n",
       "                        break;\n",
       "                    }\n",
       "                }\n",
       "            }, 500);\n",
       "            "
      ],
      "text/plain": [
       "<IPython.core.display.Javascript object>"
      ]
     },
     "metadata": {},
     "output_type": "display_data"
    }
   ],
   "source": [
    "nyc.dtypes"
   ]
  },
  {
   "cell_type": "code",
   "execution_count": 24,
   "metadata": {
    "scrolled": true
   },
   "outputs": [
    {
     "data": {
      "application/javascript": [
       "\n",
       "            setTimeout(function() {\n",
       "                var nbb_cell_id = 24;\n",
       "                var nbb_unformatted_code = \"nyc[\\\"RecordedAtTime\\\"] = pd.to_datetime(nyc[\\\"RecordedAtTime\\\"])\";\n",
       "                var nbb_formatted_code = \"nyc[\\\"RecordedAtTime\\\"] = pd.to_datetime(nyc[\\\"RecordedAtTime\\\"])\";\n",
       "                var nbb_cells = Jupyter.notebook.get_cells();\n",
       "                for (var i = 0; i < nbb_cells.length; ++i) {\n",
       "                    if (nbb_cells[i].input_prompt_number == nbb_cell_id) {\n",
       "                        if (nbb_cells[i].get_text() == nbb_unformatted_code) {\n",
       "                             nbb_cells[i].set_text(nbb_formatted_code);\n",
       "                        }\n",
       "                        break;\n",
       "                    }\n",
       "                }\n",
       "            }, 500);\n",
       "            "
      ],
      "text/plain": [
       "<IPython.core.display.Javascript object>"
      ]
     },
     "metadata": {},
     "output_type": "display_data"
    }
   ],
   "source": [
    "nyc[\"RecordedAtTime\"] = pd.to_datetime(nyc[\"RecordedAtTime\"])"
   ]
  },
  {
   "cell_type": "code",
   "execution_count": 25,
   "metadata": {},
   "outputs": [
    {
     "data": {
      "application/javascript": [
       "\n",
       "            setTimeout(function() {\n",
       "                var nbb_cell_id = 25;\n",
       "                var nbb_unformatted_code = \"# creating new columns for hours/minutes/seconds\\nnyc[\\\"RecordedAtTimeHour\\\"] = nyc[\\\"RecordedAtTime\\\"].dt.hour\\nnyc[\\\"RecordedAtTimeMinute\\\"] = nyc[\\\"RecordedAtTime\\\"].dt.minute\\nnyc[\\\"RecordedAtTimeSecond\\\"] = nyc[\\\"RecordedAtTime\\\"].dt.second\";\n",
       "                var nbb_formatted_code = \"# creating new columns for hours/minutes/seconds\\nnyc[\\\"RecordedAtTimeHour\\\"] = nyc[\\\"RecordedAtTime\\\"].dt.hour\\nnyc[\\\"RecordedAtTimeMinute\\\"] = nyc[\\\"RecordedAtTime\\\"].dt.minute\\nnyc[\\\"RecordedAtTimeSecond\\\"] = nyc[\\\"RecordedAtTime\\\"].dt.second\";\n",
       "                var nbb_cells = Jupyter.notebook.get_cells();\n",
       "                for (var i = 0; i < nbb_cells.length; ++i) {\n",
       "                    if (nbb_cells[i].input_prompt_number == nbb_cell_id) {\n",
       "                        if (nbb_cells[i].get_text() == nbb_unformatted_code) {\n",
       "                             nbb_cells[i].set_text(nbb_formatted_code);\n",
       "                        }\n",
       "                        break;\n",
       "                    }\n",
       "                }\n",
       "            }, 500);\n",
       "            "
      ],
      "text/plain": [
       "<IPython.core.display.Javascript object>"
      ]
     },
     "metadata": {},
     "output_type": "display_data"
    }
   ],
   "source": [
    "# creating new columns for hours/minutes/seconds\n",
    "nyc[\"RecordedAtTimeHour\"] = nyc[\"RecordedAtTime\"].dt.hour\n",
    "nyc[\"RecordedAtTimeMinute\"] = nyc[\"RecordedAtTime\"].dt.minute\n",
    "nyc[\"RecordedAtTimeSecond\"] = nyc[\"RecordedAtTime\"].dt.second"
   ]
  },
  {
   "cell_type": "code",
   "execution_count": 26,
   "metadata": {},
   "outputs": [
    {
     "data": {
      "application/javascript": [
       "\n",
       "            setTimeout(function() {\n",
       "                var nbb_cell_id = 26;\n",
       "                var nbb_unformatted_code = \"# creating new columns for day of the week and month\\n# for day of week: monday = 0, sunday = 6\\n# for month: January = 1, December = 12\\nnyc[\\\"RecordedAtTimeDayofWeek\\\"] = nyc[\\\"RecordedAtTime\\\"].dt.dayofweek\\nnyc[\\\"RecordedAtTimeMonth\\\"] = nyc[\\\"RecordedAtTime\\\"].dt.month\";\n",
       "                var nbb_formatted_code = \"# creating new columns for day of the week and month\\n# for day of week: monday = 0, sunday = 6\\n# for month: January = 1, December = 12\\nnyc[\\\"RecordedAtTimeDayofWeek\\\"] = nyc[\\\"RecordedAtTime\\\"].dt.dayofweek\\nnyc[\\\"RecordedAtTimeMonth\\\"] = nyc[\\\"RecordedAtTime\\\"].dt.month\";\n",
       "                var nbb_cells = Jupyter.notebook.get_cells();\n",
       "                for (var i = 0; i < nbb_cells.length; ++i) {\n",
       "                    if (nbb_cells[i].input_prompt_number == nbb_cell_id) {\n",
       "                        if (nbb_cells[i].get_text() == nbb_unformatted_code) {\n",
       "                             nbb_cells[i].set_text(nbb_formatted_code);\n",
       "                        }\n",
       "                        break;\n",
       "                    }\n",
       "                }\n",
       "            }, 500);\n",
       "            "
      ],
      "text/plain": [
       "<IPython.core.display.Javascript object>"
      ]
     },
     "metadata": {},
     "output_type": "display_data"
    }
   ],
   "source": [
    "# creating new columns for day of the week and month\n",
    "# for day of week: monday = 0, sunday = 6\n",
    "# for month: January = 1, December = 12\n",
    "nyc[\"RecordedAtTimeDayofWeek\"] = nyc[\"RecordedAtTime\"].dt.dayofweek\n",
    "nyc[\"RecordedAtTimeMonth\"] = nyc[\"RecordedAtTime\"].dt.month"
   ]
  },
  {
   "cell_type": "code",
   "execution_count": 27,
   "metadata": {},
   "outputs": [
    {
     "data": {
      "application/javascript": [
       "\n",
       "            setTimeout(function() {\n",
       "                var nbb_cell_id = 27;\n",
       "                var nbb_unformatted_code = \"nyc[\\\"ExpectedArrivalTime\\\"] = pd.to_datetime(nyc[\\\"ExpectedArrivalTime\\\"])\";\n",
       "                var nbb_formatted_code = \"nyc[\\\"ExpectedArrivalTime\\\"] = pd.to_datetime(nyc[\\\"ExpectedArrivalTime\\\"])\";\n",
       "                var nbb_cells = Jupyter.notebook.get_cells();\n",
       "                for (var i = 0; i < nbb_cells.length; ++i) {\n",
       "                    if (nbb_cells[i].input_prompt_number == nbb_cell_id) {\n",
       "                        if (nbb_cells[i].get_text() == nbb_unformatted_code) {\n",
       "                             nbb_cells[i].set_text(nbb_formatted_code);\n",
       "                        }\n",
       "                        break;\n",
       "                    }\n",
       "                }\n",
       "            }, 500);\n",
       "            "
      ],
      "text/plain": [
       "<IPython.core.display.Javascript object>"
      ]
     },
     "metadata": {},
     "output_type": "display_data"
    }
   ],
   "source": [
    "nyc[\"ExpectedArrivalTime\"] = pd.to_datetime(nyc[\"ExpectedArrivalTime\"])"
   ]
  },
  {
   "cell_type": "code",
   "execution_count": 28,
   "metadata": {},
   "outputs": [
    {
     "data": {
      "application/javascript": [
       "\n",
       "            setTimeout(function() {\n",
       "                var nbb_cell_id = 28;\n",
       "                var nbb_unformatted_code = \"# creating new columns for hours/minutes/seconds\\nnyc[\\\"ExpectedArrivalTimeHour\\\"] = nyc[\\\"ExpectedArrivalTime\\\"].dt.hour\\nnyc[\\\"ExpectedArrivalTimeMinute\\\"] = nyc[\\\"ExpectedArrivalTime\\\"].dt.minute\\nnyc[\\\"ExpectedArrivalTimeSecond\\\"] = nyc[\\\"ExpectedArrivalTime\\\"].dt.second\";\n",
       "                var nbb_formatted_code = \"# creating new columns for hours/minutes/seconds\\nnyc[\\\"ExpectedArrivalTimeHour\\\"] = nyc[\\\"ExpectedArrivalTime\\\"].dt.hour\\nnyc[\\\"ExpectedArrivalTimeMinute\\\"] = nyc[\\\"ExpectedArrivalTime\\\"].dt.minute\\nnyc[\\\"ExpectedArrivalTimeSecond\\\"] = nyc[\\\"ExpectedArrivalTime\\\"].dt.second\";\n",
       "                var nbb_cells = Jupyter.notebook.get_cells();\n",
       "                for (var i = 0; i < nbb_cells.length; ++i) {\n",
       "                    if (nbb_cells[i].input_prompt_number == nbb_cell_id) {\n",
       "                        if (nbb_cells[i].get_text() == nbb_unformatted_code) {\n",
       "                             nbb_cells[i].set_text(nbb_formatted_code);\n",
       "                        }\n",
       "                        break;\n",
       "                    }\n",
       "                }\n",
       "            }, 500);\n",
       "            "
      ],
      "text/plain": [
       "<IPython.core.display.Javascript object>"
      ]
     },
     "metadata": {},
     "output_type": "display_data"
    }
   ],
   "source": [
    "# creating new columns for hours/minutes/seconds\n",
    "nyc[\"ExpectedArrivalTimeHour\"] = nyc[\"ExpectedArrivalTime\"].dt.hour\n",
    "nyc[\"ExpectedArrivalTimeMinute\"] = nyc[\"ExpectedArrivalTime\"].dt.minute\n",
    "nyc[\"ExpectedArrivalTimeSecond\"] = nyc[\"ExpectedArrivalTime\"].dt.second"
   ]
  },
  {
   "cell_type": "code",
   "execution_count": 29,
   "metadata": {},
   "outputs": [
    {
     "data": {
      "application/javascript": [
       "\n",
       "            setTimeout(function() {\n",
       "                var nbb_cell_id = 29;\n",
       "                var nbb_unformatted_code = \"# creating new columns for day of the week and month\\n# for day of week: monday = 0, sunday = 6\\n# for month: January = 1, December = 12\\nnyc[\\\"ExpectedArrivalTimeDayofWeek\\\"] = nyc[\\\"ExpectedArrivalTime\\\"].dt.dayofweek\\nnyc[\\\"ExpectedArrivalTimeMonth\\\"] = nyc[\\\"ExpectedArrivalTime\\\"].dt.month\";\n",
       "                var nbb_formatted_code = \"# creating new columns for day of the week and month\\n# for day of week: monday = 0, sunday = 6\\n# for month: January = 1, December = 12\\nnyc[\\\"ExpectedArrivalTimeDayofWeek\\\"] = nyc[\\\"ExpectedArrivalTime\\\"].dt.dayofweek\\nnyc[\\\"ExpectedArrivalTimeMonth\\\"] = nyc[\\\"ExpectedArrivalTime\\\"].dt.month\";\n",
       "                var nbb_cells = Jupyter.notebook.get_cells();\n",
       "                for (var i = 0; i < nbb_cells.length; ++i) {\n",
       "                    if (nbb_cells[i].input_prompt_number == nbb_cell_id) {\n",
       "                        if (nbb_cells[i].get_text() == nbb_unformatted_code) {\n",
       "                             nbb_cells[i].set_text(nbb_formatted_code);\n",
       "                        }\n",
       "                        break;\n",
       "                    }\n",
       "                }\n",
       "            }, 500);\n",
       "            "
      ],
      "text/plain": [
       "<IPython.core.display.Javascript object>"
      ]
     },
     "metadata": {},
     "output_type": "display_data"
    }
   ],
   "source": [
    "# creating new columns for day of the week and month\n",
    "# for day of week: monday = 0, sunday = 6\n",
    "# for month: January = 1, December = 12\n",
    "nyc[\"ExpectedArrivalTimeDayofWeek\"] = nyc[\"ExpectedArrivalTime\"].dt.dayofweek\n",
    "nyc[\"ExpectedArrivalTimeMonth\"] = nyc[\"ExpectedArrivalTime\"].dt.month"
   ]
  },
  {
   "cell_type": "code",
   "execution_count": 30,
   "metadata": {
    "scrolled": true
   },
   "outputs": [
    {
     "data": {
      "application/javascript": [
       "\n",
       "            setTimeout(function() {\n",
       "                var nbb_cell_id = 30;\n",
       "                var nbb_unformatted_code = \"# cleaning up time in scheduled time to be under 24 hours\\nschedule_df = nyc[\\\"ScheduledArrivalTime\\\"].str.split(\\\":\\\", expand=True)\\nschedule_df = schedule_df.apply(pd.to_numeric, axis=1)\\nschedule_df.loc[schedule_df[0] >= 24] -= 24\";\n",
       "                var nbb_formatted_code = \"# cleaning up time in scheduled time to be under 24 hours\\nschedule_df = nyc[\\\"ScheduledArrivalTime\\\"].str.split(\\\":\\\", expand=True)\\nschedule_df = schedule_df.apply(pd.to_numeric, axis=1)\\nschedule_df.loc[schedule_df[0] >= 24] -= 24\";\n",
       "                var nbb_cells = Jupyter.notebook.get_cells();\n",
       "                for (var i = 0; i < nbb_cells.length; ++i) {\n",
       "                    if (nbb_cells[i].input_prompt_number == nbb_cell_id) {\n",
       "                        if (nbb_cells[i].get_text() == nbb_unformatted_code) {\n",
       "                             nbb_cells[i].set_text(nbb_formatted_code);\n",
       "                        }\n",
       "                        break;\n",
       "                    }\n",
       "                }\n",
       "            }, 500);\n",
       "            "
      ],
      "text/plain": [
       "<IPython.core.display.Javascript object>"
      ]
     },
     "metadata": {},
     "output_type": "display_data"
    }
   ],
   "source": [
    "# cleaning up time in scheduled time to be under 24 hours\n",
    "schedule_df = nyc[\"ScheduledArrivalTime\"].str.split(\":\", expand=True)\n",
    "schedule_df = schedule_df.apply(pd.to_numeric, axis=1)\n",
    "schedule_df.loc[schedule_df[0] >= 24] -= 24"
   ]
  },
  {
   "cell_type": "code",
   "execution_count": 31,
   "metadata": {
    "scrolled": true
   },
   "outputs": [
    {
     "data": {
      "text/html": [
       "<div>\n",
       "<style scoped>\n",
       "    .dataframe tbody tr th:only-of-type {\n",
       "        vertical-align: middle;\n",
       "    }\n",
       "\n",
       "    .dataframe tbody tr th {\n",
       "        vertical-align: top;\n",
       "    }\n",
       "\n",
       "    .dataframe thead th {\n",
       "        text-align: right;\n",
       "    }\n",
       "</style>\n",
       "<table border=\"1\" class=\"dataframe\">\n",
       "  <thead>\n",
       "    <tr style=\"text-align: right;\">\n",
       "      <th></th>\n",
       "      <th>ScheduledArrivalTimeHour</th>\n",
       "      <th>ScheduledArrivalTimeMinute</th>\n",
       "      <th>ScheduledArrivalTimeSecond</th>\n",
       "    </tr>\n",
       "  </thead>\n",
       "  <tbody>\n",
       "    <tr>\n",
       "      <th>1686641</th>\n",
       "      <td>19</td>\n",
       "      <td>53</td>\n",
       "      <td>0</td>\n",
       "    </tr>\n",
       "    <tr>\n",
       "      <th>868681</th>\n",
       "      <td>20</td>\n",
       "      <td>5</td>\n",
       "      <td>0</td>\n",
       "    </tr>\n",
       "    <tr>\n",
       "      <th>2958444</th>\n",
       "      <td>8</td>\n",
       "      <td>55</td>\n",
       "      <td>56</td>\n",
       "    </tr>\n",
       "    <tr>\n",
       "      <th>3152884</th>\n",
       "      <td>12</td>\n",
       "      <td>28</td>\n",
       "      <td>4</td>\n",
       "    </tr>\n",
       "    <tr>\n",
       "      <th>254046</th>\n",
       "      <td>12</td>\n",
       "      <td>52</td>\n",
       "      <td>0</td>\n",
       "    </tr>\n",
       "  </tbody>\n",
       "</table>\n",
       "</div>"
      ],
      "text/plain": [
       "         ScheduledArrivalTimeHour  ScheduledArrivalTimeMinute  \\\n",
       "1686641                        19                          53   \n",
       "868681                         20                           5   \n",
       "2958444                         8                          55   \n",
       "3152884                        12                          28   \n",
       "254046                         12                          52   \n",
       "\n",
       "         ScheduledArrivalTimeSecond  \n",
       "1686641                           0  \n",
       "868681                            0  \n",
       "2958444                          56  \n",
       "3152884                           4  \n",
       "254046                            0  "
      ]
     },
     "execution_count": 31,
     "metadata": {},
     "output_type": "execute_result"
    },
    {
     "data": {
      "application/javascript": [
       "\n",
       "            setTimeout(function() {\n",
       "                var nbb_cell_id = 31;\n",
       "                var nbb_unformatted_code = \"schedule_df = schedule_df.rename(\\n    columns={\\n        0: \\\"ScheduledArrivalTimeHour\\\",\\n        1: \\\"ScheduledArrivalTimeMinute\\\",\\n        2: \\\"ScheduledArrivalTimeSecond\\\",\\n    }\\n)\\nschedule_df.head()\";\n",
       "                var nbb_formatted_code = \"schedule_df = schedule_df.rename(\\n    columns={\\n        0: \\\"ScheduledArrivalTimeHour\\\",\\n        1: \\\"ScheduledArrivalTimeMinute\\\",\\n        2: \\\"ScheduledArrivalTimeSecond\\\",\\n    }\\n)\\nschedule_df.head()\";\n",
       "                var nbb_cells = Jupyter.notebook.get_cells();\n",
       "                for (var i = 0; i < nbb_cells.length; ++i) {\n",
       "                    if (nbb_cells[i].input_prompt_number == nbb_cell_id) {\n",
       "                        if (nbb_cells[i].get_text() == nbb_unformatted_code) {\n",
       "                             nbb_cells[i].set_text(nbb_formatted_code);\n",
       "                        }\n",
       "                        break;\n",
       "                    }\n",
       "                }\n",
       "            }, 500);\n",
       "            "
      ],
      "text/plain": [
       "<IPython.core.display.Javascript object>"
      ]
     },
     "metadata": {},
     "output_type": "display_data"
    }
   ],
   "source": [
    "schedule_df = schedule_df.rename(\n",
    "    columns={\n",
    "        0: \"ScheduledArrivalTimeHour\",\n",
    "        1: \"ScheduledArrivalTimeMinute\",\n",
    "        2: \"ScheduledArrivalTimeSecond\",\n",
    "    }\n",
    ")\n",
    "schedule_df.head()"
   ]
  },
  {
   "cell_type": "code",
   "execution_count": 32,
   "metadata": {},
   "outputs": [
    {
     "data": {
      "application/javascript": [
       "\n",
       "            setTimeout(function() {\n",
       "                var nbb_cell_id = 32;\n",
       "                var nbb_unformatted_code = \"# combine the two dataframes so all the times and data is in one table\\nnyc = pd.concat([nyc, schedule_df], axis=1, ignore_index=False)\";\n",
       "                var nbb_formatted_code = \"# combine the two dataframes so all the times and data is in one table\\nnyc = pd.concat([nyc, schedule_df], axis=1, ignore_index=False)\";\n",
       "                var nbb_cells = Jupyter.notebook.get_cells();\n",
       "                for (var i = 0; i < nbb_cells.length; ++i) {\n",
       "                    if (nbb_cells[i].input_prompt_number == nbb_cell_id) {\n",
       "                        if (nbb_cells[i].get_text() == nbb_unformatted_code) {\n",
       "                             nbb_cells[i].set_text(nbb_formatted_code);\n",
       "                        }\n",
       "                        break;\n",
       "                    }\n",
       "                }\n",
       "            }, 500);\n",
       "            "
      ],
      "text/plain": [
       "<IPython.core.display.Javascript object>"
      ]
     },
     "metadata": {},
     "output_type": "display_data"
    }
   ],
   "source": [
    "# combine the two dataframes so all the times and data is in one table\n",
    "nyc = pd.concat([nyc, schedule_df], axis=1, ignore_index=False)"
   ]
  },
  {
   "cell_type": "code",
   "execution_count": 33,
   "metadata": {},
   "outputs": [
    {
     "data": {
      "application/javascript": [
       "\n",
       "            setTimeout(function() {\n",
       "                var nbb_cell_id = 33;\n",
       "                var nbb_unformatted_code = \"# extracted data from time columns, can drop columns now\\nnyc = nyc.drop(\\n    columns=[\\\"RecordedAtTime\\\", \\\"ExpectedArrivalTime\\\", \\\"ScheduledArrivalTime\\\"]\\n)\";\n",
       "                var nbb_formatted_code = \"# extracted data from time columns, can drop columns now\\nnyc = nyc.drop(\\n    columns=[\\\"RecordedAtTime\\\", \\\"ExpectedArrivalTime\\\", \\\"ScheduledArrivalTime\\\"]\\n)\";\n",
       "                var nbb_cells = Jupyter.notebook.get_cells();\n",
       "                for (var i = 0; i < nbb_cells.length; ++i) {\n",
       "                    if (nbb_cells[i].input_prompt_number == nbb_cell_id) {\n",
       "                        if (nbb_cells[i].get_text() == nbb_unformatted_code) {\n",
       "                             nbb_cells[i].set_text(nbb_formatted_code);\n",
       "                        }\n",
       "                        break;\n",
       "                    }\n",
       "                }\n",
       "            }, 500);\n",
       "            "
      ],
      "text/plain": [
       "<IPython.core.display.Javascript object>"
      ]
     },
     "metadata": {},
     "output_type": "display_data"
    }
   ],
   "source": [
    "# extracted data from time columns, can drop columns now\n",
    "nyc = nyc.drop(\n",
    "    columns=[\"RecordedAtTime\", \"ExpectedArrivalTime\", \"ScheduledArrivalTime\"]\n",
    ")"
   ]
  },
  {
   "cell_type": "code",
   "execution_count": 34,
   "metadata": {},
   "outputs": [
    {
     "data": {
      "application/javascript": [
       "\n",
       "            setTimeout(function() {\n",
       "                var nbb_cell_id = 34;\n",
       "                var nbb_unformatted_code = \"# Arrival Proximity Text could be number type\\n# nyc[\\\"ArrivalProximityText\\\"].str.strip()\";\n",
       "                var nbb_formatted_code = \"# Arrival Proximity Text could be number type\\n# nyc[\\\"ArrivalProximityText\\\"].str.strip()\";\n",
       "                var nbb_cells = Jupyter.notebook.get_cells();\n",
       "                for (var i = 0; i < nbb_cells.length; ++i) {\n",
       "                    if (nbb_cells[i].input_prompt_number == nbb_cell_id) {\n",
       "                        if (nbb_cells[i].get_text() == nbb_unformatted_code) {\n",
       "                             nbb_cells[i].set_text(nbb_formatted_code);\n",
       "                        }\n",
       "                        break;\n",
       "                    }\n",
       "                }\n",
       "            }, 500);\n",
       "            "
      ],
      "text/plain": [
       "<IPython.core.display.Javascript object>"
      ]
     },
     "metadata": {},
     "output_type": "display_data"
    }
   ],
   "source": [
    "# Arrival Proximity Text could be number type\n",
    "# nyc[\"ArrivalProximityText\"].str.strip()"
   ]
  },
  {
   "cell_type": "code",
   "execution_count": 35,
   "metadata": {},
   "outputs": [
    {
     "data": {
      "text/plain": [
       "DirectionRef                      int64\n",
       "PublishedLineName                object\n",
       "OriginName                       object\n",
       "OriginLat                       float64\n",
       "OriginLong                      float64\n",
       "DestinationName                  object\n",
       "DestinationLat                  float64\n",
       "DestinationLong                 float64\n",
       "VehicleRef                       object\n",
       "VehicleLocation.Latitude        float64\n",
       "VehicleLocation.Longitude       float64\n",
       "NextStopPointName                object\n",
       "ArrivalProximityText             object\n",
       "DistanceFromStop                float64\n",
       "RecordedAtTimeHour                int64\n",
       "RecordedAtTimeMinute              int64\n",
       "RecordedAtTimeSecond              int64\n",
       "RecordedAtTimeDayofWeek           int64\n",
       "RecordedAtTimeMonth               int64\n",
       "ExpectedArrivalTimeHour           int64\n",
       "ExpectedArrivalTimeMinute         int64\n",
       "ExpectedArrivalTimeSecond         int64\n",
       "ExpectedArrivalTimeDayofWeek      int64\n",
       "ExpectedArrivalTimeMonth          int64\n",
       "ScheduledArrivalTimeHour          int64\n",
       "ScheduledArrivalTimeMinute        int64\n",
       "ScheduledArrivalTimeSecond        int64\n",
       "dtype: object"
      ]
     },
     "execution_count": 35,
     "metadata": {},
     "output_type": "execute_result"
    },
    {
     "data": {
      "application/javascript": [
       "\n",
       "            setTimeout(function() {\n",
       "                var nbb_cell_id = 35;\n",
       "                var nbb_unformatted_code = \"nyc.dtypes\";\n",
       "                var nbb_formatted_code = \"nyc.dtypes\";\n",
       "                var nbb_cells = Jupyter.notebook.get_cells();\n",
       "                for (var i = 0; i < nbb_cells.length; ++i) {\n",
       "                    if (nbb_cells[i].input_prompt_number == nbb_cell_id) {\n",
       "                        if (nbb_cells[i].get_text() == nbb_unformatted_code) {\n",
       "                             nbb_cells[i].set_text(nbb_formatted_code);\n",
       "                        }\n",
       "                        break;\n",
       "                    }\n",
       "                }\n",
       "            }, 500);\n",
       "            "
      ],
      "text/plain": [
       "<IPython.core.display.Javascript object>"
      ]
     },
     "metadata": {},
     "output_type": "display_data"
    }
   ],
   "source": [
    "nyc.dtypes"
   ]
  },
  {
   "cell_type": "markdown",
   "metadata": {},
   "source": [
    "#### Dropping features that will not be used in clustering"
   ]
  },
  {
   "cell_type": "code",
   "execution_count": 36,
   "metadata": {},
   "outputs": [
    {
     "data": {
      "application/javascript": [
       "\n",
       "            setTimeout(function() {\n",
       "                var nbb_cell_id = 36;\n",
       "                var nbb_unformatted_code = \"# Create copy of data frame and rename to be used for clustering\\nnyc_clust = nyc.copy()\";\n",
       "                var nbb_formatted_code = \"# Create copy of data frame and rename to be used for clustering\\nnyc_clust = nyc.copy()\";\n",
       "                var nbb_cells = Jupyter.notebook.get_cells();\n",
       "                for (var i = 0; i < nbb_cells.length; ++i) {\n",
       "                    if (nbb_cells[i].input_prompt_number == nbb_cell_id) {\n",
       "                        if (nbb_cells[i].get_text() == nbb_unformatted_code) {\n",
       "                             nbb_cells[i].set_text(nbb_formatted_code);\n",
       "                        }\n",
       "                        break;\n",
       "                    }\n",
       "                }\n",
       "            }, 500);\n",
       "            "
      ],
      "text/plain": [
       "<IPython.core.display.Javascript object>"
      ]
     },
     "metadata": {},
     "output_type": "display_data"
    }
   ],
   "source": [
    "# Create copy of data frame and rename to be used for clustering\n",
    "nyc_clust = nyc.copy()"
   ]
  },
  {
   "cell_type": "code",
   "execution_count": 37,
   "metadata": {},
   "outputs": [
    {
     "data": {
      "application/javascript": [
       "\n",
       "            setTimeout(function() {\n",
       "                var nbb_cell_id = 37;\n",
       "                var nbb_unformatted_code = \"# Since we have Latitude and Longitude for both Origin and Destination, drop origin/destination name\\nnyc_clust = nyc_clust.drop(columns=[\\\"OriginName\\\", \\\"DestinationName\\\"])\";\n",
       "                var nbb_formatted_code = \"# Since we have Latitude and Longitude for both Origin and Destination, drop origin/destination name\\nnyc_clust = nyc_clust.drop(columns=[\\\"OriginName\\\", \\\"DestinationName\\\"])\";\n",
       "                var nbb_cells = Jupyter.notebook.get_cells();\n",
       "                for (var i = 0; i < nbb_cells.length; ++i) {\n",
       "                    if (nbb_cells[i].input_prompt_number == nbb_cell_id) {\n",
       "                        if (nbb_cells[i].get_text() == nbb_unformatted_code) {\n",
       "                             nbb_cells[i].set_text(nbb_formatted_code);\n",
       "                        }\n",
       "                        break;\n",
       "                    }\n",
       "                }\n",
       "            }, 500);\n",
       "            "
      ],
      "text/plain": [
       "<IPython.core.display.Javascript object>"
      ]
     },
     "metadata": {},
     "output_type": "display_data"
    }
   ],
   "source": [
    "# Since we have Latitude and Longitude for both Origin and Destination, drop origin/destination name\n",
    "nyc_clust = nyc_clust.drop(columns=[\"OriginName\", \"DestinationName\"])"
   ]
  },
  {
   "cell_type": "code",
   "execution_count": 38,
   "metadata": {
    "scrolled": true
   },
   "outputs": [
    {
     "data": {
      "text/plain": [
       "DirectionRef                      int64\n",
       "PublishedLineName                object\n",
       "OriginLat                       float64\n",
       "OriginLong                      float64\n",
       "DestinationLat                  float64\n",
       "DestinationLong                 float64\n",
       "VehicleRef                       object\n",
       "VehicleLocation.Latitude        float64\n",
       "VehicleLocation.Longitude       float64\n",
       "NextStopPointName                object\n",
       "ArrivalProximityText             object\n",
       "DistanceFromStop                float64\n",
       "RecordedAtTimeHour                int64\n",
       "RecordedAtTimeMinute              int64\n",
       "RecordedAtTimeSecond              int64\n",
       "RecordedAtTimeDayofWeek           int64\n",
       "RecordedAtTimeMonth               int64\n",
       "ExpectedArrivalTimeHour           int64\n",
       "ExpectedArrivalTimeMinute         int64\n",
       "ExpectedArrivalTimeSecond         int64\n",
       "ExpectedArrivalTimeDayofWeek      int64\n",
       "ExpectedArrivalTimeMonth          int64\n",
       "ScheduledArrivalTimeHour          int64\n",
       "ScheduledArrivalTimeMinute        int64\n",
       "ScheduledArrivalTimeSecond        int64\n",
       "dtype: object"
      ]
     },
     "execution_count": 38,
     "metadata": {},
     "output_type": "execute_result"
    },
    {
     "data": {
      "application/javascript": [
       "\n",
       "            setTimeout(function() {\n",
       "                var nbb_cell_id = 38;\n",
       "                var nbb_unformatted_code = \"nyc_clust.dtypes\";\n",
       "                var nbb_formatted_code = \"nyc_clust.dtypes\";\n",
       "                var nbb_cells = Jupyter.notebook.get_cells();\n",
       "                for (var i = 0; i < nbb_cells.length; ++i) {\n",
       "                    if (nbb_cells[i].input_prompt_number == nbb_cell_id) {\n",
       "                        if (nbb_cells[i].get_text() == nbb_unformatted_code) {\n",
       "                             nbb_cells[i].set_text(nbb_formatted_code);\n",
       "                        }\n",
       "                        break;\n",
       "                    }\n",
       "                }\n",
       "            }, 500);\n",
       "            "
      ],
      "text/plain": [
       "<IPython.core.display.Javascript object>"
      ]
     },
     "metadata": {},
     "output_type": "display_data"
    }
   ],
   "source": [
    "nyc_clust.dtypes"
   ]
  },
  {
   "cell_type": "markdown",
   "metadata": {},
   "source": [
    "# Clustering"
   ]
  }
 ],
 "metadata": {
  "kernelspec": {
   "display_name": "Python 3",
   "language": "python",
   "name": "python3"
  },
  "language_info": {
   "codemirror_mode": {
    "name": "ipython",
    "version": 3
   },
   "file_extension": ".py",
   "mimetype": "text/x-python",
   "name": "python",
   "nbconvert_exporter": "python",
   "pygments_lexer": "ipython3",
   "version": "3.7.6"
  }
 },
 "nbformat": 4,
 "nbformat_minor": 4
}
