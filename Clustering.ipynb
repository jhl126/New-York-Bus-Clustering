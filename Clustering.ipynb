{
 "cells": [
  {
   "cell_type": "code",
   "execution_count": 46,
   "metadata": {},
   "outputs": [
    {
     "data": {
      "application/javascript": [
       "\n",
       "            setTimeout(function() {\n",
       "                var nbb_cell_id = 46;\n",
       "                var nbb_unformatted_code = \"%reload_ext nb_black\\n\\nimport pandas as pd\\nimport numpy as np\\nimport matplotlib as plt\\nimport seaborn as sns\\n\\nimport plotly.express as px\\nfrom ipywidgets import interact\\n\\nfrom sklearn.cluster import (\\n    KMeans,\\n    DBSCAN,\\n    AgglomerativeClustering,\\n    AffinityPropagation,\\n    MeanShift,\\n)\\n\\nfrom sklearn import metrics\\n\\ntry:\\n    import prince\\nexcept ModuleNotFoundError:\\n    !pip install prince\\n    import prince\\n\\n# pd.set_option(\\\"display.max_columns\\\", None)\\n# pd.set_option(\\\"display.max_rows\\\", None)\";\n",
       "                var nbb_formatted_code = \"%reload_ext nb_black\\n\\nimport pandas as pd\\nimport numpy as np\\nimport matplotlib as plt\\nimport seaborn as sns\\n\\nimport plotly.express as px\\nfrom ipywidgets import interact\\n\\nfrom sklearn.cluster import (\\n    KMeans,\\n    DBSCAN,\\n    AgglomerativeClustering,\\n    AffinityPropagation,\\n    MeanShift,\\n)\\n\\nfrom sklearn import metrics\\n\\ntry:\\n    import prince\\nexcept ModuleNotFoundError:\\n    !pip install prince\\n    import prince\\n\\n# pd.set_option(\\\"display.max_columns\\\", None)\\n# pd.set_option(\\\"display.max_rows\\\", None)\";\n",
       "                var nbb_cells = Jupyter.notebook.get_cells();\n",
       "                for (var i = 0; i < nbb_cells.length; ++i) {\n",
       "                    if (nbb_cells[i].input_prompt_number == nbb_cell_id) {\n",
       "                        if (nbb_cells[i].get_text() == nbb_unformatted_code) {\n",
       "                             nbb_cells[i].set_text(nbb_formatted_code);\n",
       "                        }\n",
       "                        break;\n",
       "                    }\n",
       "                }\n",
       "            }, 500);\n",
       "            "
      ],
      "text/plain": [
       "<IPython.core.display.Javascript object>"
      ]
     },
     "metadata": {},
     "output_type": "display_data"
    },
    {
     "data": {
      "application/javascript": [
       "\n",
       "            setTimeout(function() {\n",
       "                var nbb_cell_id = 46;\n",
       "                var nbb_unformatted_code = \"%reload_ext nb_black\\n\\nimport pandas as pd\\nimport numpy as np\\nimport matplotlib as plt\\nimport seaborn as sns\\n\\nimport plotly.express as px\\nfrom ipywidgets import interact\\n\\nfrom sklearn.cluster import (\\n    KMeans,\\n    DBSCAN,\\n    AgglomerativeClustering,\\n    AffinityPropagation,\\n    MeanShift,\\n)\\n\\nfrom sklearn import metrics\\n\\ntry:\\n    import prince\\nexcept ModuleNotFoundError:\\n    !pip install prince\\n    import prince\\n\\n# pd.set_option(\\\"display.max_columns\\\", None)\\n# pd.set_option(\\\"display.max_rows\\\", None)\";\n",
       "                var nbb_formatted_code = \"%reload_ext nb_black\\n\\nimport pandas as pd\\nimport numpy as np\\nimport matplotlib as plt\\nimport seaborn as sns\\n\\nimport plotly.express as px\\nfrom ipywidgets import interact\\n\\nfrom sklearn.cluster import (\\n    KMeans,\\n    DBSCAN,\\n    AgglomerativeClustering,\\n    AffinityPropagation,\\n    MeanShift,\\n)\\n\\nfrom sklearn import metrics\\n\\ntry:\\n    import prince\\nexcept ModuleNotFoundError:\\n    !pip install prince\\n    import prince\\n\\n# pd.set_option(\\\"display.max_columns\\\", None)\\n# pd.set_option(\\\"display.max_rows\\\", None)\";\n",
       "                var nbb_cells = Jupyter.notebook.get_cells();\n",
       "                for (var i = 0; i < nbb_cells.length; ++i) {\n",
       "                    if (nbb_cells[i].input_prompt_number == nbb_cell_id) {\n",
       "                        if (nbb_cells[i].get_text() == nbb_unformatted_code) {\n",
       "                             nbb_cells[i].set_text(nbb_formatted_code);\n",
       "                        }\n",
       "                        break;\n",
       "                    }\n",
       "                }\n",
       "            }, 500);\n",
       "            "
      ],
      "text/plain": [
       "<IPython.core.display.Javascript object>"
      ]
     },
     "metadata": {},
     "output_type": "display_data"
    }
   ],
   "source": [
    "%reload_ext nb_black\n",
    "\n",
    "import pandas as pd\n",
    "import numpy as np\n",
    "import matplotlib as plt\n",
    "import seaborn as sns\n",
    "\n",
    "import plotly.express as px\n",
    "from ipywidgets import interact\n",
    "\n",
    "from sklearn.cluster import (\n",
    "    KMeans,\n",
    "    DBSCAN,\n",
    "    AgglomerativeClustering,\n",
    "    AffinityPropagation,\n",
    "    MeanShift,\n",
    ")\n",
    "\n",
    "from sklearn import metrics\n",
    "\n",
    "try:\n",
    "    import prince\n",
    "except ModuleNotFoundError:\n",
    "    !pip install prince\n",
    "    import prince\n",
    "\n",
    "# pd.set_option(\"display.max_columns\", None)\n",
    "# pd.set_option(\"display.max_rows\", None)"
   ]
  },
  {
   "cell_type": "code",
   "execution_count": 2,
   "metadata": {
    "scrolled": true
   },
   "outputs": [
    {
     "data": {
      "application/javascript": [
       "\n",
       "            setTimeout(function() {\n",
       "                var nbb_cell_id = 2;\n",
       "                var nbb_unformatted_code = \"# filepath = \\\"C:/Users/jlim7/OneDrive/Documents/GitHub/New-York-Bust-Clustering/datafiles/mta_1710.csv\\\"\\nfilepath = \\\"mta_1710.csv\\\"\\n# nyc = pd.read_csv(filepath, error_bad_lines=False)\\n# nyc.to_csv(\\\"mta_1710.csv\\\", index=False)\\nnyc = pd.read_csv(filepath)\\n\\n# help with speed up executing code\\nnyc = nyc.sample(1000000)\";\n",
       "                var nbb_formatted_code = \"# filepath = \\\"C:/Users/jlim7/OneDrive/Documents/GitHub/New-York-Bust-Clustering/datafiles/mta_1710.csv\\\"\\nfilepath = \\\"mta_1710.csv\\\"\\n# nyc = pd.read_csv(filepath, error_bad_lines=False)\\n# nyc.to_csv(\\\"mta_1710.csv\\\", index=False)\\nnyc = pd.read_csv(filepath)\\n\\n# help with speed up executing code\\nnyc = nyc.sample(1000000)\";\n",
       "                var nbb_cells = Jupyter.notebook.get_cells();\n",
       "                for (var i = 0; i < nbb_cells.length; ++i) {\n",
       "                    if (nbb_cells[i].input_prompt_number == nbb_cell_id) {\n",
       "                        if (nbb_cells[i].get_text() == nbb_unformatted_code) {\n",
       "                             nbb_cells[i].set_text(nbb_formatted_code);\n",
       "                        }\n",
       "                        break;\n",
       "                    }\n",
       "                }\n",
       "            }, 500);\n",
       "            "
      ],
      "text/plain": [
       "<IPython.core.display.Javascript object>"
      ]
     },
     "metadata": {},
     "output_type": "display_data"
    }
   ],
   "source": [
    "# filepath = \"C:/Users/jlim7/OneDrive/Documents/GitHub/New-York-Bust-Clustering/datafiles/mta_1710.csv\"\n",
    "filepath = \"mta_1710.csv\"\n",
    "# nyc = pd.read_csv(filepath, error_bad_lines=False)\n",
    "# nyc.to_csv(\"mta_1710.csv\", index=False)\n",
    "nyc = pd.read_csv(filepath)\n",
    "\n",
    "# help with speed up executing code, comment out later\n",
    "nyc = nyc.sample(1000000)"
   ]
  },
  {
   "cell_type": "code",
   "execution_count": 3,
   "metadata": {},
   "outputs": [
    {
     "data": {
      "text/html": [
       "<div>\n",
       "<style scoped>\n",
       "    .dataframe tbody tr th:only-of-type {\n",
       "        vertical-align: middle;\n",
       "    }\n",
       "\n",
       "    .dataframe tbody tr th {\n",
       "        vertical-align: top;\n",
       "    }\n",
       "\n",
       "    .dataframe thead th {\n",
       "        text-align: right;\n",
       "    }\n",
       "</style>\n",
       "<table border=\"1\" class=\"dataframe\">\n",
       "  <thead>\n",
       "    <tr style=\"text-align: right;\">\n",
       "      <th></th>\n",
       "      <th>RecordedAtTime</th>\n",
       "      <th>DirectionRef</th>\n",
       "      <th>PublishedLineName</th>\n",
       "      <th>OriginName</th>\n",
       "      <th>OriginLat</th>\n",
       "      <th>OriginLong</th>\n",
       "      <th>DestinationName</th>\n",
       "      <th>DestinationLat</th>\n",
       "      <th>DestinationLong</th>\n",
       "      <th>VehicleRef</th>\n",
       "      <th>VehicleLocation.Latitude</th>\n",
       "      <th>VehicleLocation.Longitude</th>\n",
       "      <th>NextStopPointName</th>\n",
       "      <th>ArrivalProximityText</th>\n",
       "      <th>DistanceFromStop</th>\n",
       "      <th>ExpectedArrivalTime</th>\n",
       "      <th>ScheduledArrivalTime</th>\n",
       "    </tr>\n",
       "  </thead>\n",
       "  <tbody>\n",
       "    <tr>\n",
       "      <th>4869338</th>\n",
       "      <td>2017-10-23 09:18:11</td>\n",
       "      <td>1</td>\n",
       "      <td>M2</td>\n",
       "      <td>168 ST/AUDUBON AV</td>\n",
       "      <td>40.840644</td>\n",
       "      <td>-73.938543</td>\n",
       "      <td>LTD EAST VILLAGE 8 ST via 5 AV</td>\n",
       "      <td>40.730280</td>\n",
       "      <td>-73.990532</td>\n",
       "      <td>NYCT_3855</td>\n",
       "      <td>40.730290</td>\n",
       "      <td>-73.990592</td>\n",
       "      <td>4 AV/E 9 ST</td>\n",
       "      <td>at stop</td>\n",
       "      <td>0.0</td>\n",
       "      <td>2017-10-23 09:18:17</td>\n",
       "      <td>09:09:00</td>\n",
       "    </tr>\n",
       "    <tr>\n",
       "      <th>1745636</th>\n",
       "      <td>2017-10-09 07:42:19</td>\n",
       "      <td>0</td>\n",
       "      <td>Bx6</td>\n",
       "      <td>RIVERSIDE DR W/157-10 RIVERSIDE DR W</td>\n",
       "      <td>40.836311</td>\n",
       "      <td>-73.948435</td>\n",
       "      <td>HUNTS POINT</td>\n",
       "      <td>40.810086</td>\n",
       "      <td>-73.876396</td>\n",
       "      <td>NYCT_708</td>\n",
       "      <td>40.827586</td>\n",
       "      <td>-73.925189</td>\n",
       "      <td>E 161 ST/GERARD AV</td>\n",
       "      <td>at stop</td>\n",
       "      <td>14.0</td>\n",
       "      <td>NaN</td>\n",
       "      <td>07:42:00</td>\n",
       "    </tr>\n",
       "    <tr>\n",
       "      <th>865364</th>\n",
       "      <td>2017-10-04 20:04:32</td>\n",
       "      <td>1</td>\n",
       "      <td>Q3</td>\n",
       "      <td>165 ST/TERMINAL</td>\n",
       "      <td>40.707557</td>\n",
       "      <td>-73.795502</td>\n",
       "      <td>JFK AIRPORT via FARMERS BL</td>\n",
       "      <td>40.647137</td>\n",
       "      <td>-73.779426</td>\n",
       "      <td>NYCT_8093</td>\n",
       "      <td>40.709201</td>\n",
       "      <td>-73.797272</td>\n",
       "      <td>HILLSIDE AV/169 ST</td>\n",
       "      <td>&lt; 1 stop away</td>\n",
       "      <td>394.0</td>\n",
       "      <td>2017-10-04 20:06:49</td>\n",
       "      <td>20:05:51</td>\n",
       "    </tr>\n",
       "    <tr>\n",
       "      <th>2514738</th>\n",
       "      <td>2017-10-12 10:47:32</td>\n",
       "      <td>1</td>\n",
       "      <td>Bx5</td>\n",
       "      <td>BRUCKNER BL/WESTCHESTER AV</td>\n",
       "      <td>40.851831</td>\n",
       "      <td>-73.827273</td>\n",
       "      <td>SOUTHERN BLVD WESTCHESTER AV</td>\n",
       "      <td>40.824580</td>\n",
       "      <td>-73.891803</td>\n",
       "      <td>NYCT_6107</td>\n",
       "      <td>40.827123</td>\n",
       "      <td>-73.849920</td>\n",
       "      <td>CASTLE HILL AV/BRUCKNER BL</td>\n",
       "      <td>approaching</td>\n",
       "      <td>61.0</td>\n",
       "      <td>2017-10-12 10:48:15</td>\n",
       "      <td>10:38:00</td>\n",
       "    </tr>\n",
       "    <tr>\n",
       "      <th>656792</th>\n",
       "      <td>2017-10-04 05:09:00</td>\n",
       "      <td>0</td>\n",
       "      <td>Bx33</td>\n",
       "      <td>W 135 ST/ST NICHOLAS AV</td>\n",
       "      <td>40.816959</td>\n",
       "      <td>-73.947806</td>\n",
       "      <td>PT MORRIS 132 ST</td>\n",
       "      <td>40.799650</td>\n",
       "      <td>-73.911600</td>\n",
       "      <td>NYCT_7685</td>\n",
       "      <td>40.799527</td>\n",
       "      <td>-73.911785</td>\n",
       "      <td>WALNUT AV/E 133 ST</td>\n",
       "      <td>at stop</td>\n",
       "      <td>20.0</td>\n",
       "      <td>2017-10-04 05:09:19</td>\n",
       "      <td>05:06:00</td>\n",
       "    </tr>\n",
       "    <tr>\n",
       "      <th>4364319</th>\n",
       "      <td>2017-10-20 14:23:55</td>\n",
       "      <td>0</td>\n",
       "      <td>B1</td>\n",
       "      <td>MACKENZIE LOOP (no G-A-R: use 300000)</td>\n",
       "      <td>40.578246</td>\n",
       "      <td>-73.939743</td>\n",
       "      <td>BAY RIDGE 4 AV</td>\n",
       "      <td>40.621842</td>\n",
       "      <td>-74.028363</td>\n",
       "      <td>NYCT_4989</td>\n",
       "      <td>40.578252</td>\n",
       "      <td>-73.939756</td>\n",
       "      <td>ORIENTAL BL/MACKENZIE ST</td>\n",
       "      <td>at stop</td>\n",
       "      <td>0.0</td>\n",
       "      <td>NaN</td>\n",
       "      <td>14:23:00</td>\n",
       "    </tr>\n",
       "    <tr>\n",
       "      <th>3539607</th>\n",
       "      <td>2017-10-17 08:05:35</td>\n",
       "      <td>0</td>\n",
       "      <td>X30</td>\n",
       "      <td>VICTORY BL/CLOVE RD</td>\n",
       "      <td>40.616403</td>\n",
       "      <td>-74.103280</td>\n",
       "      <td>57 ST via NEW JERSEY via MADISON</td>\n",
       "      <td>40.770593</td>\n",
       "      <td>-73.991779</td>\n",
       "      <td>NYCT_2753</td>\n",
       "      <td>40.625233</td>\n",
       "      <td>-74.135542</td>\n",
       "      <td>FOREST AV/BARRETT  AV</td>\n",
       "      <td>at stop</td>\n",
       "      <td>25.0</td>\n",
       "      <td>NaN</td>\n",
       "      <td>08:02:40</td>\n",
       "    </tr>\n",
       "    <tr>\n",
       "      <th>4927048</th>\n",
       "      <td>2017-10-23 13:58:45</td>\n",
       "      <td>1</td>\n",
       "      <td>M101</td>\n",
       "      <td>ST NICHOLAS AV/W 192 ST</td>\n",
       "      <td>40.856288</td>\n",
       "      <td>-73.928768</td>\n",
       "      <td>LTD EAST VILLAGE 6 ST via LEX AV</td>\n",
       "      <td>40.729113</td>\n",
       "      <td>-73.990259</td>\n",
       "      <td>NYCT_6061</td>\n",
       "      <td>40.843131</td>\n",
       "      <td>-73.934536</td>\n",
       "      <td>AMSTERDAM AV/W 172 ST</td>\n",
       "      <td>approaching</td>\n",
       "      <td>140.0</td>\n",
       "      <td>2017-10-23 13:59:30</td>\n",
       "      <td>13:59:10</td>\n",
       "    </tr>\n",
       "    <tr>\n",
       "      <th>1874380</th>\n",
       "      <td>2017-10-09 18:02:45</td>\n",
       "      <td>0</td>\n",
       "      <td>B49</td>\n",
       "      <td>ORIENTAL BL/MACKENZIE ST</td>\n",
       "      <td>40.578139</td>\n",
       "      <td>-73.939799</td>\n",
       "      <td>BD-STY FLTN ST via OCEAN AV via ROGRS AV</td>\n",
       "      <td>40.680644</td>\n",
       "      <td>-73.955715</td>\n",
       "      <td>NYCT_7362</td>\n",
       "      <td>40.623186</td>\n",
       "      <td>-73.955911</td>\n",
       "      <td>OCEAN AV/AV K</td>\n",
       "      <td>approaching</td>\n",
       "      <td>54.0</td>\n",
       "      <td>2017-10-09 18:03:23</td>\n",
       "      <td>18:01:40</td>\n",
       "    </tr>\n",
       "    <tr>\n",
       "      <th>4579282</th>\n",
       "      <td>2017-10-21 15:05:44</td>\n",
       "      <td>1</td>\n",
       "      <td>S74</td>\n",
       "      <td>ST GEORGE FERRY/S74 &amp; S84</td>\n",
       "      <td>40.643185</td>\n",
       "      <td>-74.073812</td>\n",
       "      <td>BRICKTOWN MALL</td>\n",
       "      <td>40.530061</td>\n",
       "      <td>-74.226654</td>\n",
       "      <td>NYCT_8170</td>\n",
       "      <td>40.589744</td>\n",
       "      <td>-74.101149</td>\n",
       "      <td>RICHMOND RD/BUEL AV</td>\n",
       "      <td>approaching</td>\n",
       "      <td>93.0</td>\n",
       "      <td>2017-10-21 15:06:05</td>\n",
       "      <td>14:54:10</td>\n",
       "    </tr>\n",
       "    <tr>\n",
       "      <th>5272264</th>\n",
       "      <td>2017-10-24 19:50:16</td>\n",
       "      <td>1</td>\n",
       "      <td>M96</td>\n",
       "      <td>E 97 ST/1 AV</td>\n",
       "      <td>40.784544</td>\n",
       "      <td>-73.945478</td>\n",
       "      <td>WEST SIDE WEST END AV CROSSTOWN</td>\n",
       "      <td>40.795103</td>\n",
       "      <td>-73.973090</td>\n",
       "      <td>NYCT_6703</td>\n",
       "      <td>40.787203</td>\n",
       "      <td>-73.954112</td>\n",
       "      <td>E 97 ST/5 AV</td>\n",
       "      <td>&lt; 1 stop away</td>\n",
       "      <td>228.0</td>\n",
       "      <td>2017-10-24 19:53:13</td>\n",
       "      <td>19:52:00</td>\n",
       "    </tr>\n",
       "    <tr>\n",
       "      <th>487965</th>\n",
       "      <td>2017-10-03 11:17:35</td>\n",
       "      <td>1</td>\n",
       "      <td>M11</td>\n",
       "      <td>RIVERBANK ST PK/CULTURAL CTR</td>\n",
       "      <td>40.826700</td>\n",
       "      <td>-73.955473</td>\n",
       "      <td>WEST VILL ABINGDON SQ via 9 AV</td>\n",
       "      <td>40.737071</td>\n",
       "      <td>-74.005867</td>\n",
       "      <td>NYCT_3841</td>\n",
       "      <td>40.746502</td>\n",
       "      <td>-74.001318</td>\n",
       "      <td>9 AV/W 23 ST</td>\n",
       "      <td>approaching</td>\n",
       "      <td>36.0</td>\n",
       "      <td>2017-10-03 11:17:52</td>\n",
       "      <td>11:06:00</td>\n",
       "    </tr>\n",
       "    <tr>\n",
       "      <th>6322247</th>\n",
       "      <td>2017-10-29 16:40:26</td>\n",
       "      <td>0</td>\n",
       "      <td>B26</td>\n",
       "      <td>CADMAN PZ W/TILLARY ST</td>\n",
       "      <td>40.695999</td>\n",
       "      <td>-73.990945</td>\n",
       "      <td>RIDGEWOOD TERM via HALSEY</td>\n",
       "      <td>40.699291</td>\n",
       "      <td>-73.910755</td>\n",
       "      <td>NYCT_7272</td>\n",
       "      <td>40.682932</td>\n",
       "      <td>-73.964263</td>\n",
       "      <td>FULTON ST/ST JAMES PL</td>\n",
       "      <td>approaching</td>\n",
       "      <td>86.0</td>\n",
       "      <td>2017-10-29 16:40:57</td>\n",
       "      <td>16:34:25</td>\n",
       "    </tr>\n",
       "    <tr>\n",
       "      <th>4193863</th>\n",
       "      <td>2017-10-19 19:12:23</td>\n",
       "      <td>1</td>\n",
       "      <td>Q59</td>\n",
       "      <td>QUEENS BL/62 DR</td>\n",
       "      <td>40.731330</td>\n",
       "      <td>-73.864944</td>\n",
       "      <td>WILLIAMSBURG BRIDGE PLZ via GRAND</td>\n",
       "      <td>40.709341</td>\n",
       "      <td>-73.960413</td>\n",
       "      <td>NYCT_4554</td>\n",
       "      <td>40.709423</td>\n",
       "      <td>-73.960168</td>\n",
       "      <td>Washington Plaza roadway (not a stop)</td>\n",
       "      <td>approaching</td>\n",
       "      <td>37.0</td>\n",
       "      <td>NaN</td>\n",
       "      <td>18:39:47</td>\n",
       "    </tr>\n",
       "    <tr>\n",
       "      <th>5766438</th>\n",
       "      <td>2017-10-26 19:04:06</td>\n",
       "      <td>1</td>\n",
       "      <td>B38</td>\n",
       "      <td>METROPOLITAN AV/STARR ST</td>\n",
       "      <td>40.713350</td>\n",
       "      <td>-73.914305</td>\n",
       "      <td>DNTWN BKLYN TILLARY ST</td>\n",
       "      <td>40.696117</td>\n",
       "      <td>-73.990995</td>\n",
       "      <td>NYCT_6569</td>\n",
       "      <td>40.690744</td>\n",
       "      <td>-73.956827</td>\n",
       "      <td>DE KALB AV/FRANKLIN AV</td>\n",
       "      <td>at stop</td>\n",
       "      <td>29.0</td>\n",
       "      <td>NaN</td>\n",
       "      <td>19:00:53</td>\n",
       "    </tr>\n",
       "    <tr>\n",
       "      <th>6010674</th>\n",
       "      <td>2017-10-27 18:45:04</td>\n",
       "      <td>1</td>\n",
       "      <td>B38</td>\n",
       "      <td>METROPOLITAN AV/STARR ST</td>\n",
       "      <td>40.713350</td>\n",
       "      <td>-73.914305</td>\n",
       "      <td>DNTWN BKLYN TILLARY ST</td>\n",
       "      <td>40.696117</td>\n",
       "      <td>-73.990995</td>\n",
       "      <td>NYCT_4435</td>\n",
       "      <td>40.690958</td>\n",
       "      <td>-73.954970</td>\n",
       "      <td>DE KALB AV/BEDFORD AV</td>\n",
       "      <td>approaching</td>\n",
       "      <td>73.0</td>\n",
       "      <td>2017-10-27 18:46:02</td>\n",
       "      <td>17:49:32</td>\n",
       "    </tr>\n",
       "    <tr>\n",
       "      <th>6763741</th>\n",
       "      <td>2017-10-31 15:28:19</td>\n",
       "      <td>0</td>\n",
       "      <td>B46-SBS</td>\n",
       "      <td>KINGS PLAZA</td>\n",
       "      <td>40.609564</td>\n",
       "      <td>-73.921817</td>\n",
       "      <td>SELECT BUS De KALB AV via UTICA</td>\n",
       "      <td>40.693672</td>\n",
       "      <td>-73.931170</td>\n",
       "      <td>NYCT_7323</td>\n",
       "      <td>40.619238</td>\n",
       "      <td>-73.926909</td>\n",
       "      <td>UTICA AV/AV N</td>\n",
       "      <td>approaching</td>\n",
       "      <td>71.0</td>\n",
       "      <td>2017-10-31 15:28:34</td>\n",
       "      <td>15:27:00</td>\n",
       "    </tr>\n",
       "    <tr>\n",
       "      <th>4331656</th>\n",
       "      <td>2017-10-20 11:43:16</td>\n",
       "      <td>1</td>\n",
       "      <td>S62</td>\n",
       "      <td>ST GEORGE FERRY/S62 &amp; S92</td>\n",
       "      <td>40.643176</td>\n",
       "      <td>-74.074305</td>\n",
       "      <td>TRAVIS via VICTORY</td>\n",
       "      <td>40.586573</td>\n",
       "      <td>-74.199393</td>\n",
       "      <td>NYCT_4126</td>\n",
       "      <td>40.611067</td>\n",
       "      <td>-74.142397</td>\n",
       "      <td>VICTORY BL/CRYSTAL AV</td>\n",
       "      <td>approaching</td>\n",
       "      <td>90.0</td>\n",
       "      <td>2017-10-20 11:43:32</td>\n",
       "      <td>11:41:09</td>\n",
       "    </tr>\n",
       "    <tr>\n",
       "      <th>5693347</th>\n",
       "      <td>2017-10-26 14:43:51</td>\n",
       "      <td>0</td>\n",
       "      <td>B44-SBS</td>\n",
       "      <td>KNAPP ST/SHORE PKY</td>\n",
       "      <td>40.585035</td>\n",
       "      <td>-73.931329</td>\n",
       "      <td>SBS WLMSBRG BRDG PLZ via NSTRND via RGRS</td>\n",
       "      <td>40.709315</td>\n",
       "      <td>-73.959588</td>\n",
       "      <td>NYCT_5359</td>\n",
       "      <td>40.632155</td>\n",
       "      <td>-73.947591</td>\n",
       "      <td>ROGERS AV/AV D</td>\n",
       "      <td>0.7 miles away</td>\n",
       "      <td>1114.0</td>\n",
       "      <td>2017-10-26 14:48:58</td>\n",
       "      <td>14:46:09</td>\n",
       "    </tr>\n",
       "    <tr>\n",
       "      <th>3877468</th>\n",
       "      <td>2017-10-18 14:38:48</td>\n",
       "      <td>0</td>\n",
       "      <td>B41</td>\n",
       "      <td>FLATBUSH AV/KINGS PLAZA</td>\n",
       "      <td>40.609251</td>\n",
       "      <td>-73.921540</td>\n",
       "      <td>DNTWN BKLYN CADMAN PLZ via FLATBSH</td>\n",
       "      <td>40.695406</td>\n",
       "      <td>-73.990781</td>\n",
       "      <td>NYCT_4624</td>\n",
       "      <td>40.625287</td>\n",
       "      <td>-73.939697</td>\n",
       "      <td>FLATBUSH AV/AV K</td>\n",
       "      <td>at stop</td>\n",
       "      <td>13.0</td>\n",
       "      <td>2017-10-18 14:39:06</td>\n",
       "      <td>14:18:22</td>\n",
       "    </tr>\n",
       "  </tbody>\n",
       "</table>\n",
       "</div>"
      ],
      "text/plain": [
       "              RecordedAtTime  DirectionRef PublishedLineName  \\\n",
       "4869338  2017-10-23 09:18:11             1                M2   \n",
       "1745636  2017-10-09 07:42:19             0               Bx6   \n",
       "865364   2017-10-04 20:04:32             1                Q3   \n",
       "2514738  2017-10-12 10:47:32             1               Bx5   \n",
       "656792   2017-10-04 05:09:00             0              Bx33   \n",
       "4364319  2017-10-20 14:23:55             0                B1   \n",
       "3539607  2017-10-17 08:05:35             0               X30   \n",
       "4927048  2017-10-23 13:58:45             1              M101   \n",
       "1874380  2017-10-09 18:02:45             0               B49   \n",
       "4579282  2017-10-21 15:05:44             1               S74   \n",
       "5272264  2017-10-24 19:50:16             1               M96   \n",
       "487965   2017-10-03 11:17:35             1               M11   \n",
       "6322247  2017-10-29 16:40:26             0               B26   \n",
       "4193863  2017-10-19 19:12:23             1               Q59   \n",
       "5766438  2017-10-26 19:04:06             1               B38   \n",
       "6010674  2017-10-27 18:45:04             1               B38   \n",
       "6763741  2017-10-31 15:28:19             0           B46-SBS   \n",
       "4331656  2017-10-20 11:43:16             1               S62   \n",
       "5693347  2017-10-26 14:43:51             0           B44-SBS   \n",
       "3877468  2017-10-18 14:38:48             0               B41   \n",
       "\n",
       "                                    OriginName  OriginLat  OriginLong  \\\n",
       "4869338                      168 ST/AUDUBON AV  40.840644  -73.938543   \n",
       "1745636   RIVERSIDE DR W/157-10 RIVERSIDE DR W  40.836311  -73.948435   \n",
       "865364                         165 ST/TERMINAL  40.707557  -73.795502   \n",
       "2514738             BRUCKNER BL/WESTCHESTER AV  40.851831  -73.827273   \n",
       "656792                 W 135 ST/ST NICHOLAS AV  40.816959  -73.947806   \n",
       "4364319  MACKENZIE LOOP (no G-A-R: use 300000)  40.578246  -73.939743   \n",
       "3539607                    VICTORY BL/CLOVE RD  40.616403  -74.103280   \n",
       "4927048                ST NICHOLAS AV/W 192 ST  40.856288  -73.928768   \n",
       "1874380               ORIENTAL BL/MACKENZIE ST  40.578139  -73.939799   \n",
       "4579282              ST GEORGE FERRY/S74 & S84  40.643185  -74.073812   \n",
       "5272264                           E 97 ST/1 AV  40.784544  -73.945478   \n",
       "487965            RIVERBANK ST PK/CULTURAL CTR  40.826700  -73.955473   \n",
       "6322247                 CADMAN PZ W/TILLARY ST  40.695999  -73.990945   \n",
       "4193863                        QUEENS BL/62 DR  40.731330  -73.864944   \n",
       "5766438               METROPOLITAN AV/STARR ST  40.713350  -73.914305   \n",
       "6010674               METROPOLITAN AV/STARR ST  40.713350  -73.914305   \n",
       "6763741                            KINGS PLAZA  40.609564  -73.921817   \n",
       "4331656              ST GEORGE FERRY/S62 & S92  40.643176  -74.074305   \n",
       "5693347                     KNAPP ST/SHORE PKY  40.585035  -73.931329   \n",
       "3877468                FLATBUSH AV/KINGS PLAZA  40.609251  -73.921540   \n",
       "\n",
       "                                  DestinationName  DestinationLat  \\\n",
       "4869338            LTD EAST VILLAGE 8 ST via 5 AV       40.730280   \n",
       "1745636                               HUNTS POINT       40.810086   \n",
       "865364                 JFK AIRPORT via FARMERS BL       40.647137   \n",
       "2514738              SOUTHERN BLVD WESTCHESTER AV       40.824580   \n",
       "656792                           PT MORRIS 132 ST       40.799650   \n",
       "4364319                            BAY RIDGE 4 AV       40.621842   \n",
       "3539607          57 ST via NEW JERSEY via MADISON       40.770593   \n",
       "4927048          LTD EAST VILLAGE 6 ST via LEX AV       40.729113   \n",
       "1874380  BD-STY FLTN ST via OCEAN AV via ROGRS AV       40.680644   \n",
       "4579282                            BRICKTOWN MALL       40.530061   \n",
       "5272264           WEST SIDE WEST END AV CROSSTOWN       40.795103   \n",
       "487965             WEST VILL ABINGDON SQ via 9 AV       40.737071   \n",
       "6322247                 RIDGEWOOD TERM via HALSEY       40.699291   \n",
       "4193863         WILLIAMSBURG BRIDGE PLZ via GRAND       40.709341   \n",
       "5766438                    DNTWN BKLYN TILLARY ST       40.696117   \n",
       "6010674                    DNTWN BKLYN TILLARY ST       40.696117   \n",
       "6763741           SELECT BUS De KALB AV via UTICA       40.693672   \n",
       "4331656                        TRAVIS via VICTORY       40.586573   \n",
       "5693347  SBS WLMSBRG BRDG PLZ via NSTRND via RGRS       40.709315   \n",
       "3877468        DNTWN BKLYN CADMAN PLZ via FLATBSH       40.695406   \n",
       "\n",
       "         DestinationLong VehicleRef  VehicleLocation.Latitude  \\\n",
       "4869338       -73.990532  NYCT_3855                 40.730290   \n",
       "1745636       -73.876396   NYCT_708                 40.827586   \n",
       "865364        -73.779426  NYCT_8093                 40.709201   \n",
       "2514738       -73.891803  NYCT_6107                 40.827123   \n",
       "656792        -73.911600  NYCT_7685                 40.799527   \n",
       "4364319       -74.028363  NYCT_4989                 40.578252   \n",
       "3539607       -73.991779  NYCT_2753                 40.625233   \n",
       "4927048       -73.990259  NYCT_6061                 40.843131   \n",
       "1874380       -73.955715  NYCT_7362                 40.623186   \n",
       "4579282       -74.226654  NYCT_8170                 40.589744   \n",
       "5272264       -73.973090  NYCT_6703                 40.787203   \n",
       "487965        -74.005867  NYCT_3841                 40.746502   \n",
       "6322247       -73.910755  NYCT_7272                 40.682932   \n",
       "4193863       -73.960413  NYCT_4554                 40.709423   \n",
       "5766438       -73.990995  NYCT_6569                 40.690744   \n",
       "6010674       -73.990995  NYCT_4435                 40.690958   \n",
       "6763741       -73.931170  NYCT_7323                 40.619238   \n",
       "4331656       -74.199393  NYCT_4126                 40.611067   \n",
       "5693347       -73.959588  NYCT_5359                 40.632155   \n",
       "3877468       -73.990781  NYCT_4624                 40.625287   \n",
       "\n",
       "         VehicleLocation.Longitude                      NextStopPointName  \\\n",
       "4869338                 -73.990592                            4 AV/E 9 ST   \n",
       "1745636                 -73.925189                     E 161 ST/GERARD AV   \n",
       "865364                  -73.797272                     HILLSIDE AV/169 ST   \n",
       "2514738                 -73.849920             CASTLE HILL AV/BRUCKNER BL   \n",
       "656792                  -73.911785                     WALNUT AV/E 133 ST   \n",
       "4364319                 -73.939756               ORIENTAL BL/MACKENZIE ST   \n",
       "3539607                 -74.135542                  FOREST AV/BARRETT  AV   \n",
       "4927048                 -73.934536                  AMSTERDAM AV/W 172 ST   \n",
       "1874380                 -73.955911                          OCEAN AV/AV K   \n",
       "4579282                 -74.101149                    RICHMOND RD/BUEL AV   \n",
       "5272264                 -73.954112                           E 97 ST/5 AV   \n",
       "487965                  -74.001318                           9 AV/W 23 ST   \n",
       "6322247                 -73.964263                  FULTON ST/ST JAMES PL   \n",
       "4193863                 -73.960168  Washington Plaza roadway (not a stop)   \n",
       "5766438                 -73.956827                 DE KALB AV/FRANKLIN AV   \n",
       "6010674                 -73.954970                  DE KALB AV/BEDFORD AV   \n",
       "6763741                 -73.926909                          UTICA AV/AV N   \n",
       "4331656                 -74.142397                  VICTORY BL/CRYSTAL AV   \n",
       "5693347                 -73.947591                         ROGERS AV/AV D   \n",
       "3877468                 -73.939697                       FLATBUSH AV/AV K   \n",
       "\n",
       "        ArrivalProximityText  DistanceFromStop  ExpectedArrivalTime  \\\n",
       "4869338              at stop               0.0  2017-10-23 09:18:17   \n",
       "1745636              at stop              14.0                  NaN   \n",
       "865364         < 1 stop away             394.0  2017-10-04 20:06:49   \n",
       "2514738          approaching              61.0  2017-10-12 10:48:15   \n",
       "656792               at stop              20.0  2017-10-04 05:09:19   \n",
       "4364319              at stop               0.0                  NaN   \n",
       "3539607              at stop              25.0                  NaN   \n",
       "4927048          approaching             140.0  2017-10-23 13:59:30   \n",
       "1874380          approaching              54.0  2017-10-09 18:03:23   \n",
       "4579282          approaching              93.0  2017-10-21 15:06:05   \n",
       "5272264        < 1 stop away             228.0  2017-10-24 19:53:13   \n",
       "487965           approaching              36.0  2017-10-03 11:17:52   \n",
       "6322247          approaching              86.0  2017-10-29 16:40:57   \n",
       "4193863          approaching              37.0                  NaN   \n",
       "5766438              at stop              29.0                  NaN   \n",
       "6010674          approaching              73.0  2017-10-27 18:46:02   \n",
       "6763741          approaching              71.0  2017-10-31 15:28:34   \n",
       "4331656          approaching              90.0  2017-10-20 11:43:32   \n",
       "5693347       0.7 miles away            1114.0  2017-10-26 14:48:58   \n",
       "3877468              at stop              13.0  2017-10-18 14:39:06   \n",
       "\n",
       "        ScheduledArrivalTime  \n",
       "4869338             09:09:00  \n",
       "1745636             07:42:00  \n",
       "865364              20:05:51  \n",
       "2514738             10:38:00  \n",
       "656792              05:06:00  \n",
       "4364319             14:23:00  \n",
       "3539607             08:02:40  \n",
       "4927048             13:59:10  \n",
       "1874380             18:01:40  \n",
       "4579282             14:54:10  \n",
       "5272264             19:52:00  \n",
       "487965              11:06:00  \n",
       "6322247             16:34:25  \n",
       "4193863             18:39:47  \n",
       "5766438             19:00:53  \n",
       "6010674             17:49:32  \n",
       "6763741             15:27:00  \n",
       "4331656             11:41:09  \n",
       "5693347             14:46:09  \n",
       "3877468             14:18:22  "
      ]
     },
     "execution_count": 3,
     "metadata": {},
     "output_type": "execute_result"
    },
    {
     "data": {
      "application/javascript": [
       "\n",
       "            setTimeout(function() {\n",
       "                var nbb_cell_id = 3;\n",
       "                var nbb_unformatted_code = \"nyc.head(20)\";\n",
       "                var nbb_formatted_code = \"nyc.head(20)\";\n",
       "                var nbb_cells = Jupyter.notebook.get_cells();\n",
       "                for (var i = 0; i < nbb_cells.length; ++i) {\n",
       "                    if (nbb_cells[i].input_prompt_number == nbb_cell_id) {\n",
       "                        if (nbb_cells[i].get_text() == nbb_unformatted_code) {\n",
       "                             nbb_cells[i].set_text(nbb_formatted_code);\n",
       "                        }\n",
       "                        break;\n",
       "                    }\n",
       "                }\n",
       "            }, 500);\n",
       "            "
      ],
      "text/plain": [
       "<IPython.core.display.Javascript object>"
      ]
     },
     "metadata": {},
     "output_type": "display_data"
    }
   ],
   "source": [
    "nyc.head(20)"
   ]
  },
  {
   "cell_type": "code",
   "execution_count": 4,
   "metadata": {},
   "outputs": [
    {
     "data": {
      "text/plain": [
       "(1000000, 17)"
      ]
     },
     "execution_count": 4,
     "metadata": {},
     "output_type": "execute_result"
    },
    {
     "data": {
      "application/javascript": [
       "\n",
       "            setTimeout(function() {\n",
       "                var nbb_cell_id = 4;\n",
       "                var nbb_unformatted_code = \"nyc.shape\";\n",
       "                var nbb_formatted_code = \"nyc.shape\";\n",
       "                var nbb_cells = Jupyter.notebook.get_cells();\n",
       "                for (var i = 0; i < nbb_cells.length; ++i) {\n",
       "                    if (nbb_cells[i].input_prompt_number == nbb_cell_id) {\n",
       "                        if (nbb_cells[i].get_text() == nbb_unformatted_code) {\n",
       "                             nbb_cells[i].set_text(nbb_formatted_code);\n",
       "                        }\n",
       "                        break;\n",
       "                    }\n",
       "                }\n",
       "            }, 500);\n",
       "            "
      ],
      "text/plain": [
       "<IPython.core.display.Javascript object>"
      ]
     },
     "metadata": {},
     "output_type": "display_data"
    }
   ],
   "source": [
    "nyc.shape"
   ]
  },
  {
   "cell_type": "code",
   "execution_count": 5,
   "metadata": {},
   "outputs": [
    {
     "data": {
      "application/vnd.jupyter.widget-view+json": {
       "model_id": "f45c2f4b582d422980cf44f0e7ccc45f",
       "version_major": 2,
       "version_minor": 0
      },
      "text/plain": [
       "interactive(children=(Text(value='text input', description='text'), Dropdown(description='select', options=('o…"
      ]
     },
     "metadata": {},
     "output_type": "display_data"
    },
    {
     "data": {
      "application/javascript": [
       "\n",
       "            setTimeout(function() {\n",
       "                var nbb_cell_id = 5;\n",
       "                var nbb_unformatted_code = \"@interact\\ndef do_stuff_interactively(\\n    text=\\\"text input\\\",\\n    select=[\\\"option 1\\\", \\\"option2\\\"],\\n    num=5,\\n    num_range=(3, 8),\\n    bool_tf=True,\\n):\\n    \\\"\\\"\\\"\\n    * Name the function whatever you want\\n    * Name the arguments whatever you want\\n    * @interact chooses an appropriate widget based on default args\\n    * Do whatever you want in the function code\\n    * Function will be rerun every time the input changes\\n    \\\"\\\"\\\"\\n    print(\\\"^Above widgets auto-generated by `@interact`\\\")\\n    print(\\\"\\\\n----------------------------\\\\n\\\")\\n    print(\\\"Below are the outputs of the function:\\\\n\\\")\\n\\n    print(f\\\"text: {text}\\\")\\n    print(f\\\"select: {select}\\\")\\n    print(f\\\"num: {num}\\\")\\n    print(f\\\"num_range: {num_range}\\\")\\n    print(f\\\"bool_tf: {bool_tf}\\\")\";\n",
       "                var nbb_formatted_code = \"@interact\\ndef do_stuff_interactively(\\n    text=\\\"text input\\\",\\n    select=[\\\"option 1\\\", \\\"option2\\\"],\\n    num=5,\\n    num_range=(3, 8),\\n    bool_tf=True,\\n):\\n    \\\"\\\"\\\"\\n    * Name the function whatever you want\\n    * Name the arguments whatever you want\\n    * @interact chooses an appropriate widget based on default args\\n    * Do whatever you want in the function code\\n    * Function will be rerun every time the input changes\\n    \\\"\\\"\\\"\\n    print(\\\"^Above widgets auto-generated by `@interact`\\\")\\n    print(\\\"\\\\n----------------------------\\\\n\\\")\\n    print(\\\"Below are the outputs of the function:\\\\n\\\")\\n\\n    print(f\\\"text: {text}\\\")\\n    print(f\\\"select: {select}\\\")\\n    print(f\\\"num: {num}\\\")\\n    print(f\\\"num_range: {num_range}\\\")\\n    print(f\\\"bool_tf: {bool_tf}\\\")\";\n",
       "                var nbb_cells = Jupyter.notebook.get_cells();\n",
       "                for (var i = 0; i < nbb_cells.length; ++i) {\n",
       "                    if (nbb_cells[i].input_prompt_number == nbb_cell_id) {\n",
       "                        if (nbb_cells[i].get_text() == nbb_unformatted_code) {\n",
       "                             nbb_cells[i].set_text(nbb_formatted_code);\n",
       "                        }\n",
       "                        break;\n",
       "                    }\n",
       "                }\n",
       "            }, 500);\n",
       "            "
      ],
      "text/plain": [
       "<IPython.core.display.Javascript object>"
      ]
     },
     "metadata": {},
     "output_type": "display_data"
    }
   ],
   "source": [
    "@interact\n",
    "def do_stuff_interactively(\n",
    "    text=\"text input\",\n",
    "    select=[\"option 1\", \"option2\"],\n",
    "    num=5,\n",
    "    num_range=(3, 8),\n",
    "    bool_tf=True,\n",
    "):\n",
    "    \"\"\"\n",
    "    * Name the function whatever you want\n",
    "    * Name the arguments whatever you want\n",
    "    * @interact chooses an appropriate widget based on default args\n",
    "    * Do whatever you want in the function code\n",
    "    * Function will be rerun every time the input changes\n",
    "    \"\"\"\n",
    "    print(\"^Above widgets auto-generated by `@interact`\")\n",
    "    print(\"\\n----------------------------\\n\")\n",
    "    print(\"Below are the outputs of the function:\\n\")\n",
    "\n",
    "    print(f\"text: {text}\")\n",
    "    print(f\"select: {select}\")\n",
    "    print(f\"num: {num}\")\n",
    "    print(f\"num_range: {num_range}\")\n",
    "    print(f\"bool_tf: {bool_tf}\")"
   ]
  },
  {
   "cell_type": "markdown",
   "metadata": {},
   "source": [
    "## Data Cleaning"
   ]
  },
  {
   "cell_type": "markdown",
   "metadata": {},
   "source": [
    "#### Checking for missing values and filling in NANs"
   ]
  },
  {
   "cell_type": "code",
   "execution_count": 6,
   "metadata": {
    "scrolled": false
   },
   "outputs": [
    {
     "data": {
      "text/plain": [
       "RecordedAtTime               0.000000\n",
       "DirectionRef                 0.000000\n",
       "PublishedLineName            0.000000\n",
       "OriginName                   0.009352\n",
       "OriginLat                    0.009352\n",
       "OriginLong                   0.009352\n",
       "DestinationName              0.000000\n",
       "DestinationLat               0.001540\n",
       "DestinationLong              0.001540\n",
       "VehicleRef                   0.000000\n",
       "VehicleLocation.Latitude     0.000000\n",
       "VehicleLocation.Longitude    0.000000\n",
       "NextStopPointName            0.001065\n",
       "ArrivalProximityText         0.001065\n",
       "DistanceFromStop             0.001065\n",
       "ExpectedArrivalTime          0.160630\n",
       "ScheduledArrivalTime         0.022148\n",
       "dtype: float64"
      ]
     },
     "execution_count": 6,
     "metadata": {},
     "output_type": "execute_result"
    },
    {
     "data": {
      "application/javascript": [
       "\n",
       "            setTimeout(function() {\n",
       "                var nbb_cell_id = 6;\n",
       "                var nbb_unformatted_code = \"# Expected Arrival Time has around 16% missing rows,\\n# I plan to fill with forward fill.\\nnyc.isna().mean()\";\n",
       "                var nbb_formatted_code = \"# Expected Arrival Time has around 16% missing rows,\\n# I plan to fill with forward fill.\\nnyc.isna().mean()\";\n",
       "                var nbb_cells = Jupyter.notebook.get_cells();\n",
       "                for (var i = 0; i < nbb_cells.length; ++i) {\n",
       "                    if (nbb_cells[i].input_prompt_number == nbb_cell_id) {\n",
       "                        if (nbb_cells[i].get_text() == nbb_unformatted_code) {\n",
       "                             nbb_cells[i].set_text(nbb_formatted_code);\n",
       "                        }\n",
       "                        break;\n",
       "                    }\n",
       "                }\n",
       "            }, 500);\n",
       "            "
      ],
      "text/plain": [
       "<IPython.core.display.Javascript object>"
      ]
     },
     "metadata": {},
     "output_type": "display_data"
    }
   ],
   "source": [
    "# Expected Arrival Time has around 16% missing rows,\n",
    "# I plan to fill with forward fill.\n",
    "nyc.isna().mean()"
   ]
  },
  {
   "cell_type": "code",
   "execution_count": 7,
   "metadata": {
    "scrolled": false
   },
   "outputs": [
    {
     "data": {
      "text/html": [
       "<div>\n",
       "<style scoped>\n",
       "    .dataframe tbody tr th:only-of-type {\n",
       "        vertical-align: middle;\n",
       "    }\n",
       "\n",
       "    .dataframe tbody tr th {\n",
       "        vertical-align: top;\n",
       "    }\n",
       "\n",
       "    .dataframe thead th {\n",
       "        text-align: right;\n",
       "    }\n",
       "</style>\n",
       "<table border=\"1\" class=\"dataframe\">\n",
       "  <thead>\n",
       "    <tr style=\"text-align: right;\">\n",
       "      <th></th>\n",
       "      <th>RecordedAtTime</th>\n",
       "      <th>DirectionRef</th>\n",
       "      <th>PublishedLineName</th>\n",
       "      <th>OriginName</th>\n",
       "      <th>OriginLat</th>\n",
       "      <th>OriginLong</th>\n",
       "      <th>DestinationName</th>\n",
       "      <th>DestinationLat</th>\n",
       "      <th>DestinationLong</th>\n",
       "      <th>VehicleRef</th>\n",
       "      <th>VehicleLocation.Latitude</th>\n",
       "      <th>VehicleLocation.Longitude</th>\n",
       "      <th>NextStopPointName</th>\n",
       "      <th>ArrivalProximityText</th>\n",
       "      <th>DistanceFromStop</th>\n",
       "      <th>ExpectedArrivalTime</th>\n",
       "      <th>ScheduledArrivalTime</th>\n",
       "    </tr>\n",
       "  </thead>\n",
       "  <tbody>\n",
       "    <tr>\n",
       "      <th>1745636</th>\n",
       "      <td>2017-10-09 07:42:19</td>\n",
       "      <td>0</td>\n",
       "      <td>Bx6</td>\n",
       "      <td>RIVERSIDE DR W/157-10 RIVERSIDE DR W</td>\n",
       "      <td>40.836311</td>\n",
       "      <td>-73.948435</td>\n",
       "      <td>HUNTS POINT</td>\n",
       "      <td>40.810086</td>\n",
       "      <td>-73.876396</td>\n",
       "      <td>NYCT_708</td>\n",
       "      <td>40.827586</td>\n",
       "      <td>-73.925189</td>\n",
       "      <td>E 161 ST/GERARD AV</td>\n",
       "      <td>at stop</td>\n",
       "      <td>14.0</td>\n",
       "      <td>NaN</td>\n",
       "      <td>07:42:00</td>\n",
       "    </tr>\n",
       "    <tr>\n",
       "      <th>4364319</th>\n",
       "      <td>2017-10-20 14:23:55</td>\n",
       "      <td>0</td>\n",
       "      <td>B1</td>\n",
       "      <td>MACKENZIE LOOP (no G-A-R: use 300000)</td>\n",
       "      <td>40.578246</td>\n",
       "      <td>-73.939743</td>\n",
       "      <td>BAY RIDGE 4 AV</td>\n",
       "      <td>40.621842</td>\n",
       "      <td>-74.028363</td>\n",
       "      <td>NYCT_4989</td>\n",
       "      <td>40.578252</td>\n",
       "      <td>-73.939756</td>\n",
       "      <td>ORIENTAL BL/MACKENZIE ST</td>\n",
       "      <td>at stop</td>\n",
       "      <td>0.0</td>\n",
       "      <td>NaN</td>\n",
       "      <td>14:23:00</td>\n",
       "    </tr>\n",
       "    <tr>\n",
       "      <th>3539607</th>\n",
       "      <td>2017-10-17 08:05:35</td>\n",
       "      <td>0</td>\n",
       "      <td>X30</td>\n",
       "      <td>VICTORY BL/CLOVE RD</td>\n",
       "      <td>40.616403</td>\n",
       "      <td>-74.103280</td>\n",
       "      <td>57 ST via NEW JERSEY via MADISON</td>\n",
       "      <td>40.770593</td>\n",
       "      <td>-73.991779</td>\n",
       "      <td>NYCT_2753</td>\n",
       "      <td>40.625233</td>\n",
       "      <td>-74.135542</td>\n",
       "      <td>FOREST AV/BARRETT  AV</td>\n",
       "      <td>at stop</td>\n",
       "      <td>25.0</td>\n",
       "      <td>NaN</td>\n",
       "      <td>08:02:40</td>\n",
       "    </tr>\n",
       "    <tr>\n",
       "      <th>4193863</th>\n",
       "      <td>2017-10-19 19:12:23</td>\n",
       "      <td>1</td>\n",
       "      <td>Q59</td>\n",
       "      <td>QUEENS BL/62 DR</td>\n",
       "      <td>40.731330</td>\n",
       "      <td>-73.864944</td>\n",
       "      <td>WILLIAMSBURG BRIDGE PLZ via GRAND</td>\n",
       "      <td>40.709341</td>\n",
       "      <td>-73.960413</td>\n",
       "      <td>NYCT_4554</td>\n",
       "      <td>40.709423</td>\n",
       "      <td>-73.960168</td>\n",
       "      <td>Washington Plaza roadway (not a stop)</td>\n",
       "      <td>approaching</td>\n",
       "      <td>37.0</td>\n",
       "      <td>NaN</td>\n",
       "      <td>18:39:47</td>\n",
       "    </tr>\n",
       "    <tr>\n",
       "      <th>5766438</th>\n",
       "      <td>2017-10-26 19:04:06</td>\n",
       "      <td>1</td>\n",
       "      <td>B38</td>\n",
       "      <td>METROPOLITAN AV/STARR ST</td>\n",
       "      <td>40.713350</td>\n",
       "      <td>-73.914305</td>\n",
       "      <td>DNTWN BKLYN TILLARY ST</td>\n",
       "      <td>40.696117</td>\n",
       "      <td>-73.990995</td>\n",
       "      <td>NYCT_6569</td>\n",
       "      <td>40.690744</td>\n",
       "      <td>-73.956827</td>\n",
       "      <td>DE KALB AV/FRANKLIN AV</td>\n",
       "      <td>at stop</td>\n",
       "      <td>29.0</td>\n",
       "      <td>NaN</td>\n",
       "      <td>19:00:53</td>\n",
       "    </tr>\n",
       "  </tbody>\n",
       "</table>\n",
       "</div>"
      ],
      "text/plain": [
       "              RecordedAtTime  DirectionRef PublishedLineName  \\\n",
       "1745636  2017-10-09 07:42:19             0               Bx6   \n",
       "4364319  2017-10-20 14:23:55             0                B1   \n",
       "3539607  2017-10-17 08:05:35             0               X30   \n",
       "4193863  2017-10-19 19:12:23             1               Q59   \n",
       "5766438  2017-10-26 19:04:06             1               B38   \n",
       "\n",
       "                                    OriginName  OriginLat  OriginLong  \\\n",
       "1745636   RIVERSIDE DR W/157-10 RIVERSIDE DR W  40.836311  -73.948435   \n",
       "4364319  MACKENZIE LOOP (no G-A-R: use 300000)  40.578246  -73.939743   \n",
       "3539607                    VICTORY BL/CLOVE RD  40.616403  -74.103280   \n",
       "4193863                        QUEENS BL/62 DR  40.731330  -73.864944   \n",
       "5766438               METROPOLITAN AV/STARR ST  40.713350  -73.914305   \n",
       "\n",
       "                           DestinationName  DestinationLat  DestinationLong  \\\n",
       "1745636                        HUNTS POINT       40.810086       -73.876396   \n",
       "4364319                     BAY RIDGE 4 AV       40.621842       -74.028363   \n",
       "3539607   57 ST via NEW JERSEY via MADISON       40.770593       -73.991779   \n",
       "4193863  WILLIAMSBURG BRIDGE PLZ via GRAND       40.709341       -73.960413   \n",
       "5766438             DNTWN BKLYN TILLARY ST       40.696117       -73.990995   \n",
       "\n",
       "        VehicleRef  VehicleLocation.Latitude  VehicleLocation.Longitude  \\\n",
       "1745636   NYCT_708                 40.827586                 -73.925189   \n",
       "4364319  NYCT_4989                 40.578252                 -73.939756   \n",
       "3539607  NYCT_2753                 40.625233                 -74.135542   \n",
       "4193863  NYCT_4554                 40.709423                 -73.960168   \n",
       "5766438  NYCT_6569                 40.690744                 -73.956827   \n",
       "\n",
       "                             NextStopPointName ArrivalProximityText  \\\n",
       "1745636                     E 161 ST/GERARD AV              at stop   \n",
       "4364319               ORIENTAL BL/MACKENZIE ST              at stop   \n",
       "3539607                  FOREST AV/BARRETT  AV              at stop   \n",
       "4193863  Washington Plaza roadway (not a stop)          approaching   \n",
       "5766438                 DE KALB AV/FRANKLIN AV              at stop   \n",
       "\n",
       "         DistanceFromStop ExpectedArrivalTime ScheduledArrivalTime  \n",
       "1745636              14.0                 NaN             07:42:00  \n",
       "4364319               0.0                 NaN             14:23:00  \n",
       "3539607              25.0                 NaN             08:02:40  \n",
       "4193863              37.0                 NaN             18:39:47  \n",
       "5766438              29.0                 NaN             19:00:53  "
      ]
     },
     "execution_count": 7,
     "metadata": {},
     "output_type": "execute_result"
    },
    {
     "data": {
      "application/javascript": [
       "\n",
       "            setTimeout(function() {\n",
       "                var nbb_cell_id = 7;\n",
       "                var nbb_unformatted_code = \"# first I examine the missing data and see if there are any noticeable patterns\\nnyc.loc[nyc.isnull().any(axis=1)].head()\";\n",
       "                var nbb_formatted_code = \"# first I examine the missing data and see if there are any noticeable patterns\\nnyc.loc[nyc.isnull().any(axis=1)].head()\";\n",
       "                var nbb_cells = Jupyter.notebook.get_cells();\n",
       "                for (var i = 0; i < nbb_cells.length; ++i) {\n",
       "                    if (nbb_cells[i].input_prompt_number == nbb_cell_id) {\n",
       "                        if (nbb_cells[i].get_text() == nbb_unformatted_code) {\n",
       "                             nbb_cells[i].set_text(nbb_formatted_code);\n",
       "                        }\n",
       "                        break;\n",
       "                    }\n",
       "                }\n",
       "            }, 500);\n",
       "            "
      ],
      "text/plain": [
       "<IPython.core.display.Javascript object>"
      ]
     },
     "metadata": {},
     "output_type": "display_data"
    }
   ],
   "source": [
    "# first I examine the missing data and see if there are any noticeable patterns\n",
    "nyc.loc[nyc.isnull().any(axis=1)].head()"
   ]
  },
  {
   "cell_type": "code",
   "execution_count": 8,
   "metadata": {},
   "outputs": [
    {
     "data": {
      "text/html": [
       "<div>\n",
       "<style scoped>\n",
       "    .dataframe tbody tr th:only-of-type {\n",
       "        vertical-align: middle;\n",
       "    }\n",
       "\n",
       "    .dataframe tbody tr th {\n",
       "        vertical-align: top;\n",
       "    }\n",
       "\n",
       "    .dataframe thead th {\n",
       "        text-align: right;\n",
       "    }\n",
       "</style>\n",
       "<table border=\"1\" class=\"dataframe\">\n",
       "  <thead>\n",
       "    <tr style=\"text-align: right;\">\n",
       "      <th></th>\n",
       "      <th>RecordedAtTime</th>\n",
       "      <th>DirectionRef</th>\n",
       "      <th>PublishedLineName</th>\n",
       "      <th>OriginName</th>\n",
       "      <th>OriginLat</th>\n",
       "      <th>OriginLong</th>\n",
       "      <th>DestinationName</th>\n",
       "      <th>DestinationLat</th>\n",
       "      <th>DestinationLong</th>\n",
       "      <th>VehicleRef</th>\n",
       "      <th>VehicleLocation.Latitude</th>\n",
       "      <th>VehicleLocation.Longitude</th>\n",
       "      <th>NextStopPointName</th>\n",
       "      <th>ArrivalProximityText</th>\n",
       "      <th>DistanceFromStop</th>\n",
       "      <th>ExpectedArrivalTime</th>\n",
       "      <th>ScheduledArrivalTime</th>\n",
       "    </tr>\n",
       "  </thead>\n",
       "  <tbody>\n",
       "    <tr>\n",
       "      <th>4869338</th>\n",
       "      <td>2017-10-23 09:18:11</td>\n",
       "      <td>1</td>\n",
       "      <td>M2</td>\n",
       "      <td>168 ST/AUDUBON AV</td>\n",
       "      <td>40.840644</td>\n",
       "      <td>-73.938543</td>\n",
       "      <td>LTD EAST VILLAGE 8 ST via 5 AV</td>\n",
       "      <td>40.730280</td>\n",
       "      <td>-73.990532</td>\n",
       "      <td>NYCT_3855</td>\n",
       "      <td>40.730290</td>\n",
       "      <td>-73.990592</td>\n",
       "      <td>4 AV/E 9 ST</td>\n",
       "      <td>at stop</td>\n",
       "      <td>0.0</td>\n",
       "      <td>2017-10-23 09:18:17</td>\n",
       "      <td>09:09:00</td>\n",
       "    </tr>\n",
       "    <tr>\n",
       "      <th>1745636</th>\n",
       "      <td>2017-10-09 07:42:19</td>\n",
       "      <td>0</td>\n",
       "      <td>Bx6</td>\n",
       "      <td>RIVERSIDE DR W/157-10 RIVERSIDE DR W</td>\n",
       "      <td>40.836311</td>\n",
       "      <td>-73.948435</td>\n",
       "      <td>HUNTS POINT</td>\n",
       "      <td>40.810086</td>\n",
       "      <td>-73.876396</td>\n",
       "      <td>NYCT_708</td>\n",
       "      <td>40.827586</td>\n",
       "      <td>-73.925189</td>\n",
       "      <td>E 161 ST/GERARD AV</td>\n",
       "      <td>at stop</td>\n",
       "      <td>14.0</td>\n",
       "      <td>2017-10-23 09:18:17</td>\n",
       "      <td>07:42:00</td>\n",
       "    </tr>\n",
       "    <tr>\n",
       "      <th>865364</th>\n",
       "      <td>2017-10-04 20:04:32</td>\n",
       "      <td>1</td>\n",
       "      <td>Q3</td>\n",
       "      <td>165 ST/TERMINAL</td>\n",
       "      <td>40.707557</td>\n",
       "      <td>-73.795502</td>\n",
       "      <td>JFK AIRPORT via FARMERS BL</td>\n",
       "      <td>40.647137</td>\n",
       "      <td>-73.779426</td>\n",
       "      <td>NYCT_8093</td>\n",
       "      <td>40.709201</td>\n",
       "      <td>-73.797272</td>\n",
       "      <td>HILLSIDE AV/169 ST</td>\n",
       "      <td>&lt; 1 stop away</td>\n",
       "      <td>394.0</td>\n",
       "      <td>2017-10-04 20:06:49</td>\n",
       "      <td>20:05:51</td>\n",
       "    </tr>\n",
       "    <tr>\n",
       "      <th>2514738</th>\n",
       "      <td>2017-10-12 10:47:32</td>\n",
       "      <td>1</td>\n",
       "      <td>Bx5</td>\n",
       "      <td>BRUCKNER BL/WESTCHESTER AV</td>\n",
       "      <td>40.851831</td>\n",
       "      <td>-73.827273</td>\n",
       "      <td>SOUTHERN BLVD WESTCHESTER AV</td>\n",
       "      <td>40.824580</td>\n",
       "      <td>-73.891803</td>\n",
       "      <td>NYCT_6107</td>\n",
       "      <td>40.827123</td>\n",
       "      <td>-73.849920</td>\n",
       "      <td>CASTLE HILL AV/BRUCKNER BL</td>\n",
       "      <td>approaching</td>\n",
       "      <td>61.0</td>\n",
       "      <td>2017-10-12 10:48:15</td>\n",
       "      <td>10:38:00</td>\n",
       "    </tr>\n",
       "    <tr>\n",
       "      <th>656792</th>\n",
       "      <td>2017-10-04 05:09:00</td>\n",
       "      <td>0</td>\n",
       "      <td>Bx33</td>\n",
       "      <td>W 135 ST/ST NICHOLAS AV</td>\n",
       "      <td>40.816959</td>\n",
       "      <td>-73.947806</td>\n",
       "      <td>PT MORRIS 132 ST</td>\n",
       "      <td>40.799650</td>\n",
       "      <td>-73.911600</td>\n",
       "      <td>NYCT_7685</td>\n",
       "      <td>40.799527</td>\n",
       "      <td>-73.911785</td>\n",
       "      <td>WALNUT AV/E 133 ST</td>\n",
       "      <td>at stop</td>\n",
       "      <td>20.0</td>\n",
       "      <td>2017-10-04 05:09:19</td>\n",
       "      <td>05:06:00</td>\n",
       "    </tr>\n",
       "  </tbody>\n",
       "</table>\n",
       "</div>"
      ],
      "text/plain": [
       "              RecordedAtTime  DirectionRef PublishedLineName  \\\n",
       "4869338  2017-10-23 09:18:11             1                M2   \n",
       "1745636  2017-10-09 07:42:19             0               Bx6   \n",
       "865364   2017-10-04 20:04:32             1                Q3   \n",
       "2514738  2017-10-12 10:47:32             1               Bx5   \n",
       "656792   2017-10-04 05:09:00             0              Bx33   \n",
       "\n",
       "                                   OriginName  OriginLat  OriginLong  \\\n",
       "4869338                     168 ST/AUDUBON AV  40.840644  -73.938543   \n",
       "1745636  RIVERSIDE DR W/157-10 RIVERSIDE DR W  40.836311  -73.948435   \n",
       "865364                        165 ST/TERMINAL  40.707557  -73.795502   \n",
       "2514738            BRUCKNER BL/WESTCHESTER AV  40.851831  -73.827273   \n",
       "656792                W 135 ST/ST NICHOLAS AV  40.816959  -73.947806   \n",
       "\n",
       "                        DestinationName  DestinationLat  DestinationLong  \\\n",
       "4869338  LTD EAST VILLAGE 8 ST via 5 AV       40.730280       -73.990532   \n",
       "1745636                     HUNTS POINT       40.810086       -73.876396   \n",
       "865364       JFK AIRPORT via FARMERS BL       40.647137       -73.779426   \n",
       "2514738    SOUTHERN BLVD WESTCHESTER AV       40.824580       -73.891803   \n",
       "656792                 PT MORRIS 132 ST       40.799650       -73.911600   \n",
       "\n",
       "        VehicleRef  VehicleLocation.Latitude  VehicleLocation.Longitude  \\\n",
       "4869338  NYCT_3855                 40.730290                 -73.990592   \n",
       "1745636   NYCT_708                 40.827586                 -73.925189   \n",
       "865364   NYCT_8093                 40.709201                 -73.797272   \n",
       "2514738  NYCT_6107                 40.827123                 -73.849920   \n",
       "656792   NYCT_7685                 40.799527                 -73.911785   \n",
       "\n",
       "                  NextStopPointName ArrivalProximityText  DistanceFromStop  \\\n",
       "4869338                 4 AV/E 9 ST              at stop               0.0   \n",
       "1745636          E 161 ST/GERARD AV              at stop              14.0   \n",
       "865364           HILLSIDE AV/169 ST        < 1 stop away             394.0   \n",
       "2514738  CASTLE HILL AV/BRUCKNER BL          approaching              61.0   \n",
       "656792           WALNUT AV/E 133 ST              at stop              20.0   \n",
       "\n",
       "         ExpectedArrivalTime ScheduledArrivalTime  \n",
       "4869338  2017-10-23 09:18:17             09:09:00  \n",
       "1745636  2017-10-23 09:18:17             07:42:00  \n",
       "865364   2017-10-04 20:06:49             20:05:51  \n",
       "2514738  2017-10-12 10:48:15             10:38:00  \n",
       "656792   2017-10-04 05:09:19             05:06:00  "
      ]
     },
     "execution_count": 8,
     "metadata": {},
     "output_type": "execute_result"
    },
    {
     "data": {
      "application/javascript": [
       "\n",
       "            setTimeout(function() {\n",
       "                var nbb_cell_id = 8;\n",
       "                var nbb_unformatted_code = \"# forward fill missing rows\\nnyc = nyc.fillna(method=\\\"ffill\\\")\\nnyc.head()\";\n",
       "                var nbb_formatted_code = \"# forward fill missing rows\\nnyc = nyc.fillna(method=\\\"ffill\\\")\\nnyc.head()\";\n",
       "                var nbb_cells = Jupyter.notebook.get_cells();\n",
       "                for (var i = 0; i < nbb_cells.length; ++i) {\n",
       "                    if (nbb_cells[i].input_prompt_number == nbb_cell_id) {\n",
       "                        if (nbb_cells[i].get_text() == nbb_unformatted_code) {\n",
       "                             nbb_cells[i].set_text(nbb_formatted_code);\n",
       "                        }\n",
       "                        break;\n",
       "                    }\n",
       "                }\n",
       "            }, 500);\n",
       "            "
      ],
      "text/plain": [
       "<IPython.core.display.Javascript object>"
      ]
     },
     "metadata": {},
     "output_type": "display_data"
    }
   ],
   "source": [
    "# forward fill missing rows\n",
    "nyc = nyc.fillna(method=\"ffill\")\n",
    "nyc.head()"
   ]
  },
  {
   "cell_type": "code",
   "execution_count": 9,
   "metadata": {},
   "outputs": [
    {
     "data": {
      "text/plain": [
       "RecordedAtTime               0.0\n",
       "DirectionRef                 0.0\n",
       "PublishedLineName            0.0\n",
       "OriginName                   0.0\n",
       "OriginLat                    0.0\n",
       "OriginLong                   0.0\n",
       "DestinationName              0.0\n",
       "DestinationLat               0.0\n",
       "DestinationLong              0.0\n",
       "VehicleRef                   0.0\n",
       "VehicleLocation.Latitude     0.0\n",
       "VehicleLocation.Longitude    0.0\n",
       "NextStopPointName            0.0\n",
       "ArrivalProximityText         0.0\n",
       "DistanceFromStop             0.0\n",
       "ExpectedArrivalTime          0.0\n",
       "ScheduledArrivalTime         0.0\n",
       "dtype: float64"
      ]
     },
     "execution_count": 9,
     "metadata": {},
     "output_type": "execute_result"
    },
    {
     "data": {
      "application/javascript": [
       "\n",
       "            setTimeout(function() {\n",
       "                var nbb_cell_id = 9;\n",
       "                var nbb_unformatted_code = \"nyc.isna().mean()\";\n",
       "                var nbb_formatted_code = \"nyc.isna().mean()\";\n",
       "                var nbb_cells = Jupyter.notebook.get_cells();\n",
       "                for (var i = 0; i < nbb_cells.length; ++i) {\n",
       "                    if (nbb_cells[i].input_prompt_number == nbb_cell_id) {\n",
       "                        if (nbb_cells[i].get_text() == nbb_unformatted_code) {\n",
       "                             nbb_cells[i].set_text(nbb_formatted_code);\n",
       "                        }\n",
       "                        break;\n",
       "                    }\n",
       "                }\n",
       "            }, 500);\n",
       "            "
      ],
      "text/plain": [
       "<IPython.core.display.Javascript object>"
      ]
     },
     "metadata": {},
     "output_type": "display_data"
    }
   ],
   "source": [
    "nyc.isna().mean()"
   ]
  },
  {
   "cell_type": "markdown",
   "metadata": {},
   "source": [
    "#### Checking for values with insufficient amount of information"
   ]
  },
  {
   "cell_type": "code",
   "execution_count": 10,
   "metadata": {},
   "outputs": [
    {
     "data": {
      "text/plain": [
       "0    500283\n",
       "1    499717\n",
       "Name: DirectionRef, dtype: int64"
      ]
     },
     "execution_count": 10,
     "metadata": {},
     "output_type": "execute_result"
    },
    {
     "data": {
      "application/javascript": [
       "\n",
       "            setTimeout(function() {\n",
       "                var nbb_cell_id = 10;\n",
       "                var nbb_unformatted_code = \"nyc[\\\"DirectionRef\\\"].value_counts()\";\n",
       "                var nbb_formatted_code = \"nyc[\\\"DirectionRef\\\"].value_counts()\";\n",
       "                var nbb_cells = Jupyter.notebook.get_cells();\n",
       "                for (var i = 0; i < nbb_cells.length; ++i) {\n",
       "                    if (nbb_cells[i].input_prompt_number == nbb_cell_id) {\n",
       "                        if (nbb_cells[i].get_text() == nbb_unformatted_code) {\n",
       "                             nbb_cells[i].set_text(nbb_formatted_code);\n",
       "                        }\n",
       "                        break;\n",
       "                    }\n",
       "                }\n",
       "            }, 500);\n",
       "            "
      ],
      "text/plain": [
       "<IPython.core.display.Javascript object>"
      ]
     },
     "metadata": {},
     "output_type": "display_data"
    }
   ],
   "source": [
    "nyc[\"DirectionRef\"].value_counts()"
   ]
  },
  {
   "cell_type": "code",
   "execution_count": 11,
   "metadata": {},
   "outputs": [
    {
     "data": {
      "text/plain": [
       "B6         18452\n",
       "B41        14999\n",
       "Q58        14337\n",
       "B35        12847\n",
       "Q44-SBS    12757\n",
       "           ...  \n",
       "QM1            3\n",
       "QM35           3\n",
       "QM11           3\n",
       "QM42           3\n",
       "QM31           1\n",
       "Name: PublishedLineName, Length: 326, dtype: int64"
      ]
     },
     "execution_count": 11,
     "metadata": {},
     "output_type": "execute_result"
    },
    {
     "data": {
      "application/javascript": [
       "\n",
       "            setTimeout(function() {\n",
       "                var nbb_cell_id = 11;\n",
       "                var nbb_unformatted_code = \"nyc[\\\"PublishedLineName\\\"].value_counts()\";\n",
       "                var nbb_formatted_code = \"nyc[\\\"PublishedLineName\\\"].value_counts()\";\n",
       "                var nbb_cells = Jupyter.notebook.get_cells();\n",
       "                for (var i = 0; i < nbb_cells.length; ++i) {\n",
       "                    if (nbb_cells[i].input_prompt_number == nbb_cell_id) {\n",
       "                        if (nbb_cells[i].get_text() == nbb_unformatted_code) {\n",
       "                             nbb_cells[i].set_text(nbb_formatted_code);\n",
       "                        }\n",
       "                        break;\n",
       "                    }\n",
       "                }\n",
       "            }, 500);\n",
       "            "
      ],
      "text/plain": [
       "<IPython.core.display.Javascript object>"
      ]
     },
     "metadata": {},
     "output_type": "display_data"
    }
   ],
   "source": [
    "nyc[\"PublishedLineName\"].value_counts()"
   ]
  },
  {
   "cell_type": "code",
   "execution_count": 12,
   "metadata": {},
   "outputs": [
    {
     "data": {
      "application/javascript": [
       "\n",
       "            setTimeout(function() {\n",
       "                var nbb_cell_id = 12;\n",
       "                var nbb_unformatted_code = \"# get rid of values in published line name with less than 100 values.\\ncount = nyc[\\\"PublishedLineName\\\"].value_counts()\\nkeep = count[count > 100].index\\nnyc = nyc[nyc[\\\"PublishedLineName\\\"].isin(keep)]\";\n",
       "                var nbb_formatted_code = \"# get rid of values in published line name with less than 100 values.\\ncount = nyc[\\\"PublishedLineName\\\"].value_counts()\\nkeep = count[count > 100].index\\nnyc = nyc[nyc[\\\"PublishedLineName\\\"].isin(keep)]\";\n",
       "                var nbb_cells = Jupyter.notebook.get_cells();\n",
       "                for (var i = 0; i < nbb_cells.length; ++i) {\n",
       "                    if (nbb_cells[i].input_prompt_number == nbb_cell_id) {\n",
       "                        if (nbb_cells[i].get_text() == nbb_unformatted_code) {\n",
       "                             nbb_cells[i].set_text(nbb_formatted_code);\n",
       "                        }\n",
       "                        break;\n",
       "                    }\n",
       "                }\n",
       "            }, 500);\n",
       "            "
      ],
      "text/plain": [
       "<IPython.core.display.Javascript object>"
      ]
     },
     "metadata": {},
     "output_type": "display_data"
    }
   ],
   "source": [
    "# get rid of values in published line name with less than 100 values.\n",
    "count = nyc[\"PublishedLineName\"].value_counts()\n",
    "keep = count[count > 100].index\n",
    "nyc = nyc[nyc[\"PublishedLineName\"].isin(keep)]"
   ]
  },
  {
   "cell_type": "code",
   "execution_count": 13,
   "metadata": {},
   "outputs": [
    {
     "data": {
      "text/plain": [
       "E 126 ST/2 AV                14170\n",
       "MERRICK BL/ARCHER AV         13923\n",
       "W 179 ST/BROADWAY            12542\n",
       "HARWAY AV/BAY 37 ST          10027\n",
       "138 ST/37 AV                  9978\n",
       "                             ...  \n",
       "UNDERCLIFF AV/W 176 ST           3\n",
       "FRANCIS LEWIS BL/28 AV           3\n",
       "E 68 ST/LEXINGTON AV             2\n",
       "E 16 ST/SHEEPSHEAD BAY RD        1\n",
       "E TREMONT AV/ERICSON PL          1\n",
       "Name: OriginName, Length: 616, dtype: int64"
      ]
     },
     "execution_count": 13,
     "metadata": {},
     "output_type": "execute_result"
    },
    {
     "data": {
      "application/javascript": [
       "\n",
       "            setTimeout(function() {\n",
       "                var nbb_cell_id = 13;\n",
       "                var nbb_unformatted_code = \"nyc[\\\"OriginName\\\"].value_counts()\";\n",
       "                var nbb_formatted_code = \"nyc[\\\"OriginName\\\"].value_counts()\";\n",
       "                var nbb_cells = Jupyter.notebook.get_cells();\n",
       "                for (var i = 0; i < nbb_cells.length; ++i) {\n",
       "                    if (nbb_cells[i].input_prompt_number == nbb_cell_id) {\n",
       "                        if (nbb_cells[i].get_text() == nbb_unformatted_code) {\n",
       "                             nbb_cells[i].set_text(nbb_formatted_code);\n",
       "                        }\n",
       "                        break;\n",
       "                    }\n",
       "                }\n",
       "            }, 500);\n",
       "            "
      ],
      "text/plain": [
       "<IPython.core.display.Javascript object>"
      ]
     },
     "metadata": {},
     "output_type": "display_data"
    }
   ],
   "source": [
    "nyc[\"OriginName\"].value_counts()"
   ]
  },
  {
   "cell_type": "code",
   "execution_count": 14,
   "metadata": {},
   "outputs": [
    {
     "data": {
      "application/javascript": [
       "\n",
       "            setTimeout(function() {\n",
       "                var nbb_cell_id = 14;\n",
       "                var nbb_unformatted_code = \"# get rid of values in origin name with less than 100 values.\\ncount = nyc[\\\"OriginName\\\"].value_counts()\\nkeep = count[count > 99].index\\nnyc = nyc[nyc[\\\"OriginName\\\"].isin(keep)]\";\n",
       "                var nbb_formatted_code = \"# get rid of values in origin name with less than 100 values.\\ncount = nyc[\\\"OriginName\\\"].value_counts()\\nkeep = count[count > 99].index\\nnyc = nyc[nyc[\\\"OriginName\\\"].isin(keep)]\";\n",
       "                var nbb_cells = Jupyter.notebook.get_cells();\n",
       "                for (var i = 0; i < nbb_cells.length; ++i) {\n",
       "                    if (nbb_cells[i].input_prompt_number == nbb_cell_id) {\n",
       "                        if (nbb_cells[i].get_text() == nbb_unformatted_code) {\n",
       "                             nbb_cells[i].set_text(nbb_formatted_code);\n",
       "                        }\n",
       "                        break;\n",
       "                    }\n",
       "                }\n",
       "            }, 500);\n",
       "            "
      ],
      "text/plain": [
       "<IPython.core.display.Javascript object>"
      ]
     },
     "metadata": {},
     "output_type": "display_data"
    }
   ],
   "source": [
    "# get rid of values in origin name with less than 100 values.\n",
    "count = nyc[\"OriginName\"].value_counts()\n",
    "keep = count[count > 99].index\n",
    "nyc = nyc[nyc[\"OriginName\"].isin(keep)]"
   ]
  },
  {
   "cell_type": "code",
   "execution_count": 15,
   "metadata": {
    "scrolled": true
   },
   "outputs": [
    {
     "data": {
      "text/plain": [
       "WASHINGTON HTS GW BRIDGE    13584\n",
       "ST GEORGE FERRY              8778\n",
       "FLUSHING  MAIN ST STA        7937\n",
       "W FARMS RD SOUTHERN BL       7540\n",
       "FLUSHING MAIN ST STA         6371\n",
       "                            ...  \n",
       "FULTON ST                       1\n",
       "MARSH AV RING RD                1\n",
       "NARROWS AV                      1\n",
       "165 ST                          1\n",
       "FORDHAM RD                      1\n",
       "Name: DestinationName, Length: 611, dtype: int64"
      ]
     },
     "execution_count": 15,
     "metadata": {},
     "output_type": "execute_result"
    },
    {
     "data": {
      "application/javascript": [
       "\n",
       "            setTimeout(function() {\n",
       "                var nbb_cell_id = 15;\n",
       "                var nbb_unformatted_code = \"nyc[\\\"DestinationName\\\"].value_counts()\";\n",
       "                var nbb_formatted_code = \"nyc[\\\"DestinationName\\\"].value_counts()\";\n",
       "                var nbb_cells = Jupyter.notebook.get_cells();\n",
       "                for (var i = 0; i < nbb_cells.length; ++i) {\n",
       "                    if (nbb_cells[i].input_prompt_number == nbb_cell_id) {\n",
       "                        if (nbb_cells[i].get_text() == nbb_unformatted_code) {\n",
       "                             nbb_cells[i].set_text(nbb_formatted_code);\n",
       "                        }\n",
       "                        break;\n",
       "                    }\n",
       "                }\n",
       "            }, 500);\n",
       "            "
      ],
      "text/plain": [
       "<IPython.core.display.Javascript object>"
      ]
     },
     "metadata": {},
     "output_type": "display_data"
    }
   ],
   "source": [
    "nyc[\"DestinationName\"].value_counts()"
   ]
  },
  {
   "cell_type": "code",
   "execution_count": 16,
   "metadata": {},
   "outputs": [
    {
     "data": {
      "application/javascript": [
       "\n",
       "            setTimeout(function() {\n",
       "                var nbb_cell_id = 16;\n",
       "                var nbb_unformatted_code = \"# get rid of values in destination name with less than 100 values.\\ncount = nyc[\\\"DestinationName\\\"].value_counts()\\nkeep = count[count > 99].index\\nnyc = nyc[nyc[\\\"DestinationName\\\"].isin(keep)]\";\n",
       "                var nbb_formatted_code = \"# get rid of values in destination name with less than 100 values.\\ncount = nyc[\\\"DestinationName\\\"].value_counts()\\nkeep = count[count > 99].index\\nnyc = nyc[nyc[\\\"DestinationName\\\"].isin(keep)]\";\n",
       "                var nbb_cells = Jupyter.notebook.get_cells();\n",
       "                for (var i = 0; i < nbb_cells.length; ++i) {\n",
       "                    if (nbb_cells[i].input_prompt_number == nbb_cell_id) {\n",
       "                        if (nbb_cells[i].get_text() == nbb_unformatted_code) {\n",
       "                             nbb_cells[i].set_text(nbb_formatted_code);\n",
       "                        }\n",
       "                        break;\n",
       "                    }\n",
       "                }\n",
       "            }, 500);\n",
       "            "
      ],
      "text/plain": [
       "<IPython.core.display.Javascript object>"
      ]
     },
     "metadata": {},
     "output_type": "display_data"
    }
   ],
   "source": [
    "# get rid of values in destination name with less than 100 values.\n",
    "count = nyc[\"DestinationName\"].value_counts()\n",
    "keep = count[count > 99].index\n",
    "nyc = nyc[nyc[\"DestinationName\"].isin(keep)]"
   ]
  },
  {
   "cell_type": "code",
   "execution_count": 17,
   "metadata": {},
   "outputs": [
    {
     "data": {
      "text/plain": [
       "NYCT_5845    501\n",
       "NYCT_6039    490\n",
       "NYCT_5843    471\n",
       "NYCT_5850    450\n",
       "NYCT_5846    448\n",
       "            ... \n",
       "NYCT_5884      2\n",
       "NYCT_9503      2\n",
       "NYCT_5565      2\n",
       "NYCT_2217      1\n",
       "NYCT_1271      1\n",
       "Name: VehicleRef, Length: 4451, dtype: int64"
      ]
     },
     "execution_count": 17,
     "metadata": {},
     "output_type": "execute_result"
    },
    {
     "data": {
      "application/javascript": [
       "\n",
       "            setTimeout(function() {\n",
       "                var nbb_cell_id = 17;\n",
       "                var nbb_unformatted_code = \"nyc[\\\"VehicleRef\\\"].value_counts()\";\n",
       "                var nbb_formatted_code = \"nyc[\\\"VehicleRef\\\"].value_counts()\";\n",
       "                var nbb_cells = Jupyter.notebook.get_cells();\n",
       "                for (var i = 0; i < nbb_cells.length; ++i) {\n",
       "                    if (nbb_cells[i].input_prompt_number == nbb_cell_id) {\n",
       "                        if (nbb_cells[i].get_text() == nbb_unformatted_code) {\n",
       "                             nbb_cells[i].set_text(nbb_formatted_code);\n",
       "                        }\n",
       "                        break;\n",
       "                    }\n",
       "                }\n",
       "            }, 500);\n",
       "            "
      ],
      "text/plain": [
       "<IPython.core.display.Javascript object>"
      ]
     },
     "metadata": {},
     "output_type": "display_data"
    }
   ],
   "source": [
    "nyc[\"VehicleRef\"].value_counts()"
   ]
  },
  {
   "cell_type": "code",
   "execution_count": 18,
   "metadata": {},
   "outputs": [
    {
     "data": {
      "application/javascript": [
       "\n",
       "            setTimeout(function() {\n",
       "                var nbb_cell_id = 18;\n",
       "                var nbb_unformatted_code = \"# get rid of values in vehicle ref with less than 100 values.\\ncount = nyc[\\\"VehicleRef\\\"].value_counts()\\nkeep = count[count > 99].index\\nnyc = nyc[nyc[\\\"VehicleRef\\\"].isin(keep)]\";\n",
       "                var nbb_formatted_code = \"# get rid of values in vehicle ref with less than 100 values.\\ncount = nyc[\\\"VehicleRef\\\"].value_counts()\\nkeep = count[count > 99].index\\nnyc = nyc[nyc[\\\"VehicleRef\\\"].isin(keep)]\";\n",
       "                var nbb_cells = Jupyter.notebook.get_cells();\n",
       "                for (var i = 0; i < nbb_cells.length; ++i) {\n",
       "                    if (nbb_cells[i].input_prompt_number == nbb_cell_id) {\n",
       "                        if (nbb_cells[i].get_text() == nbb_unformatted_code) {\n",
       "                             nbb_cells[i].set_text(nbb_formatted_code);\n",
       "                        }\n",
       "                        break;\n",
       "                    }\n",
       "                }\n",
       "            }, 500);\n",
       "            "
      ],
      "text/plain": [
       "<IPython.core.display.Javascript object>"
      ]
     },
     "metadata": {},
     "output_type": "display_data"
    }
   ],
   "source": [
    "# get rid of values in vehicle ref with less than 100 values.\n",
    "count = nyc[\"VehicleRef\"].value_counts()\n",
    "keep = count[count > 99].index\n",
    "nyc = nyc[nyc[\"VehicleRef\"].isin(keep)]"
   ]
  },
  {
   "cell_type": "code",
   "execution_count": 19,
   "metadata": {},
   "outputs": [
    {
     "data": {
      "text/plain": [
       "W 181 ST/AMSTERDAM AV         1837\n",
       "BAY ST/NICK LAPORTE PL        1690\n",
       "MERRICK BL/ARCHER AV          1673\n",
       "KINGS PLAZA                   1480\n",
       "HOYT AV/31 ST                 1453\n",
       "                              ... \n",
       "Arthur Kill Rd/Annadale Rd       1\n",
       "E 169 ST/SIMPSON ST              1\n",
       "HUGUENOT AV/ROSEDALE AV          1\n",
       "PROSPECT AV/LAFAYETTE AV         1\n",
       "MARTLING AV/MANOR RD             1\n",
       "Name: NextStopPointName, Length: 9213, dtype: int64"
      ]
     },
     "execution_count": 19,
     "metadata": {},
     "output_type": "execute_result"
    },
    {
     "data": {
      "application/javascript": [
       "\n",
       "            setTimeout(function() {\n",
       "                var nbb_cell_id = 19;\n",
       "                var nbb_unformatted_code = \"nyc[\\\"NextStopPointName\\\"].value_counts()\";\n",
       "                var nbb_formatted_code = \"nyc[\\\"NextStopPointName\\\"].value_counts()\";\n",
       "                var nbb_cells = Jupyter.notebook.get_cells();\n",
       "                for (var i = 0; i < nbb_cells.length; ++i) {\n",
       "                    if (nbb_cells[i].input_prompt_number == nbb_cell_id) {\n",
       "                        if (nbb_cells[i].get_text() == nbb_unformatted_code) {\n",
       "                             nbb_cells[i].set_text(nbb_formatted_code);\n",
       "                        }\n",
       "                        break;\n",
       "                    }\n",
       "                }\n",
       "            }, 500);\n",
       "            "
      ],
      "text/plain": [
       "<IPython.core.display.Javascript object>"
      ]
     },
     "metadata": {},
     "output_type": "display_data"
    }
   ],
   "source": [
    "nyc[\"NextStopPointName\"].value_counts()"
   ]
  },
  {
   "cell_type": "code",
   "execution_count": 20,
   "metadata": {},
   "outputs": [
    {
     "data": {
      "application/javascript": [
       "\n",
       "            setTimeout(function() {\n",
       "                var nbb_cell_id = 20;\n",
       "                var nbb_unformatted_code = \"# get rid of values in next stop point name with less than 20 values.\\ncount = nyc[\\\"NextStopPointName\\\"].value_counts()\\nkeep = count[count > 19].index\\nnyc = nyc[nyc[\\\"NextStopPointName\\\"].isin(keep)]\";\n",
       "                var nbb_formatted_code = \"# get rid of values in next stop point name with less than 20 values.\\ncount = nyc[\\\"NextStopPointName\\\"].value_counts()\\nkeep = count[count > 19].index\\nnyc = nyc[nyc[\\\"NextStopPointName\\\"].isin(keep)]\";\n",
       "                var nbb_cells = Jupyter.notebook.get_cells();\n",
       "                for (var i = 0; i < nbb_cells.length; ++i) {\n",
       "                    if (nbb_cells[i].input_prompt_number == nbb_cell_id) {\n",
       "                        if (nbb_cells[i].get_text() == nbb_unformatted_code) {\n",
       "                             nbb_cells[i].set_text(nbb_formatted_code);\n",
       "                        }\n",
       "                        break;\n",
       "                    }\n",
       "                }\n",
       "            }, 500);\n",
       "            "
      ],
      "text/plain": [
       "<IPython.core.display.Javascript object>"
      ]
     },
     "metadata": {},
     "output_type": "display_data"
    }
   ],
   "source": [
    "# get rid of values in next stop point name with less than 20 values.\n",
    "count = nyc[\"NextStopPointName\"].value_counts()\n",
    "keep = count[count > 19].index\n",
    "nyc = nyc[nyc[\"NextStopPointName\"].isin(keep)]"
   ]
  },
  {
   "cell_type": "code",
   "execution_count": 21,
   "metadata": {},
   "outputs": [
    {
     "data": {
      "text/plain": [
       "approaching        352583\n",
       "< 1 stop away      291578\n",
       "at stop            271054\n",
       "0.6 miles away       5123\n",
       "0.5 miles away       3606\n",
       "                    ...  \n",
       "19.1 miles away         1\n",
       "16.4 miles away         1\n",
       "9.2 miles away          1\n",
       "14.7 miles away         1\n",
       "8.8 miles away          1\n",
       "Name: ArrivalProximityText, Length: 199, dtype: int64"
      ]
     },
     "execution_count": 21,
     "metadata": {},
     "output_type": "execute_result"
    },
    {
     "data": {
      "application/javascript": [
       "\n",
       "            setTimeout(function() {\n",
       "                var nbb_cell_id = 21;\n",
       "                var nbb_unformatted_code = \"nyc[\\\"ArrivalProximityText\\\"].value_counts()\";\n",
       "                var nbb_formatted_code = \"nyc[\\\"ArrivalProximityText\\\"].value_counts()\";\n",
       "                var nbb_cells = Jupyter.notebook.get_cells();\n",
       "                for (var i = 0; i < nbb_cells.length; ++i) {\n",
       "                    if (nbb_cells[i].input_prompt_number == nbb_cell_id) {\n",
       "                        if (nbb_cells[i].get_text() == nbb_unformatted_code) {\n",
       "                             nbb_cells[i].set_text(nbb_formatted_code);\n",
       "                        }\n",
       "                        break;\n",
       "                    }\n",
       "                }\n",
       "            }, 500);\n",
       "            "
      ],
      "text/plain": [
       "<IPython.core.display.Javascript object>"
      ]
     },
     "metadata": {},
     "output_type": "display_data"
    }
   ],
   "source": [
    "nyc[\"ArrivalProximityText\"].value_counts()"
   ]
  },
  {
   "cell_type": "code",
   "execution_count": 22,
   "metadata": {},
   "outputs": [
    {
     "data": {
      "application/javascript": [
       "\n",
       "            setTimeout(function() {\n",
       "                var nbb_cell_id = 22;\n",
       "                var nbb_unformatted_code = \"# get rid of values in arrival proximity text with less than 20 values.\\ncount = nyc[\\\"ArrivalProximityText\\\"].value_counts()\\nkeep = count[count > 19].index\\nnyc = nyc[nyc[\\\"ArrivalProximityText\\\"].isin(keep)]\";\n",
       "                var nbb_formatted_code = \"# get rid of values in arrival proximity text with less than 20 values.\\ncount = nyc[\\\"ArrivalProximityText\\\"].value_counts()\\nkeep = count[count > 19].index\\nnyc = nyc[nyc[\\\"ArrivalProximityText\\\"].isin(keep)]\";\n",
       "                var nbb_cells = Jupyter.notebook.get_cells();\n",
       "                for (var i = 0; i < nbb_cells.length; ++i) {\n",
       "                    if (nbb_cells[i].input_prompt_number == nbb_cell_id) {\n",
       "                        if (nbb_cells[i].get_text() == nbb_unformatted_code) {\n",
       "                             nbb_cells[i].set_text(nbb_formatted_code);\n",
       "                        }\n",
       "                        break;\n",
       "                    }\n",
       "                }\n",
       "            }, 500);\n",
       "            "
      ],
      "text/plain": [
       "<IPython.core.display.Javascript object>"
      ]
     },
     "metadata": {},
     "output_type": "display_data"
    }
   ],
   "source": [
    "# get rid of values in arrival proximity text with less than 20 values.\n",
    "count = nyc[\"ArrivalProximityText\"].value_counts()\n",
    "keep = count[count > 19].index\n",
    "nyc = nyc[nyc[\"ArrivalProximityText\"].isin(keep)]"
   ]
  },
  {
   "cell_type": "markdown",
   "metadata": {},
   "source": [
    "#### Change data types "
   ]
  },
  {
   "cell_type": "code",
   "execution_count": 23,
   "metadata": {},
   "outputs": [
    {
     "data": {
      "text/plain": [
       "RecordedAtTime                object\n",
       "DirectionRef                   int64\n",
       "PublishedLineName             object\n",
       "OriginName                    object\n",
       "OriginLat                    float64\n",
       "OriginLong                   float64\n",
       "DestinationName               object\n",
       "DestinationLat               float64\n",
       "DestinationLong              float64\n",
       "VehicleRef                    object\n",
       "VehicleLocation.Latitude     float64\n",
       "VehicleLocation.Longitude    float64\n",
       "NextStopPointName             object\n",
       "ArrivalProximityText          object\n",
       "DistanceFromStop             float64\n",
       "ExpectedArrivalTime           object\n",
       "ScheduledArrivalTime          object\n",
       "dtype: object"
      ]
     },
     "execution_count": 23,
     "metadata": {},
     "output_type": "execute_result"
    },
    {
     "data": {
      "application/javascript": [
       "\n",
       "            setTimeout(function() {\n",
       "                var nbb_cell_id = 23;\n",
       "                var nbb_unformatted_code = \"nyc.dtypes\";\n",
       "                var nbb_formatted_code = \"nyc.dtypes\";\n",
       "                var nbb_cells = Jupyter.notebook.get_cells();\n",
       "                for (var i = 0; i < nbb_cells.length; ++i) {\n",
       "                    if (nbb_cells[i].input_prompt_number == nbb_cell_id) {\n",
       "                        if (nbb_cells[i].get_text() == nbb_unformatted_code) {\n",
       "                             nbb_cells[i].set_text(nbb_formatted_code);\n",
       "                        }\n",
       "                        break;\n",
       "                    }\n",
       "                }\n",
       "            }, 500);\n",
       "            "
      ],
      "text/plain": [
       "<IPython.core.display.Javascript object>"
      ]
     },
     "metadata": {},
     "output_type": "display_data"
    }
   ],
   "source": [
    "nyc.dtypes"
   ]
  },
  {
   "cell_type": "code",
   "execution_count": 24,
   "metadata": {
    "scrolled": true
   },
   "outputs": [
    {
     "data": {
      "application/javascript": [
       "\n",
       "            setTimeout(function() {\n",
       "                var nbb_cell_id = 24;\n",
       "                var nbb_unformatted_code = \"nyc[\\\"RecordedAtTime\\\"] = pd.to_datetime(nyc[\\\"RecordedAtTime\\\"])\";\n",
       "                var nbb_formatted_code = \"nyc[\\\"RecordedAtTime\\\"] = pd.to_datetime(nyc[\\\"RecordedAtTime\\\"])\";\n",
       "                var nbb_cells = Jupyter.notebook.get_cells();\n",
       "                for (var i = 0; i < nbb_cells.length; ++i) {\n",
       "                    if (nbb_cells[i].input_prompt_number == nbb_cell_id) {\n",
       "                        if (nbb_cells[i].get_text() == nbb_unformatted_code) {\n",
       "                             nbb_cells[i].set_text(nbb_formatted_code);\n",
       "                        }\n",
       "                        break;\n",
       "                    }\n",
       "                }\n",
       "            }, 500);\n",
       "            "
      ],
      "text/plain": [
       "<IPython.core.display.Javascript object>"
      ]
     },
     "metadata": {},
     "output_type": "display_data"
    }
   ],
   "source": [
    "nyc[\"RecordedAtTime\"] = pd.to_datetime(nyc[\"RecordedAtTime\"])"
   ]
  },
  {
   "cell_type": "code",
   "execution_count": 25,
   "metadata": {},
   "outputs": [
    {
     "data": {
      "application/javascript": [
       "\n",
       "            setTimeout(function() {\n",
       "                var nbb_cell_id = 25;\n",
       "                var nbb_unformatted_code = \"# creating new columns for hours/minutes/seconds\\nnyc[\\\"RecordedAtTimeHour\\\"] = nyc[\\\"RecordedAtTime\\\"].dt.hour\\nnyc[\\\"RecordedAtTimeMinute\\\"] = nyc[\\\"RecordedAtTime\\\"].dt.minute\\nnyc[\\\"RecordedAtTimeSecond\\\"] = nyc[\\\"RecordedAtTime\\\"].dt.second\";\n",
       "                var nbb_formatted_code = \"# creating new columns for hours/minutes/seconds\\nnyc[\\\"RecordedAtTimeHour\\\"] = nyc[\\\"RecordedAtTime\\\"].dt.hour\\nnyc[\\\"RecordedAtTimeMinute\\\"] = nyc[\\\"RecordedAtTime\\\"].dt.minute\\nnyc[\\\"RecordedAtTimeSecond\\\"] = nyc[\\\"RecordedAtTime\\\"].dt.second\";\n",
       "                var nbb_cells = Jupyter.notebook.get_cells();\n",
       "                for (var i = 0; i < nbb_cells.length; ++i) {\n",
       "                    if (nbb_cells[i].input_prompt_number == nbb_cell_id) {\n",
       "                        if (nbb_cells[i].get_text() == nbb_unformatted_code) {\n",
       "                             nbb_cells[i].set_text(nbb_formatted_code);\n",
       "                        }\n",
       "                        break;\n",
       "                    }\n",
       "                }\n",
       "            }, 500);\n",
       "            "
      ],
      "text/plain": [
       "<IPython.core.display.Javascript object>"
      ]
     },
     "metadata": {},
     "output_type": "display_data"
    }
   ],
   "source": [
    "# creating new columns for hours/minutes/seconds\n",
    "nyc[\"RecordedAtTimeHour\"] = nyc[\"RecordedAtTime\"].dt.hour\n",
    "nyc[\"RecordedAtTimeMinute\"] = nyc[\"RecordedAtTime\"].dt.minute\n",
    "nyc[\"RecordedAtTimeSecond\"] = nyc[\"RecordedAtTime\"].dt.second"
   ]
  },
  {
   "cell_type": "code",
   "execution_count": 26,
   "metadata": {},
   "outputs": [
    {
     "data": {
      "application/javascript": [
       "\n",
       "            setTimeout(function() {\n",
       "                var nbb_cell_id = 26;\n",
       "                var nbb_unformatted_code = \"# creating new columns for day of the week and month\\n# for day of week: monday = 0, sunday = 6\\n# for month: January = 1, December = 12\\nnyc[\\\"RecordedAtTimeDayofWeek\\\"] = nyc[\\\"RecordedAtTime\\\"].dt.dayofweek\\nnyc[\\\"RecordedAtTimeMonth\\\"] = nyc[\\\"RecordedAtTime\\\"].dt.month\";\n",
       "                var nbb_formatted_code = \"# creating new columns for day of the week and month\\n# for day of week: monday = 0, sunday = 6\\n# for month: January = 1, December = 12\\nnyc[\\\"RecordedAtTimeDayofWeek\\\"] = nyc[\\\"RecordedAtTime\\\"].dt.dayofweek\\nnyc[\\\"RecordedAtTimeMonth\\\"] = nyc[\\\"RecordedAtTime\\\"].dt.month\";\n",
       "                var nbb_cells = Jupyter.notebook.get_cells();\n",
       "                for (var i = 0; i < nbb_cells.length; ++i) {\n",
       "                    if (nbb_cells[i].input_prompt_number == nbb_cell_id) {\n",
       "                        if (nbb_cells[i].get_text() == nbb_unformatted_code) {\n",
       "                             nbb_cells[i].set_text(nbb_formatted_code);\n",
       "                        }\n",
       "                        break;\n",
       "                    }\n",
       "                }\n",
       "            }, 500);\n",
       "            "
      ],
      "text/plain": [
       "<IPython.core.display.Javascript object>"
      ]
     },
     "metadata": {},
     "output_type": "display_data"
    }
   ],
   "source": [
    "# creating new columns for day of the week and month\n",
    "# for day of week: monday = 0, sunday = 6\n",
    "# for month: January = 1, December = 12\n",
    "nyc[\"RecordedAtTimeDayofWeek\"] = nyc[\"RecordedAtTime\"].dt.dayofweek\n",
    "nyc[\"RecordedAtTimeMonth\"] = nyc[\"RecordedAtTime\"].dt.month"
   ]
  },
  {
   "cell_type": "code",
   "execution_count": 27,
   "metadata": {},
   "outputs": [
    {
     "data": {
      "application/javascript": [
       "\n",
       "            setTimeout(function() {\n",
       "                var nbb_cell_id = 27;\n",
       "                var nbb_unformatted_code = \"nyc[\\\"ExpectedArrivalTime\\\"] = pd.to_datetime(nyc[\\\"ExpectedArrivalTime\\\"])\";\n",
       "                var nbb_formatted_code = \"nyc[\\\"ExpectedArrivalTime\\\"] = pd.to_datetime(nyc[\\\"ExpectedArrivalTime\\\"])\";\n",
       "                var nbb_cells = Jupyter.notebook.get_cells();\n",
       "                for (var i = 0; i < nbb_cells.length; ++i) {\n",
       "                    if (nbb_cells[i].input_prompt_number == nbb_cell_id) {\n",
       "                        if (nbb_cells[i].get_text() == nbb_unformatted_code) {\n",
       "                             nbb_cells[i].set_text(nbb_formatted_code);\n",
       "                        }\n",
       "                        break;\n",
       "                    }\n",
       "                }\n",
       "            }, 500);\n",
       "            "
      ],
      "text/plain": [
       "<IPython.core.display.Javascript object>"
      ]
     },
     "metadata": {},
     "output_type": "display_data"
    }
   ],
   "source": [
    "nyc[\"ExpectedArrivalTime\"] = pd.to_datetime(nyc[\"ExpectedArrivalTime\"])"
   ]
  },
  {
   "cell_type": "code",
   "execution_count": 28,
   "metadata": {},
   "outputs": [
    {
     "data": {
      "application/javascript": [
       "\n",
       "            setTimeout(function() {\n",
       "                var nbb_cell_id = 28;\n",
       "                var nbb_unformatted_code = \"# creating new columns for hours/minutes/seconds\\nnyc[\\\"ExpectedArrivalTimeHour\\\"] = nyc[\\\"ExpectedArrivalTime\\\"].dt.hour\\nnyc[\\\"ExpectedArrivalTimeMinute\\\"] = nyc[\\\"ExpectedArrivalTime\\\"].dt.minute\\nnyc[\\\"ExpectedArrivalTimeSecond\\\"] = nyc[\\\"ExpectedArrivalTime\\\"].dt.second\";\n",
       "                var nbb_formatted_code = \"# creating new columns for hours/minutes/seconds\\nnyc[\\\"ExpectedArrivalTimeHour\\\"] = nyc[\\\"ExpectedArrivalTime\\\"].dt.hour\\nnyc[\\\"ExpectedArrivalTimeMinute\\\"] = nyc[\\\"ExpectedArrivalTime\\\"].dt.minute\\nnyc[\\\"ExpectedArrivalTimeSecond\\\"] = nyc[\\\"ExpectedArrivalTime\\\"].dt.second\";\n",
       "                var nbb_cells = Jupyter.notebook.get_cells();\n",
       "                for (var i = 0; i < nbb_cells.length; ++i) {\n",
       "                    if (nbb_cells[i].input_prompt_number == nbb_cell_id) {\n",
       "                        if (nbb_cells[i].get_text() == nbb_unformatted_code) {\n",
       "                             nbb_cells[i].set_text(nbb_formatted_code);\n",
       "                        }\n",
       "                        break;\n",
       "                    }\n",
       "                }\n",
       "            }, 500);\n",
       "            "
      ],
      "text/plain": [
       "<IPython.core.display.Javascript object>"
      ]
     },
     "metadata": {},
     "output_type": "display_data"
    }
   ],
   "source": [
    "# creating new columns for hours/minutes/seconds\n",
    "nyc[\"ExpectedArrivalTimeHour\"] = nyc[\"ExpectedArrivalTime\"].dt.hour\n",
    "nyc[\"ExpectedArrivalTimeMinute\"] = nyc[\"ExpectedArrivalTime\"].dt.minute\n",
    "nyc[\"ExpectedArrivalTimeSecond\"] = nyc[\"ExpectedArrivalTime\"].dt.second"
   ]
  },
  {
   "cell_type": "code",
   "execution_count": 29,
   "metadata": {},
   "outputs": [
    {
     "data": {
      "application/javascript": [
       "\n",
       "            setTimeout(function() {\n",
       "                var nbb_cell_id = 29;\n",
       "                var nbb_unformatted_code = \"# creating new columns for day of the week and month\\n# for day of week: monday = 0, sunday = 6\\n# for month: January = 1, December = 12\\nnyc[\\\"ExpectedArrivalTimeDayofWeek\\\"] = nyc[\\\"ExpectedArrivalTime\\\"].dt.dayofweek\\nnyc[\\\"ExpectedArrivalTimeMonth\\\"] = nyc[\\\"ExpectedArrivalTime\\\"].dt.month\";\n",
       "                var nbb_formatted_code = \"# creating new columns for day of the week and month\\n# for day of week: monday = 0, sunday = 6\\n# for month: January = 1, December = 12\\nnyc[\\\"ExpectedArrivalTimeDayofWeek\\\"] = nyc[\\\"ExpectedArrivalTime\\\"].dt.dayofweek\\nnyc[\\\"ExpectedArrivalTimeMonth\\\"] = nyc[\\\"ExpectedArrivalTime\\\"].dt.month\";\n",
       "                var nbb_cells = Jupyter.notebook.get_cells();\n",
       "                for (var i = 0; i < nbb_cells.length; ++i) {\n",
       "                    if (nbb_cells[i].input_prompt_number == nbb_cell_id) {\n",
       "                        if (nbb_cells[i].get_text() == nbb_unformatted_code) {\n",
       "                             nbb_cells[i].set_text(nbb_formatted_code);\n",
       "                        }\n",
       "                        break;\n",
       "                    }\n",
       "                }\n",
       "            }, 500);\n",
       "            "
      ],
      "text/plain": [
       "<IPython.core.display.Javascript object>"
      ]
     },
     "metadata": {},
     "output_type": "display_data"
    }
   ],
   "source": [
    "# creating new columns for day of the week and month\n",
    "# for day of week: monday = 0, sunday = 6\n",
    "# for month: January = 1, December = 12\n",
    "nyc[\"ExpectedArrivalTimeDayofWeek\"] = nyc[\"ExpectedArrivalTime\"].dt.dayofweek\n",
    "nyc[\"ExpectedArrivalTimeMonth\"] = nyc[\"ExpectedArrivalTime\"].dt.month"
   ]
  },
  {
   "cell_type": "code",
   "execution_count": 30,
   "metadata": {
    "scrolled": true
   },
   "outputs": [
    {
     "data": {
      "application/javascript": [
       "\n",
       "            setTimeout(function() {\n",
       "                var nbb_cell_id = 30;\n",
       "                var nbb_unformatted_code = \"# cleaning up time in scheduled time to be under 24 hours\\nschedule_df = nyc[\\\"ScheduledArrivalTime\\\"].str.split(\\\":\\\", expand=True)\\nschedule_df = schedule_df.apply(pd.to_numeric, axis=1)\\nschedule_df.loc[schedule_df[0] >= 24] -= 24\";\n",
       "                var nbb_formatted_code = \"# cleaning up time in scheduled time to be under 24 hours\\nschedule_df = nyc[\\\"ScheduledArrivalTime\\\"].str.split(\\\":\\\", expand=True)\\nschedule_df = schedule_df.apply(pd.to_numeric, axis=1)\\nschedule_df.loc[schedule_df[0] >= 24] -= 24\";\n",
       "                var nbb_cells = Jupyter.notebook.get_cells();\n",
       "                for (var i = 0; i < nbb_cells.length; ++i) {\n",
       "                    if (nbb_cells[i].input_prompt_number == nbb_cell_id) {\n",
       "                        if (nbb_cells[i].get_text() == nbb_unformatted_code) {\n",
       "                             nbb_cells[i].set_text(nbb_formatted_code);\n",
       "                        }\n",
       "                        break;\n",
       "                    }\n",
       "                }\n",
       "            }, 500);\n",
       "            "
      ],
      "text/plain": [
       "<IPython.core.display.Javascript object>"
      ]
     },
     "metadata": {},
     "output_type": "display_data"
    }
   ],
   "source": [
    "# cleaning up time in scheduled time to be under 24 hours\n",
    "schedule_df = nyc[\"ScheduledArrivalTime\"].str.split(\":\", expand=True)\n",
    "schedule_df = schedule_df.apply(pd.to_numeric, axis=1)\n",
    "schedule_df.loc[schedule_df[0] >= 24] -= 24"
   ]
  },
  {
   "cell_type": "code",
   "execution_count": 31,
   "metadata": {
    "scrolled": true
   },
   "outputs": [
    {
     "data": {
      "text/html": [
       "<div>\n",
       "<style scoped>\n",
       "    .dataframe tbody tr th:only-of-type {\n",
       "        vertical-align: middle;\n",
       "    }\n",
       "\n",
       "    .dataframe tbody tr th {\n",
       "        vertical-align: top;\n",
       "    }\n",
       "\n",
       "    .dataframe thead th {\n",
       "        text-align: right;\n",
       "    }\n",
       "</style>\n",
       "<table border=\"1\" class=\"dataframe\">\n",
       "  <thead>\n",
       "    <tr style=\"text-align: right;\">\n",
       "      <th></th>\n",
       "      <th>ScheduledArrivalTimeHour</th>\n",
       "      <th>ScheduledArrivalTimeMinute</th>\n",
       "      <th>ScheduledArrivalTimeSecond</th>\n",
       "    </tr>\n",
       "  </thead>\n",
       "  <tbody>\n",
       "    <tr>\n",
       "      <th>4869338</th>\n",
       "      <td>9</td>\n",
       "      <td>9</td>\n",
       "      <td>0</td>\n",
       "    </tr>\n",
       "    <tr>\n",
       "      <th>1745636</th>\n",
       "      <td>7</td>\n",
       "      <td>42</td>\n",
       "      <td>0</td>\n",
       "    </tr>\n",
       "    <tr>\n",
       "      <th>865364</th>\n",
       "      <td>20</td>\n",
       "      <td>5</td>\n",
       "      <td>51</td>\n",
       "    </tr>\n",
       "    <tr>\n",
       "      <th>2514738</th>\n",
       "      <td>10</td>\n",
       "      <td>38</td>\n",
       "      <td>0</td>\n",
       "    </tr>\n",
       "    <tr>\n",
       "      <th>656792</th>\n",
       "      <td>5</td>\n",
       "      <td>6</td>\n",
       "      <td>0</td>\n",
       "    </tr>\n",
       "  </tbody>\n",
       "</table>\n",
       "</div>"
      ],
      "text/plain": [
       "         ScheduledArrivalTimeHour  ScheduledArrivalTimeMinute  \\\n",
       "4869338                         9                           9   \n",
       "1745636                         7                          42   \n",
       "865364                         20                           5   \n",
       "2514738                        10                          38   \n",
       "656792                          5                           6   \n",
       "\n",
       "         ScheduledArrivalTimeSecond  \n",
       "4869338                           0  \n",
       "1745636                           0  \n",
       "865364                           51  \n",
       "2514738                           0  \n",
       "656792                            0  "
      ]
     },
     "execution_count": 31,
     "metadata": {},
     "output_type": "execute_result"
    },
    {
     "data": {
      "application/javascript": [
       "\n",
       "            setTimeout(function() {\n",
       "                var nbb_cell_id = 31;\n",
       "                var nbb_unformatted_code = \"schedule_df = schedule_df.rename(\\n    columns={\\n        0: \\\"ScheduledArrivalTimeHour\\\",\\n        1: \\\"ScheduledArrivalTimeMinute\\\",\\n        2: \\\"ScheduledArrivalTimeSecond\\\",\\n    }\\n)\\nschedule_df.head()\";\n",
       "                var nbb_formatted_code = \"schedule_df = schedule_df.rename(\\n    columns={\\n        0: \\\"ScheduledArrivalTimeHour\\\",\\n        1: \\\"ScheduledArrivalTimeMinute\\\",\\n        2: \\\"ScheduledArrivalTimeSecond\\\",\\n    }\\n)\\nschedule_df.head()\";\n",
       "                var nbb_cells = Jupyter.notebook.get_cells();\n",
       "                for (var i = 0; i < nbb_cells.length; ++i) {\n",
       "                    if (nbb_cells[i].input_prompt_number == nbb_cell_id) {\n",
       "                        if (nbb_cells[i].get_text() == nbb_unformatted_code) {\n",
       "                             nbb_cells[i].set_text(nbb_formatted_code);\n",
       "                        }\n",
       "                        break;\n",
       "                    }\n",
       "                }\n",
       "            }, 500);\n",
       "            "
      ],
      "text/plain": [
       "<IPython.core.display.Javascript object>"
      ]
     },
     "metadata": {},
     "output_type": "display_data"
    }
   ],
   "source": [
    "schedule_df = schedule_df.rename(\n",
    "    columns={\n",
    "        0: \"ScheduledArrivalTimeHour\",\n",
    "        1: \"ScheduledArrivalTimeMinute\",\n",
    "        2: \"ScheduledArrivalTimeSecond\",\n",
    "    }\n",
    ")\n",
    "schedule_df.head()"
   ]
  },
  {
   "cell_type": "code",
   "execution_count": 32,
   "metadata": {},
   "outputs": [
    {
     "data": {
      "application/javascript": [
       "\n",
       "            setTimeout(function() {\n",
       "                var nbb_cell_id = 32;\n",
       "                var nbb_unformatted_code = \"# combine the two dataframes so all the times and data is in one table\\nnyc = pd.concat([nyc, schedule_df], axis=1, ignore_index=False)\";\n",
       "                var nbb_formatted_code = \"# combine the two dataframes so all the times and data is in one table\\nnyc = pd.concat([nyc, schedule_df], axis=1, ignore_index=False)\";\n",
       "                var nbb_cells = Jupyter.notebook.get_cells();\n",
       "                for (var i = 0; i < nbb_cells.length; ++i) {\n",
       "                    if (nbb_cells[i].input_prompt_number == nbb_cell_id) {\n",
       "                        if (nbb_cells[i].get_text() == nbb_unformatted_code) {\n",
       "                             nbb_cells[i].set_text(nbb_formatted_code);\n",
       "                        }\n",
       "                        break;\n",
       "                    }\n",
       "                }\n",
       "            }, 500);\n",
       "            "
      ],
      "text/plain": [
       "<IPython.core.display.Javascript object>"
      ]
     },
     "metadata": {},
     "output_type": "display_data"
    }
   ],
   "source": [
    "# combine the two dataframes so all the times and data is in one table\n",
    "nyc = pd.concat([nyc, schedule_df], axis=1, ignore_index=False)"
   ]
  },
  {
   "cell_type": "code",
   "execution_count": 33,
   "metadata": {},
   "outputs": [
    {
     "data": {
      "application/javascript": [
       "\n",
       "            setTimeout(function() {\n",
       "                var nbb_cell_id = 33;\n",
       "                var nbb_unformatted_code = \"# extracted data from time columns, can drop columns now\\nnyc = nyc.drop(\\n    columns=[\\\"RecordedAtTime\\\", \\\"ExpectedArrivalTime\\\", \\\"ScheduledArrivalTime\\\"]\\n)\";\n",
       "                var nbb_formatted_code = \"# extracted data from time columns, can drop columns now\\nnyc = nyc.drop(\\n    columns=[\\\"RecordedAtTime\\\", \\\"ExpectedArrivalTime\\\", \\\"ScheduledArrivalTime\\\"]\\n)\";\n",
       "                var nbb_cells = Jupyter.notebook.get_cells();\n",
       "                for (var i = 0; i < nbb_cells.length; ++i) {\n",
       "                    if (nbb_cells[i].input_prompt_number == nbb_cell_id) {\n",
       "                        if (nbb_cells[i].get_text() == nbb_unformatted_code) {\n",
       "                             nbb_cells[i].set_text(nbb_formatted_code);\n",
       "                        }\n",
       "                        break;\n",
       "                    }\n",
       "                }\n",
       "            }, 500);\n",
       "            "
      ],
      "text/plain": [
       "<IPython.core.display.Javascript object>"
      ]
     },
     "metadata": {},
     "output_type": "display_data"
    }
   ],
   "source": [
    "# extracted data from time columns, can drop columns now\n",
    "nyc = nyc.drop(\n",
    "    columns=[\"RecordedAtTime\", \"ExpectedArrivalTime\", \"ScheduledArrivalTime\"]\n",
    ")"
   ]
  },
  {
   "cell_type": "code",
   "execution_count": 34,
   "metadata": {},
   "outputs": [
    {
     "data": {
      "application/javascript": [
       "\n",
       "            setTimeout(function() {\n",
       "                var nbb_cell_id = 34;\n",
       "                var nbb_unformatted_code = \"# Arrival Proximity Text could be number type\\n# nyc[\\\"ArrivalProximityText\\\"].str.strip()\";\n",
       "                var nbb_formatted_code = \"# Arrival Proximity Text could be number type\\n# nyc[\\\"ArrivalProximityText\\\"].str.strip()\";\n",
       "                var nbb_cells = Jupyter.notebook.get_cells();\n",
       "                for (var i = 0; i < nbb_cells.length; ++i) {\n",
       "                    if (nbb_cells[i].input_prompt_number == nbb_cell_id) {\n",
       "                        if (nbb_cells[i].get_text() == nbb_unformatted_code) {\n",
       "                             nbb_cells[i].set_text(nbb_formatted_code);\n",
       "                        }\n",
       "                        break;\n",
       "                    }\n",
       "                }\n",
       "            }, 500);\n",
       "            "
      ],
      "text/plain": [
       "<IPython.core.display.Javascript object>"
      ]
     },
     "metadata": {},
     "output_type": "display_data"
    }
   ],
   "source": [
    "# Arrival Proximity Text could be number type\n",
    "# nyc[\"ArrivalProximityText\"].str.strip()"
   ]
  },
  {
   "cell_type": "markdown",
   "metadata": {},
   "source": [
    "Used this website to specify how I defined Arrival Proximity Text:\n",
    "https://bustime.mta.info/wiki/Help/TipsAndTricks#:~:text=Obviously%2C%20if%20you%20are%20further,time%20to%20reach%20the%20stop.&text=The%20bus%20was%20last%20measured%20within%20100%20feet%20of%20your,stop%20to%20board%20your%20bus.\n",
    "\n",
    "Average distance between bus stops according to https://nyc.streetsblog.org/2019/04/19/never-stop-stopping-removing-bus-stops-isnt-easy-in-new-york-city-or-anywhere-else/#:~:text=The%20MTA's%20standard%20distance%20is,report%20by%20Comptroller%20Scott%20Stringer is around 750 ft"
   ]
  },
  {
   "cell_type": "code",
   "execution_count": 35,
   "metadata": {},
   "outputs": [
    {
     "data": {
      "application/javascript": [
       "\n",
       "            setTimeout(function() {\n",
       "                var nbb_cell_id = 35;\n",
       "                var nbb_unformatted_code = \"# changing arrival proximity text values to numerical values\\n# at stop = 0\\n# approaching ~ 500 feet which equates to around .09 miles\\n# 1 stop ~ 750 feet which equates to around 0.14 miles\\n# unsure what to define < 1 stop away as in miles (for practicallity, just defining <1 stop away and 1 stop away as the same)\\n\\nnyc[\\\"ArrivalProximityText\\\"] = nyc[\\\"ArrivalProximityText\\\"].str.replace(\\\"at stop\\\", \\\"0\\\")\\nnyc[\\\"ArrivalProximityText\\\"] = nyc[\\\"ArrivalProximityText\\\"].str.replace(\\n    \\\"approaching\\\", \\\"0.9\\\"\\n)\\nnyc[\\\"ArrivalProximityText\\\"] = nyc[\\\"ArrivalProximityText\\\"].str.replace(\\\"miles away\\\", \\\"\\\")\\nnyc[\\\"ArrivalProximityText\\\"] = nyc[\\\"ArrivalProximityText\\\"].str.replace(\\n    \\\"1 stop away\\\", \\\"0.14\\\"\\n)\\nnyc[\\\"ArrivalProximityText\\\"] = nyc[\\\"ArrivalProximityText\\\"].str.replace(\\\"< \\\", \\\"\\\")\";\n",
       "                var nbb_formatted_code = \"# changing arrival proximity text values to numerical values\\n# at stop = 0\\n# approaching ~ 500 feet which equates to around .09 miles\\n# 1 stop ~ 750 feet which equates to around 0.14 miles\\n# unsure what to define < 1 stop away as in miles (for practicallity, just defining <1 stop away and 1 stop away as the same)\\n\\nnyc[\\\"ArrivalProximityText\\\"] = nyc[\\\"ArrivalProximityText\\\"].str.replace(\\\"at stop\\\", \\\"0\\\")\\nnyc[\\\"ArrivalProximityText\\\"] = nyc[\\\"ArrivalProximityText\\\"].str.replace(\\n    \\\"approaching\\\", \\\"0.9\\\"\\n)\\nnyc[\\\"ArrivalProximityText\\\"] = nyc[\\\"ArrivalProximityText\\\"].str.replace(\\\"miles away\\\", \\\"\\\")\\nnyc[\\\"ArrivalProximityText\\\"] = nyc[\\\"ArrivalProximityText\\\"].str.replace(\\n    \\\"1 stop away\\\", \\\"0.14\\\"\\n)\\nnyc[\\\"ArrivalProximityText\\\"] = nyc[\\\"ArrivalProximityText\\\"].str.replace(\\\"< \\\", \\\"\\\")\";\n",
       "                var nbb_cells = Jupyter.notebook.get_cells();\n",
       "                for (var i = 0; i < nbb_cells.length; ++i) {\n",
       "                    if (nbb_cells[i].input_prompt_number == nbb_cell_id) {\n",
       "                        if (nbb_cells[i].get_text() == nbb_unformatted_code) {\n",
       "                             nbb_cells[i].set_text(nbb_formatted_code);\n",
       "                        }\n",
       "                        break;\n",
       "                    }\n",
       "                }\n",
       "            }, 500);\n",
       "            "
      ],
      "text/plain": [
       "<IPython.core.display.Javascript object>"
      ]
     },
     "metadata": {},
     "output_type": "display_data"
    }
   ],
   "source": [
    "# changing arrival proximity text values to numerical values\n",
    "# at stop = 0\n",
    "# approaching ~ 500 feet which equates to around .09 miles\n",
    "# 1 stop ~ 750 feet which equates to around 0.14 miles\n",
    "# unsure what to define < 1 stop away as in miles (for practicallity, just defining <1 stop away and 1 stop away as the same)\n",
    "\n",
    "nyc[\"ArrivalProximityText\"] = nyc[\"ArrivalProximityText\"].str.replace(\"at stop\", \"0\")\n",
    "nyc[\"ArrivalProximityText\"] = nyc[\"ArrivalProximityText\"].str.replace(\n",
    "    \"approaching\", \"0.9\"\n",
    ")\n",
    "nyc[\"ArrivalProximityText\"] = nyc[\"ArrivalProximityText\"].str.replace(\"miles away\", \"\")\n",
    "nyc[\"ArrivalProximityText\"] = nyc[\"ArrivalProximityText\"].str.replace(\n",
    "    \"1 stop away\", \"0.14\"\n",
    ")\n",
    "nyc[\"ArrivalProximityText\"] = nyc[\"ArrivalProximityText\"].str.replace(\"< \", \"\")"
   ]
  },
  {
   "cell_type": "code",
   "execution_count": 36,
   "metadata": {
    "scrolled": true
   },
   "outputs": [
    {
     "data": {
      "text/plain": [
       "0.9     352583\n",
       "0.14    291612\n",
       "0       271054\n",
       "0.6       5123\n",
       "0.5       3606\n",
       "         ...  \n",
       "6.3         42\n",
       "6.2         37\n",
       "6.6         34\n",
       "7.0         29\n",
       "6.1         28\n",
       "Name: ArrivalProximityText, Length: 69, dtype: int64"
      ]
     },
     "execution_count": 36,
     "metadata": {},
     "output_type": "execute_result"
    },
    {
     "data": {
      "application/javascript": [
       "\n",
       "            setTimeout(function() {\n",
       "                var nbb_cell_id = 36;\n",
       "                var nbb_unformatted_code = \"nyc[\\\"ArrivalProximityText\\\"].value_counts()\";\n",
       "                var nbb_formatted_code = \"nyc[\\\"ArrivalProximityText\\\"].value_counts()\";\n",
       "                var nbb_cells = Jupyter.notebook.get_cells();\n",
       "                for (var i = 0; i < nbb_cells.length; ++i) {\n",
       "                    if (nbb_cells[i].input_prompt_number == nbb_cell_id) {\n",
       "                        if (nbb_cells[i].get_text() == nbb_unformatted_code) {\n",
       "                             nbb_cells[i].set_text(nbb_formatted_code);\n",
       "                        }\n",
       "                        break;\n",
       "                    }\n",
       "                }\n",
       "            }, 500);\n",
       "            "
      ],
      "text/plain": [
       "<IPython.core.display.Javascript object>"
      ]
     },
     "metadata": {},
     "output_type": "display_data"
    }
   ],
   "source": [
    "nyc[\"ArrivalProximityText\"].value_counts()"
   ]
  },
  {
   "cell_type": "code",
   "execution_count": 37,
   "metadata": {},
   "outputs": [
    {
     "data": {
      "application/javascript": [
       "\n",
       "            setTimeout(function() {\n",
       "                var nbb_cell_id = 37;\n",
       "                var nbb_unformatted_code = \"nyc[\\\"ArrivalProximityText\\\"] = pd.to_numeric(nyc[\\\"ArrivalProximityText\\\"])\";\n",
       "                var nbb_formatted_code = \"nyc[\\\"ArrivalProximityText\\\"] = pd.to_numeric(nyc[\\\"ArrivalProximityText\\\"])\";\n",
       "                var nbb_cells = Jupyter.notebook.get_cells();\n",
       "                for (var i = 0; i < nbb_cells.length; ++i) {\n",
       "                    if (nbb_cells[i].input_prompt_number == nbb_cell_id) {\n",
       "                        if (nbb_cells[i].get_text() == nbb_unformatted_code) {\n",
       "                             nbb_cells[i].set_text(nbb_formatted_code);\n",
       "                        }\n",
       "                        break;\n",
       "                    }\n",
       "                }\n",
       "            }, 500);\n",
       "            "
      ],
      "text/plain": [
       "<IPython.core.display.Javascript object>"
      ]
     },
     "metadata": {},
     "output_type": "display_data"
    }
   ],
   "source": [
    "nyc[\"ArrivalProximityText\"] = pd.to_numeric(nyc[\"ArrivalProximityText\"])"
   ]
  },
  {
   "cell_type": "code",
   "execution_count": 38,
   "metadata": {},
   "outputs": [
    {
     "data": {
      "text/plain": [
       "DirectionRef                      int64\n",
       "PublishedLineName                object\n",
       "OriginName                       object\n",
       "OriginLat                       float64\n",
       "OriginLong                      float64\n",
       "DestinationName                  object\n",
       "DestinationLat                  float64\n",
       "DestinationLong                 float64\n",
       "VehicleRef                       object\n",
       "VehicleLocation.Latitude        float64\n",
       "VehicleLocation.Longitude       float64\n",
       "NextStopPointName                object\n",
       "ArrivalProximityText            float64\n",
       "DistanceFromStop                float64\n",
       "RecordedAtTimeHour                int64\n",
       "RecordedAtTimeMinute              int64\n",
       "RecordedAtTimeSecond              int64\n",
       "RecordedAtTimeDayofWeek           int64\n",
       "RecordedAtTimeMonth               int64\n",
       "ExpectedArrivalTimeHour           int64\n",
       "ExpectedArrivalTimeMinute         int64\n",
       "ExpectedArrivalTimeSecond         int64\n",
       "ExpectedArrivalTimeDayofWeek      int64\n",
       "ExpectedArrivalTimeMonth          int64\n",
       "ScheduledArrivalTimeHour          int64\n",
       "ScheduledArrivalTimeMinute        int64\n",
       "ScheduledArrivalTimeSecond        int64\n",
       "dtype: object"
      ]
     },
     "execution_count": 38,
     "metadata": {},
     "output_type": "execute_result"
    },
    {
     "data": {
      "application/javascript": [
       "\n",
       "            setTimeout(function() {\n",
       "                var nbb_cell_id = 38;\n",
       "                var nbb_unformatted_code = \"nyc.dtypes\";\n",
       "                var nbb_formatted_code = \"nyc.dtypes\";\n",
       "                var nbb_cells = Jupyter.notebook.get_cells();\n",
       "                for (var i = 0; i < nbb_cells.length; ++i) {\n",
       "                    if (nbb_cells[i].input_prompt_number == nbb_cell_id) {\n",
       "                        if (nbb_cells[i].get_text() == nbb_unformatted_code) {\n",
       "                             nbb_cells[i].set_text(nbb_formatted_code);\n",
       "                        }\n",
       "                        break;\n",
       "                    }\n",
       "                }\n",
       "            }, 500);\n",
       "            "
      ],
      "text/plain": [
       "<IPython.core.display.Javascript object>"
      ]
     },
     "metadata": {},
     "output_type": "display_data"
    }
   ],
   "source": [
    "nyc.dtypes"
   ]
  },
  {
   "cell_type": "markdown",
   "metadata": {},
   "source": [
    "#### Dropping features that will not be used in clustering"
   ]
  },
  {
   "cell_type": "code",
   "execution_count": 39,
   "metadata": {},
   "outputs": [
    {
     "data": {
      "application/javascript": [
       "\n",
       "            setTimeout(function() {\n",
       "                var nbb_cell_id = 39;\n",
       "                var nbb_unformatted_code = \"# Create copy of data frame and rename to be used for clustering\\nnyc_clust = nyc.copy()\";\n",
       "                var nbb_formatted_code = \"# Create copy of data frame and rename to be used for clustering\\nnyc_clust = nyc.copy()\";\n",
       "                var nbb_cells = Jupyter.notebook.get_cells();\n",
       "                for (var i = 0; i < nbb_cells.length; ++i) {\n",
       "                    if (nbb_cells[i].input_prompt_number == nbb_cell_id) {\n",
       "                        if (nbb_cells[i].get_text() == nbb_unformatted_code) {\n",
       "                             nbb_cells[i].set_text(nbb_formatted_code);\n",
       "                        }\n",
       "                        break;\n",
       "                    }\n",
       "                }\n",
       "            }, 500);\n",
       "            "
      ],
      "text/plain": [
       "<IPython.core.display.Javascript object>"
      ]
     },
     "metadata": {},
     "output_type": "display_data"
    }
   ],
   "source": [
    "# Create copy of data frame and rename to be used for clustering\n",
    "nyc_clust = nyc.copy()"
   ]
  },
  {
   "cell_type": "code",
   "execution_count": 40,
   "metadata": {},
   "outputs": [
    {
     "data": {
      "application/javascript": [
       "\n",
       "            setTimeout(function() {\n",
       "                var nbb_cell_id = 40;\n",
       "                var nbb_unformatted_code = \"# Since we have Latitude and Longitude for both Origin and Destination, drop origin/destination name\\nnyc_clust = nyc_clust.drop(columns=[\\\"OriginName\\\", \\\"DestinationName\\\"])\";\n",
       "                var nbb_formatted_code = \"# Since we have Latitude and Longitude for both Origin and Destination, drop origin/destination name\\nnyc_clust = nyc_clust.drop(columns=[\\\"OriginName\\\", \\\"DestinationName\\\"])\";\n",
       "                var nbb_cells = Jupyter.notebook.get_cells();\n",
       "                for (var i = 0; i < nbb_cells.length; ++i) {\n",
       "                    if (nbb_cells[i].input_prompt_number == nbb_cell_id) {\n",
       "                        if (nbb_cells[i].get_text() == nbb_unformatted_code) {\n",
       "                             nbb_cells[i].set_text(nbb_formatted_code);\n",
       "                        }\n",
       "                        break;\n",
       "                    }\n",
       "                }\n",
       "            }, 500);\n",
       "            "
      ],
      "text/plain": [
       "<IPython.core.display.Javascript object>"
      ]
     },
     "metadata": {},
     "output_type": "display_data"
    }
   ],
   "source": [
    "# Since we have Latitude and Longitude for both Origin and Destination, drop origin/destination name\n",
    "nyc_clust = nyc_clust.drop(columns=[\"OriginName\", \"DestinationName\"])"
   ]
  },
  {
   "cell_type": "code",
   "execution_count": 41,
   "metadata": {
    "scrolled": true
   },
   "outputs": [
    {
     "data": {
      "text/plain": [
       "DirectionRef                      int64\n",
       "PublishedLineName                object\n",
       "OriginLat                       float64\n",
       "OriginLong                      float64\n",
       "DestinationLat                  float64\n",
       "DestinationLong                 float64\n",
       "VehicleRef                       object\n",
       "VehicleLocation.Latitude        float64\n",
       "VehicleLocation.Longitude       float64\n",
       "NextStopPointName                object\n",
       "ArrivalProximityText            float64\n",
       "DistanceFromStop                float64\n",
       "RecordedAtTimeHour                int64\n",
       "RecordedAtTimeMinute              int64\n",
       "RecordedAtTimeSecond              int64\n",
       "RecordedAtTimeDayofWeek           int64\n",
       "RecordedAtTimeMonth               int64\n",
       "ExpectedArrivalTimeHour           int64\n",
       "ExpectedArrivalTimeMinute         int64\n",
       "ExpectedArrivalTimeSecond         int64\n",
       "ExpectedArrivalTimeDayofWeek      int64\n",
       "ExpectedArrivalTimeMonth          int64\n",
       "ScheduledArrivalTimeHour          int64\n",
       "ScheduledArrivalTimeMinute        int64\n",
       "ScheduledArrivalTimeSecond        int64\n",
       "dtype: object"
      ]
     },
     "execution_count": 41,
     "metadata": {},
     "output_type": "execute_result"
    },
    {
     "data": {
      "application/javascript": [
       "\n",
       "            setTimeout(function() {\n",
       "                var nbb_cell_id = 41;\n",
       "                var nbb_unformatted_code = \"# published line name (drop for clustering/one hot encode)\\n# vehicle ref (drop for clustering/one hot encode)\\n# next stop point name (drop for clustering/one hot encode)\\n# arrival proximity text (change to numeric but unsure how)\\nnyc_clust.dtypes\";\n",
       "                var nbb_formatted_code = \"# published line name (drop for clustering/one hot encode)\\n# vehicle ref (drop for clustering/one hot encode)\\n# next stop point name (drop for clustering/one hot encode)\\n# arrival proximity text (change to numeric but unsure how)\\nnyc_clust.dtypes\";\n",
       "                var nbb_cells = Jupyter.notebook.get_cells();\n",
       "                for (var i = 0; i < nbb_cells.length; ++i) {\n",
       "                    if (nbb_cells[i].input_prompt_number == nbb_cell_id) {\n",
       "                        if (nbb_cells[i].get_text() == nbb_unformatted_code) {\n",
       "                             nbb_cells[i].set_text(nbb_formatted_code);\n",
       "                        }\n",
       "                        break;\n",
       "                    }\n",
       "                }\n",
       "            }, 500);\n",
       "            "
      ],
      "text/plain": [
       "<IPython.core.display.Javascript object>"
      ]
     },
     "metadata": {},
     "output_type": "display_data"
    }
   ],
   "source": [
    "# published line name (drop for clustering/one hot encode)\n",
    "# vehicle ref (drop for clustering/one hot encode)\n",
    "# next stop point name (drop for clustering/one hot encode)\n",
    "# arrival proximity text (change to numeric but unsure how)\n",
    "nyc_clust.dtypes"
   ]
  },
  {
   "cell_type": "code",
   "execution_count": 42,
   "metadata": {},
   "outputs": [
    {
     "data": {
      "text/html": [
       "<div>\n",
       "<style scoped>\n",
       "    .dataframe tbody tr th:only-of-type {\n",
       "        vertical-align: middle;\n",
       "    }\n",
       "\n",
       "    .dataframe tbody tr th {\n",
       "        vertical-align: top;\n",
       "    }\n",
       "\n",
       "    .dataframe thead th {\n",
       "        text-align: right;\n",
       "    }\n",
       "</style>\n",
       "<table border=\"1\" class=\"dataframe\">\n",
       "  <thead>\n",
       "    <tr style=\"text-align: right;\">\n",
       "      <th></th>\n",
       "      <th>DirectionRef</th>\n",
       "      <th>PublishedLineName</th>\n",
       "      <th>OriginLat</th>\n",
       "      <th>OriginLong</th>\n",
       "      <th>DestinationLat</th>\n",
       "      <th>DestinationLong</th>\n",
       "      <th>VehicleRef</th>\n",
       "      <th>VehicleLocation.Latitude</th>\n",
       "      <th>VehicleLocation.Longitude</th>\n",
       "      <th>NextStopPointName</th>\n",
       "      <th>...</th>\n",
       "      <th>RecordedAtTimeDayofWeek</th>\n",
       "      <th>RecordedAtTimeMonth</th>\n",
       "      <th>ExpectedArrivalTimeHour</th>\n",
       "      <th>ExpectedArrivalTimeMinute</th>\n",
       "      <th>ExpectedArrivalTimeSecond</th>\n",
       "      <th>ExpectedArrivalTimeDayofWeek</th>\n",
       "      <th>ExpectedArrivalTimeMonth</th>\n",
       "      <th>ScheduledArrivalTimeHour</th>\n",
       "      <th>ScheduledArrivalTimeMinute</th>\n",
       "      <th>ScheduledArrivalTimeSecond</th>\n",
       "    </tr>\n",
       "  </thead>\n",
       "  <tbody>\n",
       "    <tr>\n",
       "      <th>4869338</th>\n",
       "      <td>1</td>\n",
       "      <td>M2</td>\n",
       "      <td>40.840644</td>\n",
       "      <td>-73.938543</td>\n",
       "      <td>40.730280</td>\n",
       "      <td>-73.990532</td>\n",
       "      <td>NYCT_3855</td>\n",
       "      <td>40.730290</td>\n",
       "      <td>-73.990592</td>\n",
       "      <td>4 AV/E 9 ST</td>\n",
       "      <td>...</td>\n",
       "      <td>0</td>\n",
       "      <td>10</td>\n",
       "      <td>9</td>\n",
       "      <td>18</td>\n",
       "      <td>17</td>\n",
       "      <td>0</td>\n",
       "      <td>10</td>\n",
       "      <td>9</td>\n",
       "      <td>9</td>\n",
       "      <td>0</td>\n",
       "    </tr>\n",
       "    <tr>\n",
       "      <th>1745636</th>\n",
       "      <td>0</td>\n",
       "      <td>Bx6</td>\n",
       "      <td>40.836311</td>\n",
       "      <td>-73.948435</td>\n",
       "      <td>40.810086</td>\n",
       "      <td>-73.876396</td>\n",
       "      <td>NYCT_708</td>\n",
       "      <td>40.827586</td>\n",
       "      <td>-73.925189</td>\n",
       "      <td>E 161 ST/GERARD AV</td>\n",
       "      <td>...</td>\n",
       "      <td>0</td>\n",
       "      <td>10</td>\n",
       "      <td>9</td>\n",
       "      <td>18</td>\n",
       "      <td>17</td>\n",
       "      <td>0</td>\n",
       "      <td>10</td>\n",
       "      <td>7</td>\n",
       "      <td>42</td>\n",
       "      <td>0</td>\n",
       "    </tr>\n",
       "    <tr>\n",
       "      <th>865364</th>\n",
       "      <td>1</td>\n",
       "      <td>Q3</td>\n",
       "      <td>40.707557</td>\n",
       "      <td>-73.795502</td>\n",
       "      <td>40.647137</td>\n",
       "      <td>-73.779426</td>\n",
       "      <td>NYCT_8093</td>\n",
       "      <td>40.709201</td>\n",
       "      <td>-73.797272</td>\n",
       "      <td>HILLSIDE AV/169 ST</td>\n",
       "      <td>...</td>\n",
       "      <td>2</td>\n",
       "      <td>10</td>\n",
       "      <td>20</td>\n",
       "      <td>6</td>\n",
       "      <td>49</td>\n",
       "      <td>2</td>\n",
       "      <td>10</td>\n",
       "      <td>20</td>\n",
       "      <td>5</td>\n",
       "      <td>51</td>\n",
       "    </tr>\n",
       "    <tr>\n",
       "      <th>2514738</th>\n",
       "      <td>1</td>\n",
       "      <td>Bx5</td>\n",
       "      <td>40.851831</td>\n",
       "      <td>-73.827273</td>\n",
       "      <td>40.824580</td>\n",
       "      <td>-73.891803</td>\n",
       "      <td>NYCT_6107</td>\n",
       "      <td>40.827123</td>\n",
       "      <td>-73.849920</td>\n",
       "      <td>CASTLE HILL AV/BRUCKNER BL</td>\n",
       "      <td>...</td>\n",
       "      <td>3</td>\n",
       "      <td>10</td>\n",
       "      <td>10</td>\n",
       "      <td>48</td>\n",
       "      <td>15</td>\n",
       "      <td>3</td>\n",
       "      <td>10</td>\n",
       "      <td>10</td>\n",
       "      <td>38</td>\n",
       "      <td>0</td>\n",
       "    </tr>\n",
       "    <tr>\n",
       "      <th>656792</th>\n",
       "      <td>0</td>\n",
       "      <td>Bx33</td>\n",
       "      <td>40.816959</td>\n",
       "      <td>-73.947806</td>\n",
       "      <td>40.799650</td>\n",
       "      <td>-73.911600</td>\n",
       "      <td>NYCT_7685</td>\n",
       "      <td>40.799527</td>\n",
       "      <td>-73.911785</td>\n",
       "      <td>WALNUT AV/E 133 ST</td>\n",
       "      <td>...</td>\n",
       "      <td>2</td>\n",
       "      <td>10</td>\n",
       "      <td>5</td>\n",
       "      <td>9</td>\n",
       "      <td>19</td>\n",
       "      <td>2</td>\n",
       "      <td>10</td>\n",
       "      <td>5</td>\n",
       "      <td>6</td>\n",
       "      <td>0</td>\n",
       "    </tr>\n",
       "  </tbody>\n",
       "</table>\n",
       "<p>5 rows × 25 columns</p>\n",
       "</div>"
      ],
      "text/plain": [
       "         DirectionRef PublishedLineName  OriginLat  OriginLong  \\\n",
       "4869338             1                M2  40.840644  -73.938543   \n",
       "1745636             0               Bx6  40.836311  -73.948435   \n",
       "865364              1                Q3  40.707557  -73.795502   \n",
       "2514738             1               Bx5  40.851831  -73.827273   \n",
       "656792              0              Bx33  40.816959  -73.947806   \n",
       "\n",
       "         DestinationLat  DestinationLong VehicleRef  VehicleLocation.Latitude  \\\n",
       "4869338       40.730280       -73.990532  NYCT_3855                 40.730290   \n",
       "1745636       40.810086       -73.876396   NYCT_708                 40.827586   \n",
       "865364        40.647137       -73.779426  NYCT_8093                 40.709201   \n",
       "2514738       40.824580       -73.891803  NYCT_6107                 40.827123   \n",
       "656792        40.799650       -73.911600  NYCT_7685                 40.799527   \n",
       "\n",
       "         VehicleLocation.Longitude           NextStopPointName  ...  \\\n",
       "4869338                 -73.990592                 4 AV/E 9 ST  ...   \n",
       "1745636                 -73.925189          E 161 ST/GERARD AV  ...   \n",
       "865364                  -73.797272          HILLSIDE AV/169 ST  ...   \n",
       "2514738                 -73.849920  CASTLE HILL AV/BRUCKNER BL  ...   \n",
       "656792                  -73.911785          WALNUT AV/E 133 ST  ...   \n",
       "\n",
       "         RecordedAtTimeDayofWeek  RecordedAtTimeMonth  \\\n",
       "4869338                        0                   10   \n",
       "1745636                        0                   10   \n",
       "865364                         2                   10   \n",
       "2514738                        3                   10   \n",
       "656792                         2                   10   \n",
       "\n",
       "         ExpectedArrivalTimeHour  ExpectedArrivalTimeMinute  \\\n",
       "4869338                        9                         18   \n",
       "1745636                        9                         18   \n",
       "865364                        20                          6   \n",
       "2514738                       10                         48   \n",
       "656792                         5                          9   \n",
       "\n",
       "         ExpectedArrivalTimeSecond  ExpectedArrivalTimeDayofWeek  \\\n",
       "4869338                         17                             0   \n",
       "1745636                         17                             0   \n",
       "865364                          49                             2   \n",
       "2514738                         15                             3   \n",
       "656792                          19                             2   \n",
       "\n",
       "         ExpectedArrivalTimeMonth  ScheduledArrivalTimeHour  \\\n",
       "4869338                        10                         9   \n",
       "1745636                        10                         7   \n",
       "865364                         10                        20   \n",
       "2514738                        10                        10   \n",
       "656792                         10                         5   \n",
       "\n",
       "         ScheduledArrivalTimeMinute  ScheduledArrivalTimeSecond  \n",
       "4869338                           9                           0  \n",
       "1745636                          42                           0  \n",
       "865364                            5                          51  \n",
       "2514738                          38                           0  \n",
       "656792                            6                           0  \n",
       "\n",
       "[5 rows x 25 columns]"
      ]
     },
     "execution_count": 42,
     "metadata": {},
     "output_type": "execute_result"
    },
    {
     "data": {
      "application/javascript": [
       "\n",
       "            setTimeout(function() {\n",
       "                var nbb_cell_id = 42;\n",
       "                var nbb_unformatted_code = \"nyc_clust.head()\";\n",
       "                var nbb_formatted_code = \"nyc_clust.head()\";\n",
       "                var nbb_cells = Jupyter.notebook.get_cells();\n",
       "                for (var i = 0; i < nbb_cells.length; ++i) {\n",
       "                    if (nbb_cells[i].input_prompt_number == nbb_cell_id) {\n",
       "                        if (nbb_cells[i].get_text() == nbb_unformatted_code) {\n",
       "                             nbb_cells[i].set_text(nbb_formatted_code);\n",
       "                        }\n",
       "                        break;\n",
       "                    }\n",
       "                }\n",
       "            }, 500);\n",
       "            "
      ],
      "text/plain": [
       "<IPython.core.display.Javascript object>"
      ]
     },
     "metadata": {},
     "output_type": "display_data"
    }
   ],
   "source": [
    "nyc_clust.head()"
   ]
  },
  {
   "cell_type": "markdown",
   "metadata": {},
   "source": [
    "# Clustering (by dropping non numical values) "
   ]
  },
  {
   "cell_type": "code",
   "execution_count": 43,
   "metadata": {},
   "outputs": [
    {
     "data": {
      "application/javascript": [
       "\n",
       "            setTimeout(function() {\n",
       "                var nbb_cell_id = 43;\n",
       "                var nbb_unformatted_code = \"nyc_clust = nyc_clust.drop(\\n    columns=[\\\"PublishedLineName\\\", \\\"VehicleRef\\\", \\\"NextStopPointName\\\"]\\n)\";\n",
       "                var nbb_formatted_code = \"nyc_clust = nyc_clust.drop(\\n    columns=[\\\"PublishedLineName\\\", \\\"VehicleRef\\\", \\\"NextStopPointName\\\"]\\n)\";\n",
       "                var nbb_cells = Jupyter.notebook.get_cells();\n",
       "                for (var i = 0; i < nbb_cells.length; ++i) {\n",
       "                    if (nbb_cells[i].input_prompt_number == nbb_cell_id) {\n",
       "                        if (nbb_cells[i].get_text() == nbb_unformatted_code) {\n",
       "                             nbb_cells[i].set_text(nbb_formatted_code);\n",
       "                        }\n",
       "                        break;\n",
       "                    }\n",
       "                }\n",
       "            }, 500);\n",
       "            "
      ],
      "text/plain": [
       "<IPython.core.display.Javascript object>"
      ]
     },
     "metadata": {},
     "output_type": "display_data"
    }
   ],
   "source": [
    "nyc_clust = nyc_clust.drop(\n",
    "    columns=[\"PublishedLineName\", \"VehicleRef\", \"NextStopPointName\"]\n",
    ")"
   ]
  },
  {
   "cell_type": "markdown",
   "metadata": {},
   "source": [
    "### KMeans"
   ]
  },
  {
   "cell_type": "code",
   "execution_count": 51,
   "metadata": {},
   "outputs": [
    {
     "data": {
      "text/plain": [
       "KMeans(algorithm='auto', copy_x=True, init='k-means++', max_iter=300,\n",
       "       n_clusters=4, n_init=10, n_jobs=None, precompute_distances='auto',\n",
       "       random_state=None, tol=0.0001, verbose=0)"
      ]
     },
     "execution_count": 51,
     "metadata": {},
     "output_type": "execute_result"
    },
    {
     "data": {
      "application/javascript": [
       "\n",
       "            setTimeout(function() {\n",
       "                var nbb_cell_id = 51;\n",
       "                var nbb_unformatted_code = \"km = KMeans(n_clusters=4)\\nkm.fit(nyc_clust)\";\n",
       "                var nbb_formatted_code = \"km = KMeans(n_clusters=4)\\nkm.fit(nyc_clust)\";\n",
       "                var nbb_cells = Jupyter.notebook.get_cells();\n",
       "                for (var i = 0; i < nbb_cells.length; ++i) {\n",
       "                    if (nbb_cells[i].input_prompt_number == nbb_cell_id) {\n",
       "                        if (nbb_cells[i].get_text() == nbb_unformatted_code) {\n",
       "                             nbb_cells[i].set_text(nbb_formatted_code);\n",
       "                        }\n",
       "                        break;\n",
       "                    }\n",
       "                }\n",
       "            }, 500);\n",
       "            "
      ],
      "text/plain": [
       "<IPython.core.display.Javascript object>"
      ]
     },
     "metadata": {},
     "output_type": "display_data"
    },
    {
     "data": {
      "application/javascript": [
       "\n",
       "            setTimeout(function() {\n",
       "                var nbb_cell_id = 51;\n",
       "                var nbb_unformatted_code = \"km = KMeans(n_clusters=4)\\nkm.fit(nyc_clust)\";\n",
       "                var nbb_formatted_code = \"km = KMeans(n_clusters=4)\\nkm.fit(nyc_clust)\";\n",
       "                var nbb_cells = Jupyter.notebook.get_cells();\n",
       "                for (var i = 0; i < nbb_cells.length; ++i) {\n",
       "                    if (nbb_cells[i].input_prompt_number == nbb_cell_id) {\n",
       "                        if (nbb_cells[i].get_text() == nbb_unformatted_code) {\n",
       "                             nbb_cells[i].set_text(nbb_formatted_code);\n",
       "                        }\n",
       "                        break;\n",
       "                    }\n",
       "                }\n",
       "            }, 500);\n",
       "            "
      ],
      "text/plain": [
       "<IPython.core.display.Javascript object>"
      ]
     },
     "metadata": {},
     "output_type": "display_data"
    }
   ],
   "source": [
    "km = KMeans(n_clusters=4)\n",
    "km.fit(nyc_clust)"
   ]
  },
  {
   "cell_type": "code",
   "execution_count": null,
   "metadata": {},
   "outputs": [],
   "source": [
    "labels = km.fit_predict(nyc_clust)\n",
    "print(metrics.silhouette_score(nyc_clust, labels, metric=\"euclidean\"))"
   ]
  },
  {
   "cell_type": "markdown",
   "metadata": {},
   "source": [
    "### DBSCAN"
   ]
  },
  {
   "cell_type": "code",
   "execution_count": null,
   "metadata": {},
   "outputs": [],
   "source": []
  },
  {
   "cell_type": "markdown",
   "metadata": {},
   "source": [
    "### Agglomerative"
   ]
  },
  {
   "cell_type": "code",
   "execution_count": null,
   "metadata": {},
   "outputs": [],
   "source": []
  },
  {
   "cell_type": "markdown",
   "metadata": {},
   "source": [
    "### GMM"
   ]
  },
  {
   "cell_type": "code",
   "execution_count": null,
   "metadata": {},
   "outputs": [],
   "source": []
  }
 ],
 "metadata": {
  "kernelspec": {
   "display_name": "Python 3",
   "language": "python",
   "name": "python3"
  },
  "language_info": {
   "codemirror_mode": {
    "name": "ipython",
    "version": 3
   },
   "file_extension": ".py",
   "mimetype": "text/x-python",
   "name": "python",
   "nbconvert_exporter": "python",
   "pygments_lexer": "ipython3",
   "version": "3.7.6"
  }
 },
 "nbformat": 4,
 "nbformat_minor": 4
}
