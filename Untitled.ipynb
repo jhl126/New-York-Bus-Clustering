{
 "cells": [
  {
   "cell_type": "code",
   "execution_count": 2,
   "metadata": {},
   "outputs": [
    {
     "data": {
      "text/plain": [
       "(6865376, 17)"
      ]
     },
     "execution_count": 2,
     "metadata": {},
     "output_type": "execute_result"
    }
   ],
   "source": [
    "import pandas as pd\n",
    "# filepath = \"C:/Users/jlim7/OneDrive/Documents/GitHub/New-York-Bust-Clustering/datafiles/mta_1710.csv\"\n",
    "filepath = \"mta_1710.csv\"\n",
    "# nyc = pd.read_csv(filepath, error_bad_lines=False)\n",
    "# nyc.to_csv(\"mta_1710.csv\", index=False)\n",
    "nyc = pd.read_csv(filepath)\n",
    "nyc.shape"
   ]
  }
 ],
 "metadata": {
  "kernelspec": {
   "display_name": "Python 3",
   "language": "python",
   "name": "python3"
  },
  "language_info": {
   "codemirror_mode": {
    "name": "ipython",
    "version": 3
   },
   "file_extension": ".py",
   "mimetype": "text/x-python",
   "name": "python",
   "nbconvert_exporter": "python",
   "pygments_lexer": "ipython3",
   "version": "3.7.6"
  }
 },
 "nbformat": 4,
 "nbformat_minor": 4
}
